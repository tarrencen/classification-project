{
 "cells": [
  {
   "cell_type": "code",
   "execution_count": 1,
   "metadata": {},
   "outputs": [
    {
     "name": "stdout",
     "output_type": "stream",
     "text": [
      "Reading from CSV file...\n"
     ]
    }
   ],
   "source": [
    "#import main processing libraries\n",
    "import pandas as pd\n",
    "import numpy as np\n",
    "\n",
    "#import visualization libraries\n",
    "import matplotlib.pyplot as plt\n",
    "import seaborn as sns\n",
    "import graphviz\n",
    "\n",
    "#import stats for statistical analysis\n",
    "import scipy.stats as stats\n",
    "\n",
    "#import my own functions for data acquisition and preparation\n",
    "from acquire import get_telco_data\n",
    "from prep import prep_telco\n",
    "from env import get_db_url\n",
    "\n",
    "# import warnings filter to ignore pesky warnings\n",
    "import warnings\n",
    "warnings.filterwarnings('ignore')\n"
   ]
  },
  {
   "cell_type": "markdown",
   "metadata": {},
   "source": [
    "### Initial acquisition and exploration"
   ]
  },
  {
   "cell_type": "code",
   "execution_count": 18,
   "metadata": {},
   "outputs": [
    {
     "name": "stdout",
     "output_type": "stream",
     "text": [
      "Reading from CSV file...\n",
      "<class 'pandas.core.frame.DataFrame'>\n",
      "RangeIndex: 7043 entries, 0 to 7042\n",
      "Data columns (total 27 columns):\n",
      " #   Column                      Non-Null Count  Dtype  \n",
      "---  ------                      --------------  -----  \n",
      " 0   customer_id                 7043 non-null   object \n",
      " 1   gender                      7043 non-null   object \n",
      " 2   senior_citizen              7043 non-null   int64  \n",
      " 3   partner                     7043 non-null   object \n",
      " 4   dependents                  7043 non-null   object \n",
      " 5   tenure                      7043 non-null   int64  \n",
      " 6   phone_service               7043 non-null   object \n",
      " 7   multiple_lines              7043 non-null   object \n",
      " 8   internet_service_type_id    7043 non-null   int64  \n",
      " 9   online_security             7043 non-null   object \n",
      " 10  online_backup               7043 non-null   object \n",
      " 11  device_protection           7043 non-null   object \n",
      " 12  tech_support                7043 non-null   object \n",
      " 13  streaming_tv                7043 non-null   object \n",
      " 14  streaming_movies            7043 non-null   object \n",
      " 15  contract_type_id            7043 non-null   int64  \n",
      " 16  paperless_billing           7043 non-null   object \n",
      " 17  payment_type_id             7043 non-null   int64  \n",
      " 18  monthly_charges             7043 non-null   float64\n",
      " 19  total_charges               7043 non-null   object \n",
      " 20  churn                       7043 non-null   object \n",
      " 21  contract_type_id.1          7043 non-null   int64  \n",
      " 22  contract_type               7043 non-null   object \n",
      " 23  payment_type_id.1           7043 non-null   int64  \n",
      " 24  payment_type                7043 non-null   object \n",
      " 25  internet_service_type_id.1  7043 non-null   int64  \n",
      " 26  internet_service_type       7043 non-null   object \n",
      "dtypes: float64(1), int64(8), object(18)\n",
      "memory usage: 1.5+ MB\n"
     ]
    },
    {
     "data": {
      "text/html": [
       "<div>\n",
       "<style scoped>\n",
       "    .dataframe tbody tr th:only-of-type {\n",
       "        vertical-align: middle;\n",
       "    }\n",
       "\n",
       "    .dataframe tbody tr th {\n",
       "        vertical-align: top;\n",
       "    }\n",
       "\n",
       "    .dataframe thead th {\n",
       "        text-align: right;\n",
       "    }\n",
       "</style>\n",
       "<table border=\"1\" class=\"dataframe\">\n",
       "  <thead>\n",
       "    <tr style=\"text-align: right;\">\n",
       "      <th></th>\n",
       "      <th>customer_id</th>\n",
       "      <th>gender</th>\n",
       "      <th>senior_citizen</th>\n",
       "      <th>partner</th>\n",
       "      <th>dependents</th>\n",
       "      <th>tenure</th>\n",
       "      <th>phone_service</th>\n",
       "      <th>multiple_lines</th>\n",
       "      <th>internet_service_type_id</th>\n",
       "      <th>online_security</th>\n",
       "      <th>online_backup</th>\n",
       "      <th>device_protection</th>\n",
       "      <th>tech_support</th>\n",
       "      <th>streaming_tv</th>\n",
       "      <th>streaming_movies</th>\n",
       "      <th>contract_type_id</th>\n",
       "      <th>paperless_billing</th>\n",
       "      <th>payment_type_id</th>\n",
       "      <th>monthly_charges</th>\n",
       "      <th>total_charges</th>\n",
       "      <th>churn</th>\n",
       "      <th>contract_type_id.1</th>\n",
       "      <th>contract_type</th>\n",
       "      <th>payment_type_id.1</th>\n",
       "      <th>payment_type</th>\n",
       "      <th>internet_service_type_id.1</th>\n",
       "      <th>internet_service_type</th>\n",
       "    </tr>\n",
       "  </thead>\n",
       "  <tbody>\n",
       "    <tr>\n",
       "      <th>0</th>\n",
       "      <td>0002-ORFBO</td>\n",
       "      <td>Female</td>\n",
       "      <td>0</td>\n",
       "      <td>Yes</td>\n",
       "      <td>Yes</td>\n",
       "      <td>9</td>\n",
       "      <td>Yes</td>\n",
       "      <td>No</td>\n",
       "      <td>1</td>\n",
       "      <td>No</td>\n",
       "      <td>Yes</td>\n",
       "      <td>No</td>\n",
       "      <td>Yes</td>\n",
       "      <td>Yes</td>\n",
       "      <td>No</td>\n",
       "      <td>2</td>\n",
       "      <td>Yes</td>\n",
       "      <td>2</td>\n",
       "      <td>65.6</td>\n",
       "      <td>593.3</td>\n",
       "      <td>No</td>\n",
       "      <td>2</td>\n",
       "      <td>One year</td>\n",
       "      <td>2</td>\n",
       "      <td>Mailed check</td>\n",
       "      <td>1</td>\n",
       "      <td>DSL</td>\n",
       "    </tr>\n",
       "    <tr>\n",
       "      <th>1</th>\n",
       "      <td>0003-MKNFE</td>\n",
       "      <td>Male</td>\n",
       "      <td>0</td>\n",
       "      <td>No</td>\n",
       "      <td>No</td>\n",
       "      <td>9</td>\n",
       "      <td>Yes</td>\n",
       "      <td>Yes</td>\n",
       "      <td>1</td>\n",
       "      <td>No</td>\n",
       "      <td>No</td>\n",
       "      <td>No</td>\n",
       "      <td>No</td>\n",
       "      <td>No</td>\n",
       "      <td>Yes</td>\n",
       "      <td>1</td>\n",
       "      <td>No</td>\n",
       "      <td>2</td>\n",
       "      <td>59.9</td>\n",
       "      <td>542.4</td>\n",
       "      <td>No</td>\n",
       "      <td>1</td>\n",
       "      <td>Month-to-month</td>\n",
       "      <td>2</td>\n",
       "      <td>Mailed check</td>\n",
       "      <td>1</td>\n",
       "      <td>DSL</td>\n",
       "    </tr>\n",
       "    <tr>\n",
       "      <th>2</th>\n",
       "      <td>0004-TLHLJ</td>\n",
       "      <td>Male</td>\n",
       "      <td>0</td>\n",
       "      <td>No</td>\n",
       "      <td>No</td>\n",
       "      <td>4</td>\n",
       "      <td>Yes</td>\n",
       "      <td>No</td>\n",
       "      <td>2</td>\n",
       "      <td>No</td>\n",
       "      <td>No</td>\n",
       "      <td>Yes</td>\n",
       "      <td>No</td>\n",
       "      <td>No</td>\n",
       "      <td>No</td>\n",
       "      <td>1</td>\n",
       "      <td>Yes</td>\n",
       "      <td>1</td>\n",
       "      <td>73.9</td>\n",
       "      <td>280.85</td>\n",
       "      <td>Yes</td>\n",
       "      <td>1</td>\n",
       "      <td>Month-to-month</td>\n",
       "      <td>1</td>\n",
       "      <td>Electronic check</td>\n",
       "      <td>2</td>\n",
       "      <td>Fiber optic</td>\n",
       "    </tr>\n",
       "    <tr>\n",
       "      <th>3</th>\n",
       "      <td>0011-IGKFF</td>\n",
       "      <td>Male</td>\n",
       "      <td>1</td>\n",
       "      <td>Yes</td>\n",
       "      <td>No</td>\n",
       "      <td>13</td>\n",
       "      <td>Yes</td>\n",
       "      <td>No</td>\n",
       "      <td>2</td>\n",
       "      <td>No</td>\n",
       "      <td>Yes</td>\n",
       "      <td>Yes</td>\n",
       "      <td>No</td>\n",
       "      <td>Yes</td>\n",
       "      <td>Yes</td>\n",
       "      <td>1</td>\n",
       "      <td>Yes</td>\n",
       "      <td>1</td>\n",
       "      <td>98.0</td>\n",
       "      <td>1237.85</td>\n",
       "      <td>Yes</td>\n",
       "      <td>1</td>\n",
       "      <td>Month-to-month</td>\n",
       "      <td>1</td>\n",
       "      <td>Electronic check</td>\n",
       "      <td>2</td>\n",
       "      <td>Fiber optic</td>\n",
       "    </tr>\n",
       "    <tr>\n",
       "      <th>4</th>\n",
       "      <td>0013-EXCHZ</td>\n",
       "      <td>Female</td>\n",
       "      <td>1</td>\n",
       "      <td>Yes</td>\n",
       "      <td>No</td>\n",
       "      <td>3</td>\n",
       "      <td>Yes</td>\n",
       "      <td>No</td>\n",
       "      <td>2</td>\n",
       "      <td>No</td>\n",
       "      <td>No</td>\n",
       "      <td>No</td>\n",
       "      <td>Yes</td>\n",
       "      <td>Yes</td>\n",
       "      <td>No</td>\n",
       "      <td>1</td>\n",
       "      <td>Yes</td>\n",
       "      <td>2</td>\n",
       "      <td>83.9</td>\n",
       "      <td>267.4</td>\n",
       "      <td>Yes</td>\n",
       "      <td>1</td>\n",
       "      <td>Month-to-month</td>\n",
       "      <td>2</td>\n",
       "      <td>Mailed check</td>\n",
       "      <td>2</td>\n",
       "      <td>Fiber optic</td>\n",
       "    </tr>\n",
       "  </tbody>\n",
       "</table>\n",
       "</div>"
      ],
      "text/plain": [
       "  customer_id  gender  senior_citizen partner dependents  tenure  \\\n",
       "0  0002-ORFBO  Female               0     Yes        Yes       9   \n",
       "1  0003-MKNFE    Male               0      No         No       9   \n",
       "2  0004-TLHLJ    Male               0      No         No       4   \n",
       "3  0011-IGKFF    Male               1     Yes         No      13   \n",
       "4  0013-EXCHZ  Female               1     Yes         No       3   \n",
       "\n",
       "  phone_service multiple_lines  internet_service_type_id online_security  \\\n",
       "0           Yes             No                         1              No   \n",
       "1           Yes            Yes                         1              No   \n",
       "2           Yes             No                         2              No   \n",
       "3           Yes             No                         2              No   \n",
       "4           Yes             No                         2              No   \n",
       "\n",
       "  online_backup device_protection tech_support streaming_tv streaming_movies  \\\n",
       "0           Yes                No          Yes          Yes               No   \n",
       "1            No                No           No           No              Yes   \n",
       "2            No               Yes           No           No               No   \n",
       "3           Yes               Yes           No          Yes              Yes   \n",
       "4            No                No          Yes          Yes               No   \n",
       "\n",
       "   contract_type_id paperless_billing  payment_type_id  monthly_charges  \\\n",
       "0                 2               Yes                2             65.6   \n",
       "1                 1                No                2             59.9   \n",
       "2                 1               Yes                1             73.9   \n",
       "3                 1               Yes                1             98.0   \n",
       "4                 1               Yes                2             83.9   \n",
       "\n",
       "  total_charges churn  contract_type_id.1   contract_type  payment_type_id.1  \\\n",
       "0         593.3    No                   2        One year                  2   \n",
       "1         542.4    No                   1  Month-to-month                  2   \n",
       "2        280.85   Yes                   1  Month-to-month                  1   \n",
       "3       1237.85   Yes                   1  Month-to-month                  1   \n",
       "4         267.4   Yes                   1  Month-to-month                  2   \n",
       "\n",
       "       payment_type  internet_service_type_id.1 internet_service_type  \n",
       "0      Mailed check                           1                   DSL  \n",
       "1      Mailed check                           1                   DSL  \n",
       "2  Electronic check                           2           Fiber optic  \n",
       "3  Electronic check                           2           Fiber optic  \n",
       "4      Mailed check                           2           Fiber optic  "
      ]
     },
     "execution_count": 18,
     "metadata": {},
     "output_type": "execute_result"
    }
   ],
   "source": [
    "telco_df = get_telco_data()\n",
    "\n",
    "telco_df.info()\n",
    "telco_df.head()"
   ]
  },
  {
   "cell_type": "code",
   "execution_count": null,
   "metadata": {},
   "outputs": [],
   "source": [
    "\n",
    "pd.set_option('display.max_columns', None) #View all columns when calling portions of df\n",
    "pd.set_option('display.max_rows', 250) #View all rows selected (up to user-determined limit) when calling portions of df\n"
   ]
  },
  {
   "cell_type": "code",
   "execution_count": 11,
   "metadata": {},
   "outputs": [
    {
     "data": {
      "text/html": [
       "<div>\n",
       "<style scoped>\n",
       "    .dataframe tbody tr th:only-of-type {\n",
       "        vertical-align: middle;\n",
       "    }\n",
       "\n",
       "    .dataframe tbody tr th {\n",
       "        vertical-align: top;\n",
       "    }\n",
       "\n",
       "    .dataframe thead th {\n",
       "        text-align: right;\n",
       "    }\n",
       "</style>\n",
       "<table border=\"1\" class=\"dataframe\">\n",
       "  <thead>\n",
       "    <tr style=\"text-align: right;\">\n",
       "      <th></th>\n",
       "      <th>senior_citizen</th>\n",
       "      <th>tenure</th>\n",
       "      <th>internet_service_type_id</th>\n",
       "      <th>contract_type_id</th>\n",
       "      <th>payment_type_id</th>\n",
       "      <th>monthly_charges</th>\n",
       "      <th>contract_type_id.1</th>\n",
       "      <th>payment_type_id.1</th>\n",
       "      <th>internet_service_type_id.1</th>\n",
       "    </tr>\n",
       "  </thead>\n",
       "  <tbody>\n",
       "    <tr>\n",
       "      <th>count</th>\n",
       "      <td>7043.000000</td>\n",
       "      <td>7043.000000</td>\n",
       "      <td>7043.000000</td>\n",
       "      <td>7043.000000</td>\n",
       "      <td>7043.000000</td>\n",
       "      <td>7043.000000</td>\n",
       "      <td>7043.000000</td>\n",
       "      <td>7043.000000</td>\n",
       "      <td>7043.000000</td>\n",
       "    </tr>\n",
       "    <tr>\n",
       "      <th>mean</th>\n",
       "      <td>0.162147</td>\n",
       "      <td>32.371149</td>\n",
       "      <td>1.872923</td>\n",
       "      <td>1.690473</td>\n",
       "      <td>2.315633</td>\n",
       "      <td>64.761692</td>\n",
       "      <td>1.690473</td>\n",
       "      <td>2.315633</td>\n",
       "      <td>1.872923</td>\n",
       "    </tr>\n",
       "    <tr>\n",
       "      <th>std</th>\n",
       "      <td>0.368612</td>\n",
       "      <td>24.559481</td>\n",
       "      <td>0.737796</td>\n",
       "      <td>0.833755</td>\n",
       "      <td>1.148907</td>\n",
       "      <td>30.090047</td>\n",
       "      <td>0.833755</td>\n",
       "      <td>1.148907</td>\n",
       "      <td>0.737796</td>\n",
       "    </tr>\n",
       "    <tr>\n",
       "      <th>min</th>\n",
       "      <td>0.000000</td>\n",
       "      <td>0.000000</td>\n",
       "      <td>1.000000</td>\n",
       "      <td>1.000000</td>\n",
       "      <td>1.000000</td>\n",
       "      <td>18.250000</td>\n",
       "      <td>1.000000</td>\n",
       "      <td>1.000000</td>\n",
       "      <td>1.000000</td>\n",
       "    </tr>\n",
       "    <tr>\n",
       "      <th>25%</th>\n",
       "      <td>0.000000</td>\n",
       "      <td>9.000000</td>\n",
       "      <td>1.000000</td>\n",
       "      <td>1.000000</td>\n",
       "      <td>1.000000</td>\n",
       "      <td>35.500000</td>\n",
       "      <td>1.000000</td>\n",
       "      <td>1.000000</td>\n",
       "      <td>1.000000</td>\n",
       "    </tr>\n",
       "    <tr>\n",
       "      <th>50%</th>\n",
       "      <td>0.000000</td>\n",
       "      <td>29.000000</td>\n",
       "      <td>2.000000</td>\n",
       "      <td>1.000000</td>\n",
       "      <td>2.000000</td>\n",
       "      <td>70.350000</td>\n",
       "      <td>1.000000</td>\n",
       "      <td>2.000000</td>\n",
       "      <td>2.000000</td>\n",
       "    </tr>\n",
       "    <tr>\n",
       "      <th>75%</th>\n",
       "      <td>0.000000</td>\n",
       "      <td>55.000000</td>\n",
       "      <td>2.000000</td>\n",
       "      <td>2.000000</td>\n",
       "      <td>3.000000</td>\n",
       "      <td>89.850000</td>\n",
       "      <td>2.000000</td>\n",
       "      <td>3.000000</td>\n",
       "      <td>2.000000</td>\n",
       "    </tr>\n",
       "    <tr>\n",
       "      <th>max</th>\n",
       "      <td>1.000000</td>\n",
       "      <td>72.000000</td>\n",
       "      <td>3.000000</td>\n",
       "      <td>3.000000</td>\n",
       "      <td>4.000000</td>\n",
       "      <td>118.750000</td>\n",
       "      <td>3.000000</td>\n",
       "      <td>4.000000</td>\n",
       "      <td>3.000000</td>\n",
       "    </tr>\n",
       "  </tbody>\n",
       "</table>\n",
       "</div>"
      ],
      "text/plain": [
       "       senior_citizen       tenure  internet_service_type_id  \\\n",
       "count     7043.000000  7043.000000               7043.000000   \n",
       "mean         0.162147    32.371149                  1.872923   \n",
       "std          0.368612    24.559481                  0.737796   \n",
       "min          0.000000     0.000000                  1.000000   \n",
       "25%          0.000000     9.000000                  1.000000   \n",
       "50%          0.000000    29.000000                  2.000000   \n",
       "75%          0.000000    55.000000                  2.000000   \n",
       "max          1.000000    72.000000                  3.000000   \n",
       "\n",
       "       contract_type_id  payment_type_id  monthly_charges  contract_type_id.1  \\\n",
       "count       7043.000000      7043.000000      7043.000000         7043.000000   \n",
       "mean           1.690473         2.315633        64.761692            1.690473   \n",
       "std            0.833755         1.148907        30.090047            0.833755   \n",
       "min            1.000000         1.000000        18.250000            1.000000   \n",
       "25%            1.000000         1.000000        35.500000            1.000000   \n",
       "50%            1.000000         2.000000        70.350000            1.000000   \n",
       "75%            2.000000         3.000000        89.850000            2.000000   \n",
       "max            3.000000         4.000000       118.750000            3.000000   \n",
       "\n",
       "       payment_type_id.1  internet_service_type_id.1  \n",
       "count        7043.000000                 7043.000000  \n",
       "mean            2.315633                    1.872923  \n",
       "std             1.148907                    0.737796  \n",
       "min             1.000000                    1.000000  \n",
       "25%             1.000000                    1.000000  \n",
       "50%             2.000000                    2.000000  \n",
       "75%             3.000000                    2.000000  \n",
       "max             4.000000                    3.000000  "
      ]
     },
     "execution_count": 11,
     "metadata": {},
     "output_type": "execute_result"
    }
   ],
   "source": [
    "telco_df.describe()"
   ]
  },
  {
   "cell_type": "code",
   "execution_count": 12,
   "metadata": {},
   "outputs": [
    {
     "data": {
      "text/html": [
       "<div>\n",
       "<style scoped>\n",
       "    .dataframe tbody tr th:only-of-type {\n",
       "        vertical-align: middle;\n",
       "    }\n",
       "\n",
       "    .dataframe tbody tr th {\n",
       "        vertical-align: top;\n",
       "    }\n",
       "\n",
       "    .dataframe thead th {\n",
       "        text-align: right;\n",
       "    }\n",
       "</style>\n",
       "<table border=\"1\" class=\"dataframe\">\n",
       "  <thead>\n",
       "    <tr style=\"text-align: right;\">\n",
       "      <th></th>\n",
       "      <th>senior_citizen</th>\n",
       "      <th>tenure</th>\n",
       "      <th>internet_service_type_id</th>\n",
       "      <th>contract_type_id</th>\n",
       "      <th>payment_type_id</th>\n",
       "      <th>monthly_charges</th>\n",
       "      <th>total_charges</th>\n",
       "      <th>gender_Male</th>\n",
       "      <th>partner_Yes</th>\n",
       "      <th>dependents_Yes</th>\n",
       "      <th>phone_service_Yes</th>\n",
       "      <th>multiple_lines_No phone service</th>\n",
       "      <th>multiple_lines_Yes</th>\n",
       "      <th>online_security_No internet service</th>\n",
       "      <th>online_security_Yes</th>\n",
       "      <th>online_backup_No internet service</th>\n",
       "      <th>online_backup_Yes</th>\n",
       "      <th>device_protection_No internet service</th>\n",
       "      <th>device_protection_Yes</th>\n",
       "      <th>tech_support_No internet service</th>\n",
       "      <th>tech_support_Yes</th>\n",
       "      <th>streaming_tv_No internet service</th>\n",
       "      <th>streaming_tv_Yes</th>\n",
       "      <th>streaming_movies_No internet service</th>\n",
       "      <th>streaming_movies_Yes</th>\n",
       "      <th>paperless_billing_Yes</th>\n",
       "      <th>churn_Yes</th>\n",
       "      <th>contract_type_One year</th>\n",
       "      <th>contract_type_Two year</th>\n",
       "      <th>payment_type_Credit card (automatic)</th>\n",
       "      <th>payment_type_Electronic check</th>\n",
       "      <th>payment_type_Mailed check</th>\n",
       "      <th>internet_service_type_Fiber optic</th>\n",
       "      <th>internet_service_type_None</th>\n",
       "    </tr>\n",
       "  </thead>\n",
       "  <tbody>\n",
       "    <tr>\n",
       "      <th>count</th>\n",
       "      <td>7032.000000</td>\n",
       "      <td>7032.000000</td>\n",
       "      <td>7032.000000</td>\n",
       "      <td>7032.000000</td>\n",
       "      <td>7032.000000</td>\n",
       "      <td>7032.000000</td>\n",
       "      <td>7032.000000</td>\n",
       "      <td>7032.000000</td>\n",
       "      <td>7032.000000</td>\n",
       "      <td>7032.000000</td>\n",
       "      <td>7032.000000</td>\n",
       "      <td>7032.000000</td>\n",
       "      <td>7032.000000</td>\n",
       "      <td>7032.000000</td>\n",
       "      <td>7032.000000</td>\n",
       "      <td>7032.000000</td>\n",
       "      <td>7032.000000</td>\n",
       "      <td>7032.000000</td>\n",
       "      <td>7032.000000</td>\n",
       "      <td>7032.000000</td>\n",
       "      <td>7032.000000</td>\n",
       "      <td>7032.000000</td>\n",
       "      <td>7032.000000</td>\n",
       "      <td>7032.000000</td>\n",
       "      <td>7032.000000</td>\n",
       "      <td>7032.000000</td>\n",
       "      <td>7032.000000</td>\n",
       "      <td>7032.000000</td>\n",
       "      <td>7032.000000</td>\n",
       "      <td>7032.000000</td>\n",
       "      <td>7032.000000</td>\n",
       "      <td>7032.000000</td>\n",
       "      <td>7032.000000</td>\n",
       "      <td>7032.000000</td>\n",
       "    </tr>\n",
       "    <tr>\n",
       "      <th>mean</th>\n",
       "      <td>0.162400</td>\n",
       "      <td>32.421786</td>\n",
       "      <td>1.872582</td>\n",
       "      <td>1.688567</td>\n",
       "      <td>2.315557</td>\n",
       "      <td>64.798208</td>\n",
       "      <td>2283.300441</td>\n",
       "      <td>0.504693</td>\n",
       "      <td>0.482509</td>\n",
       "      <td>0.298493</td>\n",
       "      <td>0.903299</td>\n",
       "      <td>0.096701</td>\n",
       "      <td>0.421928</td>\n",
       "      <td>0.216155</td>\n",
       "      <td>0.286547</td>\n",
       "      <td>0.216155</td>\n",
       "      <td>0.344852</td>\n",
       "      <td>0.216155</td>\n",
       "      <td>0.343857</td>\n",
       "      <td>0.216155</td>\n",
       "      <td>0.290102</td>\n",
       "      <td>0.216155</td>\n",
       "      <td>0.384386</td>\n",
       "      <td>0.216155</td>\n",
       "      <td>0.388367</td>\n",
       "      <td>0.592719</td>\n",
       "      <td>0.265785</td>\n",
       "      <td>0.209329</td>\n",
       "      <td>0.239619</td>\n",
       "      <td>0.216297</td>\n",
       "      <td>0.336320</td>\n",
       "      <td>0.228100</td>\n",
       "      <td>0.440273</td>\n",
       "      <td>0.216155</td>\n",
       "    </tr>\n",
       "    <tr>\n",
       "      <th>std</th>\n",
       "      <td>0.368844</td>\n",
       "      <td>24.545260</td>\n",
       "      <td>0.737271</td>\n",
       "      <td>0.832934</td>\n",
       "      <td>1.149523</td>\n",
       "      <td>30.085974</td>\n",
       "      <td>2266.771362</td>\n",
       "      <td>0.500014</td>\n",
       "      <td>0.499729</td>\n",
       "      <td>0.457629</td>\n",
       "      <td>0.295571</td>\n",
       "      <td>0.295571</td>\n",
       "      <td>0.493902</td>\n",
       "      <td>0.411650</td>\n",
       "      <td>0.452180</td>\n",
       "      <td>0.411650</td>\n",
       "      <td>0.475354</td>\n",
       "      <td>0.411650</td>\n",
       "      <td>0.475028</td>\n",
       "      <td>0.411650</td>\n",
       "      <td>0.453842</td>\n",
       "      <td>0.411650</td>\n",
       "      <td>0.486484</td>\n",
       "      <td>0.411650</td>\n",
       "      <td>0.487414</td>\n",
       "      <td>0.491363</td>\n",
       "      <td>0.441782</td>\n",
       "      <td>0.406858</td>\n",
       "      <td>0.426881</td>\n",
       "      <td>0.411748</td>\n",
       "      <td>0.472483</td>\n",
       "      <td>0.419637</td>\n",
       "      <td>0.496455</td>\n",
       "      <td>0.411650</td>\n",
       "    </tr>\n",
       "    <tr>\n",
       "      <th>min</th>\n",
       "      <td>0.000000</td>\n",
       "      <td>1.000000</td>\n",
       "      <td>1.000000</td>\n",
       "      <td>1.000000</td>\n",
       "      <td>1.000000</td>\n",
       "      <td>18.250000</td>\n",
       "      <td>18.800000</td>\n",
       "      <td>0.000000</td>\n",
       "      <td>0.000000</td>\n",
       "      <td>0.000000</td>\n",
       "      <td>0.000000</td>\n",
       "      <td>0.000000</td>\n",
       "      <td>0.000000</td>\n",
       "      <td>0.000000</td>\n",
       "      <td>0.000000</td>\n",
       "      <td>0.000000</td>\n",
       "      <td>0.000000</td>\n",
       "      <td>0.000000</td>\n",
       "      <td>0.000000</td>\n",
       "      <td>0.000000</td>\n",
       "      <td>0.000000</td>\n",
       "      <td>0.000000</td>\n",
       "      <td>0.000000</td>\n",
       "      <td>0.000000</td>\n",
       "      <td>0.000000</td>\n",
       "      <td>0.000000</td>\n",
       "      <td>0.000000</td>\n",
       "      <td>0.000000</td>\n",
       "      <td>0.000000</td>\n",
       "      <td>0.000000</td>\n",
       "      <td>0.000000</td>\n",
       "      <td>0.000000</td>\n",
       "      <td>0.000000</td>\n",
       "      <td>0.000000</td>\n",
       "    </tr>\n",
       "    <tr>\n",
       "      <th>25%</th>\n",
       "      <td>0.000000</td>\n",
       "      <td>9.000000</td>\n",
       "      <td>1.000000</td>\n",
       "      <td>1.000000</td>\n",
       "      <td>1.000000</td>\n",
       "      <td>35.587500</td>\n",
       "      <td>401.450000</td>\n",
       "      <td>0.000000</td>\n",
       "      <td>0.000000</td>\n",
       "      <td>0.000000</td>\n",
       "      <td>1.000000</td>\n",
       "      <td>0.000000</td>\n",
       "      <td>0.000000</td>\n",
       "      <td>0.000000</td>\n",
       "      <td>0.000000</td>\n",
       "      <td>0.000000</td>\n",
       "      <td>0.000000</td>\n",
       "      <td>0.000000</td>\n",
       "      <td>0.000000</td>\n",
       "      <td>0.000000</td>\n",
       "      <td>0.000000</td>\n",
       "      <td>0.000000</td>\n",
       "      <td>0.000000</td>\n",
       "      <td>0.000000</td>\n",
       "      <td>0.000000</td>\n",
       "      <td>0.000000</td>\n",
       "      <td>0.000000</td>\n",
       "      <td>0.000000</td>\n",
       "      <td>0.000000</td>\n",
       "      <td>0.000000</td>\n",
       "      <td>0.000000</td>\n",
       "      <td>0.000000</td>\n",
       "      <td>0.000000</td>\n",
       "      <td>0.000000</td>\n",
       "    </tr>\n",
       "    <tr>\n",
       "      <th>50%</th>\n",
       "      <td>0.000000</td>\n",
       "      <td>29.000000</td>\n",
       "      <td>2.000000</td>\n",
       "      <td>1.000000</td>\n",
       "      <td>2.000000</td>\n",
       "      <td>70.350000</td>\n",
       "      <td>1397.475000</td>\n",
       "      <td>1.000000</td>\n",
       "      <td>0.000000</td>\n",
       "      <td>0.000000</td>\n",
       "      <td>1.000000</td>\n",
       "      <td>0.000000</td>\n",
       "      <td>0.000000</td>\n",
       "      <td>0.000000</td>\n",
       "      <td>0.000000</td>\n",
       "      <td>0.000000</td>\n",
       "      <td>0.000000</td>\n",
       "      <td>0.000000</td>\n",
       "      <td>0.000000</td>\n",
       "      <td>0.000000</td>\n",
       "      <td>0.000000</td>\n",
       "      <td>0.000000</td>\n",
       "      <td>0.000000</td>\n",
       "      <td>0.000000</td>\n",
       "      <td>0.000000</td>\n",
       "      <td>1.000000</td>\n",
       "      <td>0.000000</td>\n",
       "      <td>0.000000</td>\n",
       "      <td>0.000000</td>\n",
       "      <td>0.000000</td>\n",
       "      <td>0.000000</td>\n",
       "      <td>0.000000</td>\n",
       "      <td>0.000000</td>\n",
       "      <td>0.000000</td>\n",
       "    </tr>\n",
       "    <tr>\n",
       "      <th>75%</th>\n",
       "      <td>0.000000</td>\n",
       "      <td>55.000000</td>\n",
       "      <td>2.000000</td>\n",
       "      <td>2.000000</td>\n",
       "      <td>3.000000</td>\n",
       "      <td>89.862500</td>\n",
       "      <td>3794.737500</td>\n",
       "      <td>1.000000</td>\n",
       "      <td>1.000000</td>\n",
       "      <td>1.000000</td>\n",
       "      <td>1.000000</td>\n",
       "      <td>0.000000</td>\n",
       "      <td>1.000000</td>\n",
       "      <td>0.000000</td>\n",
       "      <td>1.000000</td>\n",
       "      <td>0.000000</td>\n",
       "      <td>1.000000</td>\n",
       "      <td>0.000000</td>\n",
       "      <td>1.000000</td>\n",
       "      <td>0.000000</td>\n",
       "      <td>1.000000</td>\n",
       "      <td>0.000000</td>\n",
       "      <td>1.000000</td>\n",
       "      <td>0.000000</td>\n",
       "      <td>1.000000</td>\n",
       "      <td>1.000000</td>\n",
       "      <td>1.000000</td>\n",
       "      <td>0.000000</td>\n",
       "      <td>0.000000</td>\n",
       "      <td>0.000000</td>\n",
       "      <td>1.000000</td>\n",
       "      <td>0.000000</td>\n",
       "      <td>1.000000</td>\n",
       "      <td>0.000000</td>\n",
       "    </tr>\n",
       "    <tr>\n",
       "      <th>max</th>\n",
       "      <td>1.000000</td>\n",
       "      <td>72.000000</td>\n",
       "      <td>3.000000</td>\n",
       "      <td>3.000000</td>\n",
       "      <td>4.000000</td>\n",
       "      <td>118.750000</td>\n",
       "      <td>8684.800000</td>\n",
       "      <td>1.000000</td>\n",
       "      <td>1.000000</td>\n",
       "      <td>1.000000</td>\n",
       "      <td>1.000000</td>\n",
       "      <td>1.000000</td>\n",
       "      <td>1.000000</td>\n",
       "      <td>1.000000</td>\n",
       "      <td>1.000000</td>\n",
       "      <td>1.000000</td>\n",
       "      <td>1.000000</td>\n",
       "      <td>1.000000</td>\n",
       "      <td>1.000000</td>\n",
       "      <td>1.000000</td>\n",
       "      <td>1.000000</td>\n",
       "      <td>1.000000</td>\n",
       "      <td>1.000000</td>\n",
       "      <td>1.000000</td>\n",
       "      <td>1.000000</td>\n",
       "      <td>1.000000</td>\n",
       "      <td>1.000000</td>\n",
       "      <td>1.000000</td>\n",
       "      <td>1.000000</td>\n",
       "      <td>1.000000</td>\n",
       "      <td>1.000000</td>\n",
       "      <td>1.000000</td>\n",
       "      <td>1.000000</td>\n",
       "      <td>1.000000</td>\n",
       "    </tr>\n",
       "  </tbody>\n",
       "</table>\n",
       "</div>"
      ],
      "text/plain": [
       "       senior_citizen       tenure  internet_service_type_id  \\\n",
       "count     7032.000000  7032.000000               7032.000000   \n",
       "mean         0.162400    32.421786                  1.872582   \n",
       "std          0.368844    24.545260                  0.737271   \n",
       "min          0.000000     1.000000                  1.000000   \n",
       "25%          0.000000     9.000000                  1.000000   \n",
       "50%          0.000000    29.000000                  2.000000   \n",
       "75%          0.000000    55.000000                  2.000000   \n",
       "max          1.000000    72.000000                  3.000000   \n",
       "\n",
       "       contract_type_id  payment_type_id  monthly_charges  total_charges  \\\n",
       "count       7032.000000      7032.000000      7032.000000    7032.000000   \n",
       "mean           1.688567         2.315557        64.798208    2283.300441   \n",
       "std            0.832934         1.149523        30.085974    2266.771362   \n",
       "min            1.000000         1.000000        18.250000      18.800000   \n",
       "25%            1.000000         1.000000        35.587500     401.450000   \n",
       "50%            1.000000         2.000000        70.350000    1397.475000   \n",
       "75%            2.000000         3.000000        89.862500    3794.737500   \n",
       "max            3.000000         4.000000       118.750000    8684.800000   \n",
       "\n",
       "       gender_Male  partner_Yes  dependents_Yes  phone_service_Yes  \\\n",
       "count  7032.000000  7032.000000     7032.000000        7032.000000   \n",
       "mean      0.504693     0.482509        0.298493           0.903299   \n",
       "std       0.500014     0.499729        0.457629           0.295571   \n",
       "min       0.000000     0.000000        0.000000           0.000000   \n",
       "25%       0.000000     0.000000        0.000000           1.000000   \n",
       "50%       1.000000     0.000000        0.000000           1.000000   \n",
       "75%       1.000000     1.000000        1.000000           1.000000   \n",
       "max       1.000000     1.000000        1.000000           1.000000   \n",
       "\n",
       "       multiple_lines_No phone service  multiple_lines_Yes  \\\n",
       "count                      7032.000000         7032.000000   \n",
       "mean                          0.096701            0.421928   \n",
       "std                           0.295571            0.493902   \n",
       "min                           0.000000            0.000000   \n",
       "25%                           0.000000            0.000000   \n",
       "50%                           0.000000            0.000000   \n",
       "75%                           0.000000            1.000000   \n",
       "max                           1.000000            1.000000   \n",
       "\n",
       "       online_security_No internet service  online_security_Yes  \\\n",
       "count                          7032.000000          7032.000000   \n",
       "mean                              0.216155             0.286547   \n",
       "std                               0.411650             0.452180   \n",
       "min                               0.000000             0.000000   \n",
       "25%                               0.000000             0.000000   \n",
       "50%                               0.000000             0.000000   \n",
       "75%                               0.000000             1.000000   \n",
       "max                               1.000000             1.000000   \n",
       "\n",
       "       online_backup_No internet service  online_backup_Yes  \\\n",
       "count                        7032.000000        7032.000000   \n",
       "mean                            0.216155           0.344852   \n",
       "std                             0.411650           0.475354   \n",
       "min                             0.000000           0.000000   \n",
       "25%                             0.000000           0.000000   \n",
       "50%                             0.000000           0.000000   \n",
       "75%                             0.000000           1.000000   \n",
       "max                             1.000000           1.000000   \n",
       "\n",
       "       device_protection_No internet service  device_protection_Yes  \\\n",
       "count                            7032.000000            7032.000000   \n",
       "mean                                0.216155               0.343857   \n",
       "std                                 0.411650               0.475028   \n",
       "min                                 0.000000               0.000000   \n",
       "25%                                 0.000000               0.000000   \n",
       "50%                                 0.000000               0.000000   \n",
       "75%                                 0.000000               1.000000   \n",
       "max                                 1.000000               1.000000   \n",
       "\n",
       "       tech_support_No internet service  tech_support_Yes  \\\n",
       "count                       7032.000000       7032.000000   \n",
       "mean                           0.216155          0.290102   \n",
       "std                            0.411650          0.453842   \n",
       "min                            0.000000          0.000000   \n",
       "25%                            0.000000          0.000000   \n",
       "50%                            0.000000          0.000000   \n",
       "75%                            0.000000          1.000000   \n",
       "max                            1.000000          1.000000   \n",
       "\n",
       "       streaming_tv_No internet service  streaming_tv_Yes  \\\n",
       "count                       7032.000000       7032.000000   \n",
       "mean                           0.216155          0.384386   \n",
       "std                            0.411650          0.486484   \n",
       "min                            0.000000          0.000000   \n",
       "25%                            0.000000          0.000000   \n",
       "50%                            0.000000          0.000000   \n",
       "75%                            0.000000          1.000000   \n",
       "max                            1.000000          1.000000   \n",
       "\n",
       "       streaming_movies_No internet service  streaming_movies_Yes  \\\n",
       "count                           7032.000000           7032.000000   \n",
       "mean                               0.216155              0.388367   \n",
       "std                                0.411650              0.487414   \n",
       "min                                0.000000              0.000000   \n",
       "25%                                0.000000              0.000000   \n",
       "50%                                0.000000              0.000000   \n",
       "75%                                0.000000              1.000000   \n",
       "max                                1.000000              1.000000   \n",
       "\n",
       "       paperless_billing_Yes    churn_Yes  contract_type_One year  \\\n",
       "count            7032.000000  7032.000000             7032.000000   \n",
       "mean                0.592719     0.265785                0.209329   \n",
       "std                 0.491363     0.441782                0.406858   \n",
       "min                 0.000000     0.000000                0.000000   \n",
       "25%                 0.000000     0.000000                0.000000   \n",
       "50%                 1.000000     0.000000                0.000000   \n",
       "75%                 1.000000     1.000000                0.000000   \n",
       "max                 1.000000     1.000000                1.000000   \n",
       "\n",
       "       contract_type_Two year  payment_type_Credit card (automatic)  \\\n",
       "count             7032.000000                           7032.000000   \n",
       "mean                 0.239619                              0.216297   \n",
       "std                  0.426881                              0.411748   \n",
       "min                  0.000000                              0.000000   \n",
       "25%                  0.000000                              0.000000   \n",
       "50%                  0.000000                              0.000000   \n",
       "75%                  0.000000                              0.000000   \n",
       "max                  1.000000                              1.000000   \n",
       "\n",
       "       payment_type_Electronic check  payment_type_Mailed check  \\\n",
       "count                    7032.000000                7032.000000   \n",
       "mean                        0.336320                   0.228100   \n",
       "std                         0.472483                   0.419637   \n",
       "min                         0.000000                   0.000000   \n",
       "25%                         0.000000                   0.000000   \n",
       "50%                         0.000000                   0.000000   \n",
       "75%                         1.000000                   0.000000   \n",
       "max                         1.000000                   1.000000   \n",
       "\n",
       "       internet_service_type_Fiber optic  internet_service_type_None  \n",
       "count                        7032.000000                 7032.000000  \n",
       "mean                            0.440273                    0.216155  \n",
       "std                             0.496455                    0.411650  \n",
       "min                             0.000000                    0.000000  \n",
       "25%                             0.000000                    0.000000  \n",
       "50%                             0.000000                    0.000000  \n",
       "75%                             1.000000                    0.000000  \n",
       "max                             1.000000                    1.000000  "
      ]
     },
     "execution_count": 12,
     "metadata": {},
     "output_type": "execute_result"
    }
   ],
   "source": [
    "telco_df_clean, telco_train, telco_validate, telco_test = prep_telco(telco_df)\n",
    "telco_df_clean.describe()"
   ]
  },
  {
   "cell_type": "code",
   "execution_count": 13,
   "metadata": {},
   "outputs": [
    {
     "name": "stdout",
     "output_type": "stream",
     "text": [
      "Baseline accuracy for churn: 0.7342150170648464\n"
     ]
    }
   ],
   "source": [
    "# Calculate baseline accuracy for later reference\n",
    "print(f'Baseline accuracy for churn: {(telco_df_clean.churn_Yes == 0).mean()}')"
   ]
  },
  {
   "cell_type": "code",
   "execution_count": 14,
   "metadata": {},
   "outputs": [
    {
     "data": {
      "text/plain": [
       "<AxesSubplot:>"
      ]
     },
     "execution_count": 14,
     "metadata": {},
     "output_type": "execute_result"
    },
    {
     "data": {
      "image/png": "[encoded data removed]",
      "text/plain": [
       "<Figure size 1080x648 with 1 Axes>"
      ]
     },
     "metadata": {
      "needs_background": "light"
     },
     "output_type": "display_data"
    }
   ],
   "source": [
    "# Removing categorical variables and assigning continuous variables to new df\n",
    "telco_numvar = telco_df_clean.select_dtypes(include='number')\n",
    "telco_numvar = telco_numvar.drop(columns= ['internet_service_type_id', 'contract_type_id', 'payment_type_id'])\n",
    "\n",
    "# Viewing correlations between churn and other variables\n",
    "telco_correl = telco_numvar.corr()\n",
    "telco_s = telco_correl.unstack()\n",
    "churn_corr = telco_s.churn_Yes.sort_values(ascending=False)\n",
    "plt.figure(figsize=(15,9))\n",
    "churn_corr.plot.bar()"
   ]
  },
  {
   "cell_type": "code",
   "execution_count": 15,
   "metadata": {},
   "outputs": [
    {
     "data": {
      "text/plain": [
       "(array([-10,  -9,  -8,  -7,  -6,  -5,  -4,  -3,  -2,  -1,   0,   1,   2,\n",
       "          3,   4,   5,   6,   7,   8,   9,  10]),\n",
       " array([ 0.04799695, -0.07357446,  0.06463832, -0.11013396,  0.18803224,\n",
       "        -0.01986755,  0.25712724, -0.21095059,  0.07139953, -0.00621251,\n",
       "         1.        , -0.00621251,  0.07139953, -0.21095059,  0.25712724,\n",
       "        -0.01986755,  0.18803224, -0.11013396,  0.06463832, -0.07357446,\n",
       "         0.04799695]),\n",
       " <matplotlib.collections.LineCollection at 0x7fdd60e50610>,\n",
       " <matplotlib.lines.Line2D at 0x7fdd60e50d90>)"
      ]
     },
     "execution_count": 15,
     "metadata": {},
     "output_type": "execute_result"
    },
    {
     "data": {
      "image/png": "[encoded data removed]",
      "text/plain": [
       "<Figure size 432x288 with 1 Axes>"
      ]
     },
     "metadata": {
      "needs_background": "light"
     },
     "output_type": "display_data"
    }
   ],
   "source": [
    "plt.acorr(telco_s.churn_Yes, maxlags=10)"
   ]
  },
  {
   "cell_type": "code",
   "execution_count": 16,
   "metadata": {},
   "outputs": [
    {
     "data": {
      "text/plain": [
       "churn_Yes                            1.000000\n",
       "internet_service_type_Fiber optic    0.307463\n",
       "payment_type_Electronic check        0.301455\n",
       "contract_type_Two year              -0.301552\n",
       "tenure                              -0.354049\n",
       "dtype: float64"
      ]
     },
     "execution_count": 16,
     "metadata": {},
     "output_type": "execute_result"
    }
   ],
   "source": [
    "# Identifying variables most highly correlated with churn, threshold set to 0.3\n",
    "churn_corr[churn_corr.abs() > 0.3]"
   ]
  },
  {
   "cell_type": "code",
   "execution_count": 17,
   "metadata": {},
   "outputs": [
    {
     "name": "stdout",
     "output_type": "stream",
     "text": [
      "<class 'pandas.core.series.Series'>\n",
      "31\n",
      "31\n"
     ]
    }
   ],
   "source": [
    "# sanity checks\n",
    "print(type(churn_corr))\n",
    "print(len(churn_corr))\n",
    "print(len(telco_numvar.columns))"
   ]
  },
  {
   "cell_type": "code",
   "execution_count": 10,
   "metadata": {},
   "outputs": [
    {
     "name": "stdout",
     "output_type": "stream",
     "text": [
      "<class 'pandas.core.frame.DataFrame'>\n",
      "Int64Index: 7032 entries, 0 to 7042\n",
      "Data columns (total 5 columns):\n",
      " #   Column                             Non-Null Count  Dtype\n",
      "---  ------                             --------------  -----\n",
      " 0   internet_service_type_Fiber optic  7032 non-null   uint8\n",
      " 1   payment_type_Electronic check      7032 non-null   uint8\n",
      " 2   churn_Yes                          7032 non-null   uint8\n",
      " 3   contract_type_Two year             7032 non-null   uint8\n",
      " 4   tenure                             7032 non-null   int64\n",
      "dtypes: int64(1), uint8(4)\n",
      "memory usage: 137.3 KB\n"
     ]
    },
    {
     "data": {
      "text/html": [
       "<div>\n",
       "<style scoped>\n",
       "    .dataframe tbody tr th:only-of-type {\n",
       "        vertical-align: middle;\n",
       "    }\n",
       "\n",
       "    .dataframe tbody tr th {\n",
       "        vertical-align: top;\n",
       "    }\n",
       "\n",
       "    .dataframe thead th {\n",
       "        text-align: right;\n",
       "    }\n",
       "</style>\n",
       "<table border=\"1\" class=\"dataframe\">\n",
       "  <thead>\n",
       "    <tr style=\"text-align: right;\">\n",
       "      <th></th>\n",
       "      <th>internet_service_type_Fiber optic</th>\n",
       "      <th>payment_type_Electronic check</th>\n",
       "      <th>churn_Yes</th>\n",
       "      <th>contract_type_Two year</th>\n",
       "      <th>tenure</th>\n",
       "    </tr>\n",
       "  </thead>\n",
       "  <tbody>\n",
       "    <tr>\n",
       "      <th>count</th>\n",
       "      <td>7032.000000</td>\n",
       "      <td>7032.000000</td>\n",
       "      <td>7032.000000</td>\n",
       "      <td>7032.000000</td>\n",
       "      <td>7032.000000</td>\n",
       "    </tr>\n",
       "    <tr>\n",
       "      <th>mean</th>\n",
       "      <td>0.440273</td>\n",
       "      <td>0.336320</td>\n",
       "      <td>0.265785</td>\n",
       "      <td>0.239619</td>\n",
       "      <td>32.421786</td>\n",
       "    </tr>\n",
       "    <tr>\n",
       "      <th>std</th>\n",
       "      <td>0.496455</td>\n",
       "      <td>0.472483</td>\n",
       "      <td>0.441782</td>\n",
       "      <td>0.426881</td>\n",
       "      <td>24.545260</td>\n",
       "    </tr>\n",
       "    <tr>\n",
       "      <th>min</th>\n",
       "      <td>0.000000</td>\n",
       "      <td>0.000000</td>\n",
       "      <td>0.000000</td>\n",
       "      <td>0.000000</td>\n",
       "      <td>1.000000</td>\n",
       "    </tr>\n",
       "    <tr>\n",
       "      <th>25%</th>\n",
       "      <td>0.000000</td>\n",
       "      <td>0.000000</td>\n",
       "      <td>0.000000</td>\n",
       "      <td>0.000000</td>\n",
       "      <td>9.000000</td>\n",
       "    </tr>\n",
       "    <tr>\n",
       "      <th>50%</th>\n",
       "      <td>0.000000</td>\n",
       "      <td>0.000000</td>\n",
       "      <td>0.000000</td>\n",
       "      <td>0.000000</td>\n",
       "      <td>29.000000</td>\n",
       "    </tr>\n",
       "    <tr>\n",
       "      <th>75%</th>\n",
       "      <td>1.000000</td>\n",
       "      <td>1.000000</td>\n",
       "      <td>1.000000</td>\n",
       "      <td>0.000000</td>\n",
       "      <td>55.000000</td>\n",
       "    </tr>\n",
       "    <tr>\n",
       "      <th>max</th>\n",
       "      <td>1.000000</td>\n",
       "      <td>1.000000</td>\n",
       "      <td>1.000000</td>\n",
       "      <td>1.000000</td>\n",
       "      <td>72.000000</td>\n",
       "    </tr>\n",
       "  </tbody>\n",
       "</table>\n",
       "</div>"
      ],
      "text/plain": [
       "       internet_service_type_Fiber optic  payment_type_Electronic check  \\\n",
       "count                        7032.000000                    7032.000000   \n",
       "mean                            0.440273                       0.336320   \n",
       "std                             0.496455                       0.472483   \n",
       "min                             0.000000                       0.000000   \n",
       "25%                             0.000000                       0.000000   \n",
       "50%                             0.000000                       0.000000   \n",
       "75%                             1.000000                       1.000000   \n",
       "max                             1.000000                       1.000000   \n",
       "\n",
       "         churn_Yes  contract_type_Two year       tenure  \n",
       "count  7032.000000             7032.000000  7032.000000  \n",
       "mean      0.265785                0.239619    32.421786  \n",
       "std       0.441782                0.426881    24.545260  \n",
       "min       0.000000                0.000000     1.000000  \n",
       "25%       0.000000                0.000000     9.000000  \n",
       "50%       0.000000                0.000000    29.000000  \n",
       "75%       1.000000                0.000000    55.000000  \n",
       "max       1.000000                1.000000    72.000000  "
      ]
     },
     "execution_count": 10,
     "metadata": {},
     "output_type": "execute_result"
    }
   ],
   "source": [
    "# assigning variables most highly correlated with churn to new df\n",
    "telco_highcorr = telco_df_clean[['internet_service_type_Fiber optic', 'payment_type_Electronic check', 'churn_Yes', 'contract_type_Two year', 'tenure']]\n",
    "telco_highcorr.info()\n",
    "telco_highcorr.describe()"
   ]
  },
  {
   "cell_type": "code",
   "execution_count": 11,
   "metadata": {},
   "outputs": [
    {
     "data": {
      "text/html": [
       "<div>\n",
       "<style scoped>\n",
       "    .dataframe tbody tr th:only-of-type {\n",
       "        vertical-align: middle;\n",
       "    }\n",
       "\n",
       "    .dataframe tbody tr th {\n",
       "        vertical-align: top;\n",
       "    }\n",
       "\n",
       "    .dataframe thead th {\n",
       "        text-align: right;\n",
       "    }\n",
       "</style>\n",
       "<table border=\"1\" class=\"dataframe\">\n",
       "  <thead>\n",
       "    <tr style=\"text-align: right;\">\n",
       "      <th></th>\n",
       "      <th>fiber</th>\n",
       "      <th>e_check</th>\n",
       "      <th>churn_Yes</th>\n",
       "      <th>two_yr</th>\n",
       "      <th>tenure</th>\n",
       "    </tr>\n",
       "  </thead>\n",
       "  <tbody>\n",
       "    <tr>\n",
       "      <th>0</th>\n",
       "      <td>0</td>\n",
       "      <td>0</td>\n",
       "      <td>0</td>\n",
       "      <td>0</td>\n",
       "      <td>9</td>\n",
       "    </tr>\n",
       "    <tr>\n",
       "      <th>1</th>\n",
       "      <td>0</td>\n",
       "      <td>0</td>\n",
       "      <td>0</td>\n",
       "      <td>0</td>\n",
       "      <td>9</td>\n",
       "    </tr>\n",
       "    <tr>\n",
       "      <th>2</th>\n",
       "      <td>1</td>\n",
       "      <td>1</td>\n",
       "      <td>1</td>\n",
       "      <td>0</td>\n",
       "      <td>4</td>\n",
       "    </tr>\n",
       "    <tr>\n",
       "      <th>3</th>\n",
       "      <td>1</td>\n",
       "      <td>1</td>\n",
       "      <td>1</td>\n",
       "      <td>0</td>\n",
       "      <td>13</td>\n",
       "    </tr>\n",
       "    <tr>\n",
       "      <th>4</th>\n",
       "      <td>1</td>\n",
       "      <td>0</td>\n",
       "      <td>1</td>\n",
       "      <td>0</td>\n",
       "      <td>3</td>\n",
       "    </tr>\n",
       "  </tbody>\n",
       "</table>\n",
       "</div>"
      ],
      "text/plain": [
       "   fiber  e_check  churn_Yes  two_yr  tenure\n",
       "0      0        0          0       0       9\n",
       "1      0        0          0       0       9\n",
       "2      1        1          1       0       4\n",
       "3      1        1          1       0      13\n",
       "4      1        0          1       0       3"
      ]
     },
     "execution_count": 11,
     "metadata": {},
     "output_type": "execute_result"
    }
   ],
   "source": [
    "# column renaming\n",
    "telco_highcorr.rename(columns= {'internet_service_type_Fiber optic': 'fiber', 'payment_type_Electronic check': 'e_check', 'contract_type_Two year': 'two_yr'}, inplace=True)\n",
    "telco_highcorr.head()"
   ]
  },
  {
   "cell_type": "code",
   "execution_count": 45,
   "metadata": {},
   "outputs": [
    {
     "name": "stdout",
     "output_type": "stream",
     "text": [
      "Correlation strength, fiber vs. tenure: 0.017929529906438438\n",
      "P-value: 0.132743524781136\n"
     ]
    },
    {
     "data": {
      "image/png": "[encoded data removed]",
      "text/plain": [
       "<Figure size 432x288 with 1 Axes>"
      ]
     },
     "metadata": {
      "needs_background": "light"
     },
     "output_type": "display_data"
    },
    {
     "name": "stdout",
     "output_type": "stream",
     "text": [
      "Correlation strength, e-check vs. tenure: -0.2101974961081794\n",
      "P-value: 4.696364585757513e-71\n"
     ]
    },
    {
     "data": {
      "image/png": "[encoded data removed]",
      "text/plain": [
       "<Figure size 432x288 with 1 Axes>"
      ]
     },
     "metadata": {
      "needs_background": "light"
     },
     "output_type": "display_data"
    },
    {
     "name": "stdout",
     "output_type": "stream",
     "text": [
      "Correlation strength, two-year contract vs. tenure: 0.563800500228651\n",
      "P-value: 0.0\n"
     ]
    },
    {
     "data": {
      "text/plain": [
       "<AxesSubplot:xlabel='two_yr', ylabel='tenure'>"
      ]
     },
     "execution_count": 45,
     "metadata": {},
     "output_type": "execute_result"
    },
    {
     "data": {
      "image/png": "[encoded data removed]",
      "text/plain": [
       "<Figure size 432x288 with 1 Axes>"
      ]
     },
     "metadata": {
      "needs_background": "light"
     },
     "output_type": "display_data"
    }
   ],
   "source": [
    "# comparing highcorr variables to tenure (stripplots highlighting churn by hue)\n",
    "alpha = 0.05\n",
    "r_coeff, pval = stats.pearsonr(telco_highcorr.fiber, telco_highcorr.tenure)\n",
    "\n",
    "print(f'Correlation strength, fiber vs. tenure: {r_coeff}\\nP-value: {pval}')\n",
    "\n",
    "sns.stripplot(data=telco_highcorr, x='fiber', y='tenure', hue='churn_Yes')\n",
    "plt.show()\n",
    "\n",
    "r_coeff, pval = stats.pearsonr(telco_highcorr.e_check, telco_highcorr.tenure)\n",
    "\n",
    "print(f'Correlation strength, e-check vs. tenure: {r_coeff}\\nP-value: {pval}')\n",
    "\n",
    "sns.stripplot(data=telco_highcorr, x='e_check', y='tenure', hue='churn_Yes')\n",
    "plt.show()\n",
    "\n",
    "\n",
    "r_coeff, pval = stats.pearsonr(telco_highcorr.two_yr, telco_highcorr.tenure)\n",
    "\n",
    "print(f'Correlation strength, two-year contract vs. tenure: {r_coeff}\\nP-value: {pval}')\n",
    "\n",
    "sns.stripplot(data=telco_highcorr, x='two_yr', y='tenure', hue='churn_Yes')\n"
   ]
  },
  {
   "cell_type": "markdown",
   "metadata": {},
   "source": [
    "Correlation between fiber users and tenure doesn't meet the normal minimum confidence value (P-value < alpha(0.05)) and is very low strength (.018), anyway. E-check/tenure correlation (-.210) is also negligible as it is of subpar strength.\n",
    "\n",
    "Strong negative correlation between customers with two-year contracts and tenure was to be expected.\n",
    "\n",
    "The highlighting of where the churners were in these groups is probably the most useful information to be gleaned from the visualizations above. ^^^"
   ]
  },
  {
   "cell_type": "code",
   "execution_count": 13,
   "metadata": {},
   "outputs": [
    {
     "name": "stdout",
     "output_type": "stream",
     "text": [
      "Avg churn: 26.58%\n",
      "Avg use of e-checks: 33.63%\n",
      "---------------\n",
      "Fiber and Churn:\n",
      "fiber         0.278266\n",
      "e_check       0.299721\n",
      "churn_Yes     0.278266\n",
      "two_yr        0.272474\n",
      "tenure       31.079811\n",
      "dtype: float64\n",
      "----------\n",
      "E-Check and Churn:\n",
      "fiber         0.385020\n",
      "e_check       0.216802\n",
      "churn_Yes     0.216802\n",
      "two_yr        0.302632\n",
      "tenure       34.566194\n",
      "dtype: float64\n",
      "----------\n",
      "Two-yr contract and Churn:\n",
      "fiber         0.400672\n",
      "e_check       0.322328\n",
      "churn_Yes     0.013430\n",
      "two_yr        0.013430\n",
      "tenure       29.127868\n",
      "dtype: float64\n"
     ]
    },
    {
     "data": {
      "image/png": "[encoded data removed]",
      "text/plain": [
       "<Figure size 432x648 with 3 Axes>"
      ]
     },
     "metadata": {
      "needs_background": "light"
     },
     "output_type": "display_data"
    }
   ],
   "source": [
    "# Outputting avg churn and avg use of e-checks \n",
    "print(f'Avg churn: {telco_highcorr.churn_Yes.mean():.2%}\\nAvg use of e-checks: {telco_highcorr.e_check.mean():.2%}')\n",
    "print('---------------')\n",
    "# Setting the dummies equal to each other for comparison\n",
    "fiber_eq_churn_avg = telco_highcorr[telco_highcorr.churn_Yes == telco_highcorr.fiber].mean()\n",
    "check_eq_churn_avg = telco_highcorr[telco_highcorr.churn_Yes == telco_highcorr.e_check].mean()\n",
    "two_yr_eq_churn_avg = telco_highcorr[telco_highcorr.churn_Yes == telco_highcorr.two_yr].mean()\n",
    "\n",
    "\n",
    "print(f'Fiber and Churn:\\n{fiber_eq_churn_avg}\\n----------\\nE-Check and Churn:\\n{check_eq_churn_avg}\\n----------\\nTwo-yr contract and Churn:\\n{two_yr_eq_churn_avg}')\n",
    "\n",
    "# quick visualizations -- set cat variables equal, remove and compare remainders\n",
    "plt.figure(figsize=(6, 9))\n",
    "\n",
    "plt.subplot(311)\n",
    "fiber_eq_churn_avg[['e_check','two_yr']].plot.bar()\n",
    "\n",
    "plt.subplot(312)\n",
    "check_eq_churn_avg[['fiber','two_yr']].plot.bar()\n",
    "\n",
    "plt.subplot(313)\n",
    "two_yr_eq_churn_avg[['fiber', 'e_check']].plot.bar()\n",
    "\n",
    "plt.tight_layout()"
   ]
  },
  {
   "cell_type": "markdown",
   "metadata": {},
   "source": [
    "### Exploratory results of looking for drivers of churn by correlation strength:\n",
    "\n",
    "Largely inconclusive. The variables highest in absolute (+ or -) correlation were not really very strong to begin with. "
   ]
  },
  {
   "cell_type": "code",
   "execution_count": 15,
   "metadata": {},
   "outputs": [
    {
     "name": "stdout",
     "output_type": "stream",
     "text": [
      "<class 'pandas.core.frame.DataFrame'>\n",
      "Int64Index: 7032 entries, 0 to 7042\n",
      "Data columns (total 51 columns):\n",
      " #   Column                                 Non-Null Count  Dtype  \n",
      "---  ------                                 --------------  -----  \n",
      " 0   customer_id                            7032 non-null   object \n",
      " 1   gender                                 7032 non-null   object \n",
      " 2   senior_citizen                         7032 non-null   int64  \n",
      " 3   partner                                7032 non-null   object \n",
      " 4   dependents                             7032 non-null   object \n",
      " 5   tenure                                 7032 non-null   int64  \n",
      " 6   phone_service                          7032 non-null   object \n",
      " 7   multiple_lines                         7032 non-null   object \n",
      " 8   internet_service_type_id               7032 non-null   int64  \n",
      " 9   online_security                        7032 non-null   object \n",
      " 10  online_backup                          7032 non-null   object \n",
      " 11  device_protection                      7032 non-null   object \n",
      " 12  tech_support                           7032 non-null   object \n",
      " 13  streaming_tv                           7032 non-null   object \n",
      " 14  streaming_movies                       7032 non-null   object \n",
      " 15  contract_type_id                       7032 non-null   int64  \n",
      " 16  paperless_billing                      7032 non-null   object \n",
      " 17  payment_type_id                        7032 non-null   int64  \n",
      " 18  monthly_charges                        7032 non-null   float64\n",
      " 19  total_charges                          7032 non-null   float64\n",
      " 20  churn                                  7032 non-null   object \n",
      " 21  contract_type                          7032 non-null   object \n",
      " 22  payment_type                           7032 non-null   object \n",
      " 23  internet_service_type                  7032 non-null   object \n",
      " 24  gender_Male                            7032 non-null   uint8  \n",
      " 25  partner_Yes                            7032 non-null   uint8  \n",
      " 26  dependents_Yes                         7032 non-null   uint8  \n",
      " 27  phone_service_Yes                      7032 non-null   uint8  \n",
      " 28  multiple_lines_No phone service        7032 non-null   uint8  \n",
      " 29  multiple_lines_Yes                     7032 non-null   uint8  \n",
      " 30  online_security_No internet service    7032 non-null   uint8  \n",
      " 31  online_security_Yes                    7032 non-null   uint8  \n",
      " 32  online_backup_No internet service      7032 non-null   uint8  \n",
      " 33  online_backup_Yes                      7032 non-null   uint8  \n",
      " 34  device_protection_No internet service  7032 non-null   uint8  \n",
      " 35  device_protection_Yes                  7032 non-null   uint8  \n",
      " 36  tech_support_No internet service       7032 non-null   uint8  \n",
      " 37  tech_support_Yes                       7032 non-null   uint8  \n",
      " 38  streaming_tv_No internet service       7032 non-null   uint8  \n",
      " 39  streaming_tv_Yes                       7032 non-null   uint8  \n",
      " 40  streaming_movies_No internet service   7032 non-null   uint8  \n",
      " 41  streaming_movies_Yes                   7032 non-null   uint8  \n",
      " 42  paperless_billing_Yes                  7032 non-null   uint8  \n",
      " 43  churn_Yes                              7032 non-null   uint8  \n",
      " 44  contract_type_One year                 7032 non-null   uint8  \n",
      " 45  contract_type_Two year                 7032 non-null   uint8  \n",
      " 46  payment_type_Credit card (automatic)   7032 non-null   uint8  \n",
      " 47  payment_type_Electronic check          7032 non-null   uint8  \n",
      " 48  payment_type_Mailed check              7032 non-null   uint8  \n",
      " 49  internet_service_type_Fiber optic      7032 non-null   uint8  \n",
      " 50  internet_service_type_None             7032 non-null   uint8  \n",
      "dtypes: float64(2), int64(5), object(17), uint8(27)\n",
      "memory usage: 1.8+ MB\n"
     ]
    }
   ],
   "source": [
    "telco_df_clean.info()"
   ]
  },
  {
   "cell_type": "code",
   "execution_count": 10,
   "metadata": {},
   "outputs": [
    {
     "data": {
      "text/html": [
       "<div>\n",
       "<style scoped>\n",
       "    .dataframe tbody tr th:only-of-type {\n",
       "        vertical-align: middle;\n",
       "    }\n",
       "\n",
       "    .dataframe tbody tr th {\n",
       "        vertical-align: top;\n",
       "    }\n",
       "\n",
       "    .dataframe thead th {\n",
       "        text-align: right;\n",
       "    }\n",
       "</style>\n",
       "<table border=\"1\" class=\"dataframe\">\n",
       "  <thead>\n",
       "    <tr style=\"text-align: right;\">\n",
       "      <th></th>\n",
       "      <th>payment_type</th>\n",
       "      <th>payment_type_id</th>\n",
       "    </tr>\n",
       "  </thead>\n",
       "  <tbody>\n",
       "    <tr>\n",
       "      <th>3739</th>\n",
       "      <td>Credit card (automatic)</td>\n",
       "      <td>4</td>\n",
       "    </tr>\n",
       "    <tr>\n",
       "      <th>5992</th>\n",
       "      <td>Electronic check</td>\n",
       "      <td>1</td>\n",
       "    </tr>\n",
       "    <tr>\n",
       "      <th>5829</th>\n",
       "      <td>Bank transfer (automatic)</td>\n",
       "      <td>3</td>\n",
       "    </tr>\n",
       "    <tr>\n",
       "      <th>3220</th>\n",
       "      <td>Credit card (automatic)</td>\n",
       "      <td>4</td>\n",
       "    </tr>\n",
       "    <tr>\n",
       "      <th>5382</th>\n",
       "      <td>Bank transfer (automatic)</td>\n",
       "      <td>3</td>\n",
       "    </tr>\n",
       "    <tr>\n",
       "      <th>5498</th>\n",
       "      <td>Credit card (automatic)</td>\n",
       "      <td>4</td>\n",
       "    </tr>\n",
       "    <tr>\n",
       "      <th>2659</th>\n",
       "      <td>Mailed check</td>\n",
       "      <td>2</td>\n",
       "    </tr>\n",
       "    <tr>\n",
       "      <th>5974</th>\n",
       "      <td>Credit card (automatic)</td>\n",
       "      <td>4</td>\n",
       "    </tr>\n",
       "    <tr>\n",
       "      <th>5299</th>\n",
       "      <td>Electronic check</td>\n",
       "      <td>1</td>\n",
       "    </tr>\n",
       "    <tr>\n",
       "      <th>5127</th>\n",
       "      <td>Bank transfer (automatic)</td>\n",
       "      <td>3</td>\n",
       "    </tr>\n",
       "    <tr>\n",
       "      <th>6629</th>\n",
       "      <td>Electronic check</td>\n",
       "      <td>1</td>\n",
       "    </tr>\n",
       "    <tr>\n",
       "      <th>5626</th>\n",
       "      <td>Electronic check</td>\n",
       "      <td>1</td>\n",
       "    </tr>\n",
       "    <tr>\n",
       "      <th>3566</th>\n",
       "      <td>Credit card (automatic)</td>\n",
       "      <td>4</td>\n",
       "    </tr>\n",
       "    <tr>\n",
       "      <th>958</th>\n",
       "      <td>Electronic check</td>\n",
       "      <td>1</td>\n",
       "    </tr>\n",
       "    <tr>\n",
       "      <th>3561</th>\n",
       "      <td>Mailed check</td>\n",
       "      <td>2</td>\n",
       "    </tr>\n",
       "    <tr>\n",
       "      <th>6151</th>\n",
       "      <td>Credit card (automatic)</td>\n",
       "      <td>4</td>\n",
       "    </tr>\n",
       "    <tr>\n",
       "      <th>4018</th>\n",
       "      <td>Electronic check</td>\n",
       "      <td>1</td>\n",
       "    </tr>\n",
       "    <tr>\n",
       "      <th>4850</th>\n",
       "      <td>Mailed check</td>\n",
       "      <td>2</td>\n",
       "    </tr>\n",
       "    <tr>\n",
       "      <th>6050</th>\n",
       "      <td>Credit card (automatic)</td>\n",
       "      <td>4</td>\n",
       "    </tr>\n",
       "    <tr>\n",
       "      <th>12</th>\n",
       "      <td>Electronic check</td>\n",
       "      <td>1</td>\n",
       "    </tr>\n",
       "    <tr>\n",
       "      <th>1134</th>\n",
       "      <td>Mailed check</td>\n",
       "      <td>2</td>\n",
       "    </tr>\n",
       "    <tr>\n",
       "      <th>115</th>\n",
       "      <td>Credit card (automatic)</td>\n",
       "      <td>4</td>\n",
       "    </tr>\n",
       "    <tr>\n",
       "      <th>4201</th>\n",
       "      <td>Electronic check</td>\n",
       "      <td>1</td>\n",
       "    </tr>\n",
       "    <tr>\n",
       "      <th>5314</th>\n",
       "      <td>Credit card (automatic)</td>\n",
       "      <td>4</td>\n",
       "    </tr>\n",
       "    <tr>\n",
       "      <th>2938</th>\n",
       "      <td>Electronic check</td>\n",
       "      <td>1</td>\n",
       "    </tr>\n",
       "  </tbody>\n",
       "</table>\n",
       "</div>"
      ],
      "text/plain": [
       "                   payment_type  payment_type_id\n",
       "3739    Credit card (automatic)                4\n",
       "5992           Electronic check                1\n",
       "5829  Bank transfer (automatic)                3\n",
       "3220    Credit card (automatic)                4\n",
       "5382  Bank transfer (automatic)                3\n",
       "5498    Credit card (automatic)                4\n",
       "2659               Mailed check                2\n",
       "5974    Credit card (automatic)                4\n",
       "5299           Electronic check                1\n",
       "5127  Bank transfer (automatic)                3\n",
       "6629           Electronic check                1\n",
       "5626           Electronic check                1\n",
       "3566    Credit card (automatic)                4\n",
       "958            Electronic check                1\n",
       "3561               Mailed check                2\n",
       "6151    Credit card (automatic)                4\n",
       "4018           Electronic check                1\n",
       "4850               Mailed check                2\n",
       "6050    Credit card (automatic)                4\n",
       "12             Electronic check                1\n",
       "1134               Mailed check                2\n",
       "115     Credit card (automatic)                4\n",
       "4201           Electronic check                1\n",
       "5314    Credit card (automatic)                4\n",
       "2938           Electronic check                1"
      ]
     },
     "execution_count": 10,
     "metadata": {},
     "output_type": "execute_result"
    }
   ],
   "source": [
    "telco_df_clean.payment_type.value_counts()\n",
    "telco_df_clean[['payment_type', 'payment_type_id']].sample(25)"
   ]
  },
  {
   "cell_type": "markdown",
   "metadata": {},
   "source": [
    "### What kind of customer is churning?"
   ]
  },
  {
   "cell_type": "code",
   "execution_count": 21,
   "metadata": {},
   "outputs": [
    {
     "name": "stdout",
     "output_type": "stream",
     "text": [
      "<class 'pandas.core.frame.DataFrame'>\n",
      "Int64Index: 1869 entries, 2 to 7039\n",
      "Data columns (total 27 columns):\n",
      " #   Column                                 Non-Null Count  Dtype\n",
      "---  ------                                 --------------  -----\n",
      " 0   gender_Male                            1869 non-null   uint8\n",
      " 1   partner_Yes                            1869 non-null   uint8\n",
      " 2   dependents_Yes                         1869 non-null   uint8\n",
      " 3   phone_service_Yes                      1869 non-null   uint8\n",
      " 4   multiple_lines_No phone service        1869 non-null   uint8\n",
      " 5   multiple_lines_Yes                     1869 non-null   uint8\n",
      " 6   online_security_No internet service    1869 non-null   uint8\n",
      " 7   online_security_Yes                    1869 non-null   uint8\n",
      " 8   online_backup_No internet service      1869 non-null   uint8\n",
      " 9   online_backup_Yes                      1869 non-null   uint8\n",
      " 10  device_protection_No internet service  1869 non-null   uint8\n",
      " 11  device_protection_Yes                  1869 non-null   uint8\n",
      " 12  tech_support_No internet service       1869 non-null   uint8\n",
      " 13  tech_support_Yes                       1869 non-null   uint8\n",
      " 14  streaming_tv_No internet service       1869 non-null   uint8\n",
      " 15  streaming_tv_Yes                       1869 non-null   uint8\n",
      " 16  streaming_movies_No internet service   1869 non-null   uint8\n",
      " 17  streaming_movies_Yes                   1869 non-null   uint8\n",
      " 18  paperless_billing_Yes                  1869 non-null   uint8\n",
      " 19  churn_Yes                              1869 non-null   uint8\n",
      " 20  contract_type_One year                 1869 non-null   uint8\n",
      " 21  contract_type_Two year                 1869 non-null   uint8\n",
      " 22  payment_type_Credit card (automatic)   1869 non-null   uint8\n",
      " 23  payment_type_Electronic check          1869 non-null   uint8\n",
      " 24  payment_type_Mailed check              1869 non-null   uint8\n",
      " 25  internet_service_type_Fiber optic      1869 non-null   uint8\n",
      " 26  internet_service_type_None             1869 non-null   uint8\n",
      "dtypes: uint8(27)\n",
      "memory usage: 63.9 KB\n"
     ]
    },
    {
     "data": {
      "text/plain": [
       "<AxesSubplot:>"
      ]
     },
     "execution_count": 21,
     "metadata": {},
     "output_type": "execute_result"
    },
    {
     "data": {
      "image/png": "[encoded data removed]",
      "text/plain": [
       "<Figure size 1080x648 with 1 Axes>"
      ]
     },
     "metadata": {
      "needs_background": "light"
     },
     "output_type": "display_data"
    }
   ],
   "source": [
    "churned_customers = telco_df_clean[telco_df_clean.churn_Yes == 1]\n",
    "\n",
    "#churned_customers.info()\n",
    "churn_cust_bin = churned_customers.select_dtypes(include=np.uint8)\n",
    "churn_cust_bin.info()\n",
    "\n",
    "plt.figure(figsize=(15,9))\n",
    "churn_cust_bin.mean().plot.bar()"
   ]
  },
  {
   "cell_type": "code",
   "execution_count": 46,
   "metadata": {},
   "outputs": [
    {
     "name": "stdout",
     "output_type": "stream",
     "text": [
      "Avg customers with phone service, absolute: 90.33%\n",
      "Avg monthly charges, absolute: 64.80\n",
      "Avg monthly charges of churners with phone service: 78.13425544437897\n",
      "Avg monthly charges of churners without phone service: 37.533823529411755\n",
      "Avg monthly charges of all churners: 74.44133226324232\n"
     ]
    }
   ],
   "source": [
    "# Outputting stats of interest regarding phone service\n",
    "print(f'Avg customers with phone service, absolute: {telco_df_clean.phone_service_Yes.mean():.2%}')\n",
    "print(f'Avg monthly charges, absolute: {telco_df_clean.monthly_charges.mean():.2f}')\n",
    "print(f'Avg monthly charges of churners with phone service: {churned_customers[churned_customers.phone_service_Yes == 1].monthly_charges.mean()}')\n",
    "print(f'Avg monthly charges of churners without phone service: {churned_customers[churned_customers.phone_service_Yes == 0].monthly_charges.mean()}')\n",
    "print(f'Avg monthly charges of all churners: {churned_customers.monthly_charges.mean()}')"
   ]
  },
  {
   "cell_type": "markdown",
   "metadata": {},
   "source": [
    "Phone service not likely a viable feature for analysis -- Telco $is$ a telecommunications company, after all. Most customers would have phone service.\n",
    "\n",
    "Fiber internet and paperless billing might be better features for which to select, in terms of analysis."
   ]
  },
  {
   "cell_type": "code",
   "execution_count": 30,
   "metadata": {},
   "outputs": [
    {
     "name": "stdout",
     "output_type": "stream",
     "text": [
      "Overall averages of churners with fiber internet:\n",
      "senior_citizen                              0.303007\n",
      "tenure                                     20.196608\n",
      "internet_service_type_id                    2.000000\n",
      "contract_type_id                            1.127988\n",
      "payment_type_id                             1.722436\n",
      "monthly_charges                            88.126484\n",
      "total_charges                            1914.616384\n",
      "gender_Male                                 0.488049\n",
      "partner_Yes                                 0.387047\n",
      "dependents_Yes                              0.155744\n",
      "phone_service_Yes                           1.000000\n",
      "multiple_lines_No phone service             0.000000\n",
      "multiple_lines_Yes                          0.591365\n",
      "online_security_No internet service         0.000000\n",
      "online_security_Yes                         0.141095\n",
      "online_backup_No internet service           0.000000\n",
      "online_backup_Yes                           0.313801\n",
      "device_protection_No internet service       0.000000\n",
      "device_protection_Yes                       0.329992\n",
      "tech_support_No internet service            0.000000\n",
      "tech_support_Yes                            0.151118\n",
      "streaming_tv_No internet service            0.000000\n",
      "streaming_tv_Yes                            0.529684\n",
      "streaming_movies_No internet service        0.000000\n",
      "streaming_movies_Yes                        0.525058\n",
      "paperless_billing_Yes                       0.823439\n",
      "churn_Yes                                   1.000000\n",
      "contract_type_One year                      0.080185\n",
      "contract_type_Two year                      0.023901\n",
      "payment_type_Credit card (automatic)        0.116423\n",
      "payment_type_Electronic check               0.654588\n",
      "payment_type_Mailed check                   0.084811\n",
      "fiber_internet                              1.000000\n",
      "no_internet                                 0.000000\n",
      "dtype: float64\n",
      "Number of churners who used fiber internet: 1297\n"
     ]
    },
    {
     "data": {
      "text/plain": [
       "Text(0, 0.5, 'Averages')"
      ]
     },
     "execution_count": 30,
     "metadata": {},
     "output_type": "execute_result"
    },
    {
     "data": {
      "image/png": "[encoded data removed]",
      "text/plain": [
       "<Figure size 1080x648 with 1 Axes>"
      ]
     },
     "metadata": {
      "needs_background": "light"
     },
     "output_type": "display_data"
    }
   ],
   "source": [
    "churned_customers.rename(columns= {'internet_service_type_Fiber optic': 'fiber_internet', 'internet_service_type_None': 'no_internet'}, inplace=True)\n",
    "fiber_churners = churned_customers[churned_customers.fiber_internet == 1]\n",
    "print(f'Overall averages of churners with fiber internet:\\n{fiber_churners.mean()}')\n",
    "print(f'Number of churners who used fiber internet: {fiber_churners.fiber_internet.sum()}')\n",
    "\n",
    "#quick viz of categorical variables in fiber_churners df\n",
    "plt.figure(figsize=(15,9))\n",
    "fiber_churners.select_dtypes(include=np.uint8).mean().plot.bar()\n",
    "plt.ylabel('Averages')\n"
   ]
  },
  {
   "cell_type": "code",
   "execution_count": 31,
   "metadata": {},
   "outputs": [
    {
     "name": "stdout",
     "output_type": "stream",
     "text": [
      "Overall averages of churners with paperless billing:\n",
      "senior_citizen                              0.284286\n",
      "tenure                                     18.765000\n",
      "internet_service_type_id                    1.822857\n",
      "contract_type_id                            1.131429\n",
      "payment_type_id                             1.753571\n",
      "monthly_charges                            78.221429\n",
      "total_charges                            1643.980929\n",
      "gender_Male                                 0.500714\n",
      "partner_Yes                                 0.362143\n",
      "dependents_Yes                              0.155714\n",
      "phone_service_Yes                           0.915714\n",
      "multiple_lines_No phone service             0.084286\n",
      "multiple_lines_Yes                          0.505000\n",
      "online_security_No internet service         0.030000\n",
      "online_security_Yes                         0.144286\n",
      "online_backup_No internet service           0.030000\n",
      "online_backup_Yes                           0.299286\n",
      "device_protection_No internet service       0.030000\n",
      "device_protection_Yes                       0.307857\n",
      "tech_support_No internet service            0.030000\n",
      "tech_support_Yes                            0.160000\n",
      "streaming_tv_No internet service            0.030000\n",
      "streaming_tv_Yes                            0.480000\n",
      "streaming_movies_No internet service        0.030000\n",
      "streaming_movies_Yes                        0.477857\n",
      "paperless_billing_Yes                       1.000000\n",
      "churn_Yes                                   1.000000\n",
      "contract_type_One year                      0.084286\n",
      "contract_type_Two year                      0.023571\n",
      "payment_type_Credit card (automatic)        0.120000\n",
      "payment_type_Electronic check               0.619286\n",
      "payment_type_Mailed check                   0.127857\n",
      "fiber_internet                              0.762857\n",
      "no_internet                                 0.030000\n",
      "dtype: float64\n",
      "Number of churners who used paperless billing: 1400\n"
     ]
    },
    {
     "data": {
      "text/plain": [
       "Text(0, 0.5, 'Averages')"
      ]
     },
     "execution_count": 31,
     "metadata": {},
     "output_type": "execute_result"
    },
    {
     "data": {
      "image/png": "[encoded data removed]",
      "text/plain": [
       "<Figure size 1080x648 with 1 Axes>"
      ]
     },
     "metadata": {
      "needs_background": "light"
     },
     "output_type": "display_data"
    }
   ],
   "source": [
    "paperless_churners = churned_customers[churned_customers.paperless_billing_Yes == 1]\n",
    "\n",
    "print(f'Overall averages of churners with paperless billing:\\n{paperless_churners.mean()}')\n",
    "print(f'Number of churners who used paperless billing: {paperless_churners.paperless_billing_Yes.sum()}')\n",
    "\n",
    "plt.figure(figsize=(15,9))\n",
    "paperless_churners.select_dtypes(include=np.uint8).mean().plot.bar()\n",
    "plt.ylabel('Averages')"
   ]
  },
  {
   "cell_type": "code",
   "execution_count": 51,
   "metadata": {},
   "outputs": [
    {
     "data": {
      "text/plain": [
       "Index(['customer_id', 'gender', 'senior_citizen', 'partner', 'dependents',\n",
       "       'tenure', 'phone_service', 'multiple_lines', 'internet_service_type_id',\n",
       "       'online_security', 'online_backup', 'device_protection', 'tech_support',\n",
       "       'streaming_tv', 'streaming_movies', 'contract_type_id',\n",
       "       'paperless_billing', 'payment_type_id', 'monthly_charges',\n",
       "       'total_charges', 'churn', 'contract_type', 'payment_type',\n",
       "       'internet_service_type', 'gender_Male', 'partner_Yes', 'dependents_Yes',\n",
       "       'phone_service_Yes', 'multiple_lines_No phone service',\n",
       "       'multiple_lines_Yes', 'online_security_No internet service',\n",
       "       'online_security_Yes', 'online_backup_No internet service',\n",
       "       'online_backup_Yes', 'device_protection_No internet service',\n",
       "       'device_protection_Yes', 'tech_support_No internet service',\n",
       "       'tech_support_Yes', 'streaming_tv_No internet service',\n",
       "       'streaming_tv_Yes', 'streaming_movies_No internet service',\n",
       "       'streaming_movies_Yes', 'paperless_billing_Yes', 'churn_Yes',\n",
       "       'contract_type_One year', 'contract_type_Two year',\n",
       "       'payment_type_Credit card (automatic)', 'payment_type_Electronic check',\n",
       "       'payment_type_Mailed check', 'fiber_internet', 'no_internet'],\n",
       "      dtype='object')"
      ]
     },
     "execution_count": 51,
     "metadata": {},
     "output_type": "execute_result"
    }
   ],
   "source": [
    "churned_customers.columns"
   ]
  },
  {
   "cell_type": "code",
   "execution_count": 50,
   "metadata": {},
   "outputs": [
    {
     "name": "stdout",
     "output_type": "stream",
     "text": [
      "Confidence in our correlation test: 1.000\n",
      "P-value for this test: 7.130506118252251e-30\n",
      "Either our confidence value (0.95) was not met, or the correlation coefficient (0.258) fell below what we would consider that of a strong relationship. We cannot reject the null hypothesis.\n"
     ]
    },
    {
     "data": {
      "text/plain": [
       "<seaborn.axisgrid.FacetGrid at 0x7faead0be430>"
      ]
     },
     "execution_count": 50,
     "metadata": {},
     "output_type": "execute_result"
    },
    {
     "data": {
      "image/png": "[encoded data removed]",
      "text/plain": [
       "<Figure size 476.75x360 with 1 Axes>"
      ]
     },
     "metadata": {
      "needs_background": "light"
     },
     "output_type": "display_data"
    }
   ],
   "source": [
    "r_coeff, pval = stats.spearmanr(churned_customers.fiber_internet, churned_customers.paperless_billing_Yes)\n",
    "print(f'Confidence in our correlation test: {1 - pval:.3f}')\n",
    "print(f'P-value for this test: {pval}')\n",
    "\n",
    "if pval < alpha and abs(r_coeff) > 0.5:\n",
    "    print(f'The correlation coefficient for the relationship between churned Telco customers who used fiber internet and those used paperless billing is: {r_coeff:.3f}\\n, indicative of a strong relationship between the two groups. We can reject the null hypothesis.')\n",
    "else:\n",
    "    print(f'Either our confidence value (0.95) was not met, or the correlation coefficient ({r_coeff:.3f}) fell below what we would consider that of a strong relationship. We cannot reject the null hypothesis.')\n",
    "\n",
    "sns.catplot(data= churned_customers, x='fiber_internet', y='tenure', hue='contract_type')"
   ]
  },
  {
   "cell_type": "code",
   "execution_count": null,
   "metadata": {},
   "outputs": [],
   "source": []
  },
  {
   "cell_type": "markdown",
   "metadata": {},
   "source": [
    "### Noted trends in churned customers:\n",
    "1. Churned customers used paperless billing at rate of almost 75%. Only 12% of these customers used automatic billing.\n",
    "1. Of customers who churned, nearly 70% had fiber optic internet service. These customers paid more than $23/month more than the average and more than half (52%) streamed TV or movies.\n",
    "1. Although 76% of the churners who used paperless billing were also users of fiber internet, there was not an especially high correlation coefficient between the two groups.\n",
    "1. Both groups of customers and their respective potential problems should be further investigated for their potential to reduce churn.\n",
    "\n",
    "Current hypotheses: \n",
    "- Fiber customers who churned were likely either dissatisfied with the service (with special regard to streaming) or found a better price point for the same service with a competitor.\n",
    "- Paperless billing customers who churned likely had issues with billing that possibly could have been resolved with automatic billing."
   ]
  },
  {
   "cell_type": "markdown",
   "metadata": {},
   "source": [
    "### Test models on data, with the above thoughts in mind."
   ]
  },
  {
   "cell_type": "code",
   "execution_count": 52,
   "metadata": {},
   "outputs": [],
   "source": [
    "#Imports to make models and evaluate their performance\n",
    "from sklearn.tree import DecisionTreeClassifier, export_graphviz\n",
    "from sklearn.ensemble import RandomForestClassifier\n",
    "from sklearn.neighbors import KNeighborsClassifier, KNeighborsRegressor\n",
    "from sklearn.linear_model import LogisticRegression\n",
    "from sklearn.metrics import accuracy_score, recall_score, precision_score, f1_score, classification_report, confusion_matrix, roc_curve, auc \n"
   ]
  },
  {
   "cell_type": "code",
   "execution_count": 53,
   "metadata": {},
   "outputs": [
    {
     "name": "stdout",
     "output_type": "stream",
     "text": [
      "<class 'pandas.core.frame.DataFrame'>\n",
      "Int64Index: 3937 entries, 5981 to 1671\n",
      "Data columns (total 50 columns):\n",
      " #   Column                                 Non-Null Count  Dtype  \n",
      "---  ------                                 --------------  -----  \n",
      " 0   customer_id                            3937 non-null   object \n",
      " 1   gender                                 3937 non-null   object \n",
      " 2   senior_citizen                         3937 non-null   int64  \n",
      " 3   partner                                3937 non-null   object \n",
      " 4   dependents                             3937 non-null   object \n",
      " 5   tenure                                 3937 non-null   int64  \n",
      " 6   phone_service                          3937 non-null   object \n",
      " 7   multiple_lines                         3937 non-null   object \n",
      " 8   internet_service_type_id               3937 non-null   int64  \n",
      " 9   online_security                        3937 non-null   object \n",
      " 10  online_backup                          3937 non-null   object \n",
      " 11  device_protection                      3937 non-null   object \n",
      " 12  tech_support                           3937 non-null   object \n",
      " 13  streaming_tv                           3937 non-null   object \n",
      " 14  streaming_movies                       3937 non-null   object \n",
      " 15  contract_type_id                       3937 non-null   int64  \n",
      " 16  paperless_billing                      3937 non-null   object \n",
      " 17  payment_type_id                        3937 non-null   int64  \n",
      " 18  monthly_charges                        3937 non-null   float64\n",
      " 19  total_charges                          3937 non-null   float64\n",
      " 20  churn                                  3937 non-null   object \n",
      " 21  contract_type                          3937 non-null   object \n",
      " 22  payment_type                           3937 non-null   object \n",
      " 23  internet_service_type                  3937 non-null   object \n",
      " 24  gender_Male                            3937 non-null   uint8  \n",
      " 25  partner_Yes                            3937 non-null   uint8  \n",
      " 26  dependents_Yes                         3937 non-null   uint8  \n",
      " 27  phone_service_Yes                      3937 non-null   uint8  \n",
      " 28  multiple_lines_No phone service        3937 non-null   uint8  \n",
      " 29  multiple_lines_Yes                     3937 non-null   uint8  \n",
      " 30  online_security_No internet service    3937 non-null   uint8  \n",
      " 31  online_security_Yes                    3937 non-null   uint8  \n",
      " 32  online_backup_No internet service      3937 non-null   uint8  \n",
      " 33  online_backup_Yes                      3937 non-null   uint8  \n",
      " 34  device_protection_No internet service  3937 non-null   uint8  \n",
      " 35  device_protection_Yes                  3937 non-null   uint8  \n",
      " 36  tech_support_No internet service       3937 non-null   uint8  \n",
      " 37  tech_support_Yes                       3937 non-null   uint8  \n",
      " 38  streaming_tv_No internet service       3937 non-null   uint8  \n",
      " 39  streaming_tv_Yes                       3937 non-null   uint8  \n",
      " 40  streaming_movies_No internet service   3937 non-null   uint8  \n",
      " 41  streaming_movies_Yes                   3937 non-null   uint8  \n",
      " 42  paperless_billing_Yes                  3937 non-null   uint8  \n",
      " 43  contract_type_One year                 3937 non-null   uint8  \n",
      " 44  contract_type_Two year                 3937 non-null   uint8  \n",
      " 45  payment_type_Credit card (automatic)   3937 non-null   uint8  \n",
      " 46  payment_type_Electronic check          3937 non-null   uint8  \n",
      " 47  payment_type_Mailed check              3937 non-null   uint8  \n",
      " 48  internet_service_type_Fiber optic      3937 non-null   uint8  \n",
      " 49  internet_service_type_None             3937 non-null   uint8  \n",
      "dtypes: float64(2), int64(5), object(17), uint8(26)\n",
      "memory usage: 868.9+ KB\n"
     ]
    }
   ],
   "source": [
    "# Preparing train, validate and test splits, part 1: separating target variable from the splits\n",
    "\n",
    "X_train = telco_train.drop(columns= ['churn_Yes'])\n",
    "y_train = telco_train.churn_Yes\n",
    "\n",
    "X_validate = telco_validate.drop(columns= ['churn_Yes'])\n",
    "y_validate = telco_validate.churn_Yes\n",
    "\n",
    "X_test = telco_test.drop(columns= ['churn_Yes'])\n",
    "y_test = telco_test.churn_Yes\n",
    "\n",
    "X_train.info()"
   ]
  },
  {
   "cell_type": "code",
   "execution_count": 54,
   "metadata": {},
   "outputs": [
    {
     "name": "stdout",
     "output_type": "stream",
     "text": [
      "(3937, 33) (1688, 33) (1407, 33)\n",
      "<class 'pandas.core.frame.DataFrame'>\n",
      "Int64Index: 3937 entries, 5981 to 1671\n",
      "Data columns (total 33 columns):\n",
      " #   Column                                 Non-Null Count  Dtype  \n",
      "---  ------                                 --------------  -----  \n",
      " 0   senior_citizen                         3937 non-null   int64  \n",
      " 1   tenure                                 3937 non-null   int64  \n",
      " 2   internet_service_type_id               3937 non-null   int64  \n",
      " 3   contract_type_id                       3937 non-null   int64  \n",
      " 4   payment_type_id                        3937 non-null   int64  \n",
      " 5   monthly_charges                        3937 non-null   float64\n",
      " 6   total_charges                          3937 non-null   float64\n",
      " 7   gender_Male                            3937 non-null   uint8  \n",
      " 8   partner_Yes                            3937 non-null   uint8  \n",
      " 9   dependents_Yes                         3937 non-null   uint8  \n",
      " 10  phone_service_Yes                      3937 non-null   uint8  \n",
      " 11  multiple_lines_No phone service        3937 non-null   uint8  \n",
      " 12  multiple_lines_Yes                     3937 non-null   uint8  \n",
      " 13  online_security_No internet service    3937 non-null   uint8  \n",
      " 14  online_security_Yes                    3937 non-null   uint8  \n",
      " 15  online_backup_No internet service      3937 non-null   uint8  \n",
      " 16  online_backup_Yes                      3937 non-null   uint8  \n",
      " 17  device_protection_No internet service  3937 non-null   uint8  \n",
      " 18  device_protection_Yes                  3937 non-null   uint8  \n",
      " 19  tech_support_No internet service       3937 non-null   uint8  \n",
      " 20  tech_support_Yes                       3937 non-null   uint8  \n",
      " 21  streaming_tv_No internet service       3937 non-null   uint8  \n",
      " 22  streaming_tv_Yes                       3937 non-null   uint8  \n",
      " 23  streaming_movies_No internet service   3937 non-null   uint8  \n",
      " 24  streaming_movies_Yes                   3937 non-null   uint8  \n",
      " 25  paperless_billing_Yes                  3937 non-null   uint8  \n",
      " 26  contract_type_One year                 3937 non-null   uint8  \n",
      " 27  contract_type_Two year                 3937 non-null   uint8  \n",
      " 28  payment_type_Credit card (automatic)   3937 non-null   uint8  \n",
      " 29  payment_type_Electronic check          3937 non-null   uint8  \n",
      " 30  payment_type_Mailed check              3937 non-null   uint8  \n",
      " 31  internet_service_type_Fiber optic      3937 non-null   uint8  \n",
      " 32  internet_service_type_None             3937 non-null   uint8  \n",
      "dtypes: float64(2), int64(5), uint8(26)\n",
      "memory usage: 346.0 KB\n"
     ]
    },
    {
     "data": {
      "text/html": [
       "<div>\n",
       "<style scoped>\n",
       "    .dataframe tbody tr th:only-of-type {\n",
       "        vertical-align: middle;\n",
       "    }\n",
       "\n",
       "    .dataframe tbody tr th {\n",
       "        vertical-align: top;\n",
       "    }\n",
       "\n",
       "    .dataframe thead th {\n",
       "        text-align: right;\n",
       "    }\n",
       "</style>\n",
       "<table border=\"1\" class=\"dataframe\">\n",
       "  <thead>\n",
       "    <tr style=\"text-align: right;\">\n",
       "      <th></th>\n",
       "      <th>senior_citizen</th>\n",
       "      <th>tenure</th>\n",
       "      <th>internet_service_type_id</th>\n",
       "      <th>contract_type_id</th>\n",
       "      <th>payment_type_id</th>\n",
       "      <th>monthly_charges</th>\n",
       "      <th>total_charges</th>\n",
       "      <th>gender_Male</th>\n",
       "      <th>partner_Yes</th>\n",
       "      <th>dependents_Yes</th>\n",
       "      <th>...</th>\n",
       "      <th>streaming_movies_No internet service</th>\n",
       "      <th>streaming_movies_Yes</th>\n",
       "      <th>paperless_billing_Yes</th>\n",
       "      <th>contract_type_One year</th>\n",
       "      <th>contract_type_Two year</th>\n",
       "      <th>payment_type_Credit card (automatic)</th>\n",
       "      <th>payment_type_Electronic check</th>\n",
       "      <th>payment_type_Mailed check</th>\n",
       "      <th>internet_service_type_Fiber optic</th>\n",
       "      <th>internet_service_type_None</th>\n",
       "    </tr>\n",
       "  </thead>\n",
       "  <tbody>\n",
       "    <tr>\n",
       "      <th>5981</th>\n",
       "      <td>0</td>\n",
       "      <td>42</td>\n",
       "      <td>1</td>\n",
       "      <td>3</td>\n",
       "      <td>4</td>\n",
       "      <td>78.45</td>\n",
       "      <td>3373.40</td>\n",
       "      <td>0</td>\n",
       "      <td>0</td>\n",
       "      <td>0</td>\n",
       "      <td>...</td>\n",
       "      <td>0</td>\n",
       "      <td>1</td>\n",
       "      <td>1</td>\n",
       "      <td>0</td>\n",
       "      <td>1</td>\n",
       "      <td>1</td>\n",
       "      <td>0</td>\n",
       "      <td>0</td>\n",
       "      <td>0</td>\n",
       "      <td>0</td>\n",
       "    </tr>\n",
       "    <tr>\n",
       "      <th>4435</th>\n",
       "      <td>0</td>\n",
       "      <td>71</td>\n",
       "      <td>1</td>\n",
       "      <td>3</td>\n",
       "      <td>2</td>\n",
       "      <td>71.10</td>\n",
       "      <td>5224.95</td>\n",
       "      <td>0</td>\n",
       "      <td>1</td>\n",
       "      <td>1</td>\n",
       "      <td>...</td>\n",
       "      <td>0</td>\n",
       "      <td>0</td>\n",
       "      <td>0</td>\n",
       "      <td>0</td>\n",
       "      <td>1</td>\n",
       "      <td>0</td>\n",
       "      <td>0</td>\n",
       "      <td>1</td>\n",
       "      <td>0</td>\n",
       "      <td>0</td>\n",
       "    </tr>\n",
       "    <tr>\n",
       "      <th>5154</th>\n",
       "      <td>1</td>\n",
       "      <td>47</td>\n",
       "      <td>2</td>\n",
       "      <td>1</td>\n",
       "      <td>3</td>\n",
       "      <td>85.20</td>\n",
       "      <td>3969.35</td>\n",
       "      <td>0</td>\n",
       "      <td>0</td>\n",
       "      <td>0</td>\n",
       "      <td>...</td>\n",
       "      <td>0</td>\n",
       "      <td>0</td>\n",
       "      <td>1</td>\n",
       "      <td>0</td>\n",
       "      <td>0</td>\n",
       "      <td>0</td>\n",
       "      <td>0</td>\n",
       "      <td>0</td>\n",
       "      <td>1</td>\n",
       "      <td>0</td>\n",
       "    </tr>\n",
       "    <tr>\n",
       "      <th>5117</th>\n",
       "      <td>0</td>\n",
       "      <td>67</td>\n",
       "      <td>1</td>\n",
       "      <td>3</td>\n",
       "      <td>4</td>\n",
       "      <td>69.20</td>\n",
       "      <td>4671.65</td>\n",
       "      <td>1</td>\n",
       "      <td>1</td>\n",
       "      <td>0</td>\n",
       "      <td>...</td>\n",
       "      <td>0</td>\n",
       "      <td>1</td>\n",
       "      <td>1</td>\n",
       "      <td>0</td>\n",
       "      <td>1</td>\n",
       "      <td>1</td>\n",
       "      <td>0</td>\n",
       "      <td>0</td>\n",
       "      <td>0</td>\n",
       "      <td>0</td>\n",
       "    </tr>\n",
       "    <tr>\n",
       "      <th>6971</th>\n",
       "      <td>0</td>\n",
       "      <td>1</td>\n",
       "      <td>2</td>\n",
       "      <td>1</td>\n",
       "      <td>4</td>\n",
       "      <td>74.30</td>\n",
       "      <td>74.30</td>\n",
       "      <td>0</td>\n",
       "      <td>0</td>\n",
       "      <td>0</td>\n",
       "      <td>...</td>\n",
       "      <td>0</td>\n",
       "      <td>0</td>\n",
       "      <td>1</td>\n",
       "      <td>0</td>\n",
       "      <td>0</td>\n",
       "      <td>1</td>\n",
       "      <td>0</td>\n",
       "      <td>0</td>\n",
       "      <td>1</td>\n",
       "      <td>0</td>\n",
       "    </tr>\n",
       "  </tbody>\n",
       "</table>\n",
       "<p>5 rows × 33 columns</p>\n",
       "</div>"
      ],
      "text/plain": [
       "      senior_citizen  tenure  internet_service_type_id  contract_type_id  \\\n",
       "5981               0      42                         1                 3   \n",
       "4435               0      71                         1                 3   \n",
       "5154               1      47                         2                 1   \n",
       "5117               0      67                         1                 3   \n",
       "6971               0       1                         2                 1   \n",
       "\n",
       "      payment_type_id  monthly_charges  total_charges  gender_Male  \\\n",
       "5981                4            78.45        3373.40            0   \n",
       "4435                2            71.10        5224.95            0   \n",
       "5154                3            85.20        3969.35            0   \n",
       "5117                4            69.20        4671.65            1   \n",
       "6971                4            74.30          74.30            0   \n",
       "\n",
       "      partner_Yes  dependents_Yes  ...  streaming_movies_No internet service  \\\n",
       "5981            0               0  ...                                     0   \n",
       "4435            1               1  ...                                     0   \n",
       "5154            0               0  ...                                     0   \n",
       "5117            1               0  ...                                     0   \n",
       "6971            0               0  ...                                     0   \n",
       "\n",
       "      streaming_movies_Yes  paperless_billing_Yes  contract_type_One year  \\\n",
       "5981                     1                      1                       0   \n",
       "4435                     0                      0                       0   \n",
       "5154                     0                      1                       0   \n",
       "5117                     1                      1                       0   \n",
       "6971                     0                      1                       0   \n",
       "\n",
       "      contract_type_Two year  payment_type_Credit card (automatic)  \\\n",
       "5981                       1                                     1   \n",
       "4435                       1                                     0   \n",
       "5154                       0                                     0   \n",
       "5117                       1                                     1   \n",
       "6971                       0                                     1   \n",
       "\n",
       "      payment_type_Electronic check  payment_type_Mailed check  \\\n",
       "5981                              0                          0   \n",
       "4435                              0                          1   \n",
       "5154                              0                          0   \n",
       "5117                              0                          0   \n",
       "6971                              0                          0   \n",
       "\n",
       "      internet_service_type_Fiber optic  internet_service_type_None  \n",
       "5981                                  0                           0  \n",
       "4435                                  0                           0  \n",
       "5154                                  1                           0  \n",
       "5117                                  0                           0  \n",
       "6971                                  1                           0  \n",
       "\n",
       "[5 rows x 33 columns]"
      ]
     },
     "execution_count": 54,
     "metadata": {},
     "output_type": "execute_result"
    }
   ],
   "source": [
    "# Part 2: Clearing out object dtypes from the X_ dfs to allow the models to work\n",
    "X_train = X_train.select_dtypes(include= np.number)\n",
    "X_validate = X_validate.select_dtypes(include= np.number)\n",
    "X_test = X_test.select_dtypes(include= np.number)\n",
    "\n",
    "# Sanity checks\n",
    "print(X_train.shape, X_validate.shape, X_test.shape)\n",
    "X_train.info()\n",
    "X_train.head()"
   ]
  },
  {
   "cell_type": "markdown",
   "metadata": {},
   "source": [
    "### Make, fit and train models"
   ]
  },
  {
   "cell_type": "markdown",
   "metadata": {},
   "source": [
    "Decision Trees, precursors for Random Forest"
   ]
  },
  {
   "cell_type": "code",
   "execution_count": 55,
   "metadata": {},
   "outputs": [
    {
     "data": {
      "text/plain": [
       "array([[0.99118943, 0.00881057],\n",
       "       [0.99118943, 0.00881057],\n",
       "       [0.54525386, 0.45474614],\n",
       "       ...,\n",
       "       [0.99118943, 0.00881057],\n",
       "       [0.75483871, 0.24516129],\n",
       "       [0.78828829, 0.21171171]])"
      ]
     },
     "execution_count": 55,
     "metadata": {},
     "output_type": "execute_result"
    }
   ],
   "source": [
    "telco_tree1 = DecisionTreeClassifier(max_depth=4, random_state=302)\n",
    "telco_tree1.fit(X_train, y_train)\n",
    "\n",
    "telco_tree1_pred = telco_tree1.predict(X_train)\n",
    "telco_tree1_prob = telco_tree1.predict_proba(X_train)\n",
    "\n",
    "telco_tree1_prob"
   ]
  },
  {
   "cell_type": "code",
   "execution_count": 17,
   "metadata": {},
   "outputs": [
    {
     "name": "stdout",
     "output_type": "stream",
     "text": [
      "Accuracy score for Telco tree 1: 0.7962915925831852\n",
      "Confusion matrix for Telco tree 1:\n",
      "[[2704  187]\n",
      " [ 615  431]]\n",
      "Classification report for Telco tree 1:\n",
      "              precision    recall  f1-score   support\n",
      "\n",
      "           0       0.81      0.94      0.87      2891\n",
      "           1       0.70      0.41      0.52      1046\n",
      "\n",
      "    accuracy                           0.80      3937\n",
      "   macro avg       0.76      0.67      0.69      3937\n",
      "weighted avg       0.78      0.80      0.78      3937\n",
      "\n"
     ]
    }
   ],
   "source": [
    "print(f'Accuracy score for Telco tree 1: {telco_tree1.score(X_train, y_train)}')\n",
    "print(f'Confusion matrix for Telco tree 1:\\n{confusion_matrix(y_train, telco_tree1_pred)}')\n",
    "print(f'Classification report for Telco tree 1:\\n{classification_report(y_train, telco_tree1_pred)}')"
   ]
  },
  {
   "cell_type": "code",
   "execution_count": 56,
   "metadata": {},
   "outputs": [
    {
     "data": {
      "image/svg+xml": "<?xml version=\"1.0\" encoding=\"UTF-8\" standalone=\"no\"?>\n<!DOCTYPE svg PUBLIC \"-//W3C//DTD SVG 1.1//EN\"\n \"http://www.w3.org/Graphics/SVG/1.1/DTD/svg11.dtd\">\n<!-- Generated by graphviz version 2.50.0 (20211204.2007)\n -->\n<!-- Title: Tree Pages: 1 -->\n<svg width=\"2103pt\" height=\"477pt\"\n viewBox=\"0.00 0.00 2103.00 477.00\" xmlns=\"http://www.w3.org/2000/svg\" xmlns:xlink=\"http://www.w3.org/1999/xlink\">\n<g id=\"graph0\" class=\"graph\" transform=\"scale(1 1) rotate(0) translate(4 473)\">\n<title>Tree</title>\n<polygon fill=\"white\" stroke=\"transparent\" points=\"-4,4 -4,-473 2099,-473 2099,4 -4,4\"/>\n<!-- 0 -->\n<g id=\"node1\" class=\"node\">\n<title>0</title>\n<path fill=\"#eeaf81\" stroke=\"black\" d=\"M1138,-469C1138,-469 1013,-469 1013,-469 1007,-469 1001,-463 1001,-457 1001,-457 1001,-413 1001,-413 1001,-407 1007,-401 1013,-401 1013,-401 1138,-401 1138,-401 1144,-401 1150,-407 1150,-413 1150,-413 1150,-457 1150,-457 1150,-463 1144,-469 1138,-469\"/>\n<text text-anchor=\"start\" x=\"1009\" y=\"-453.8\" font-family=\"Helvetica,sans-Serif\" font-size=\"14.00\">contract_type_id ≤ 1.5</text>\n<text text-anchor=\"start\" x=\"1043.5\" y=\"-438.8\" font-family=\"Helvetica,sans-Serif\" font-size=\"14.00\">gini = 0.39</text>\n<text text-anchor=\"start\" x=\"1027\" y=\"-423.8\" font-family=\"Helvetica,sans-Serif\" font-size=\"14.00\">samples = 3937</text>\n<text text-anchor=\"start\" x=\"1013.5\" y=\"-408.8\" font-family=\"Helvetica,sans-Serif\" font-size=\"14.00\">value = [2891, 1046]</text>\n</g>\n<!-- 1 -->\n<g id=\"node2\" class=\"node\">\n<title>1</title>\n<path fill=\"#f8dfcc\" stroke=\"black\" d=\"M923,-365C923,-365 698,-365 698,-365 692,-365 686,-359 686,-353 686,-353 686,-309 686,-309 686,-303 692,-297 698,-297 698,-297 923,-297 923,-297 929,-297 935,-303 935,-309 935,-309 935,-353 935,-353 935,-359 929,-365 923,-365\"/>\n<text text-anchor=\"start\" x=\"694\" y=\"-349.8\" font-family=\"Helvetica,sans-Serif\" font-size=\"14.00\">internet_service_type_Fiber optic ≤ 0.5</text>\n<text text-anchor=\"start\" x=\"775\" y=\"-334.8\" font-family=\"Helvetica,sans-Serif\" font-size=\"14.00\">gini = 0.489</text>\n<text text-anchor=\"start\" x=\"762\" y=\"-319.8\" font-family=\"Helvetica,sans-Serif\" font-size=\"14.00\">samples = 2184</text>\n<text text-anchor=\"start\" x=\"752.5\" y=\"-304.8\" font-family=\"Helvetica,sans-Serif\" font-size=\"14.00\">value = [1253, 931]</text>\n</g>\n<!-- 0&#45;&gt;1 -->\n<g id=\"edge1\" class=\"edge\">\n<title>0&#45;&gt;1</title>\n<path fill=\"none\" stroke=\"black\" d=\"M1000.98,-405.32C971.57,-394 937.41,-380.85 906.2,-368.84\"/>\n<polygon fill=\"black\" stroke=\"black\" points=\"907.21,-365.48 896.62,-365.15 904.7,-372.01 907.21,-365.48\"/>\n<text text-anchor=\"middle\" x=\"906.77\" y=\"-384.3\" font-family=\"Helvetica,sans-Serif\" font-size=\"14.00\">True</text>\n</g>\n<!-- 16 -->\n<g id=\"node17\" class=\"node\">\n<title>16</title>\n<path fill=\"#e78a47\" stroke=\"black\" d=\"M1433.5,-365C1433.5,-365 1281.5,-365 1281.5,-365 1275.5,-365 1269.5,-359 1269.5,-353 1269.5,-353 1269.5,-309 1269.5,-309 1269.5,-303 1275.5,-297 1281.5,-297 1281.5,-297 1433.5,-297 1433.5,-297 1439.5,-297 1445.5,-303 1445.5,-309 1445.5,-309 1445.5,-353 1445.5,-353 1445.5,-359 1439.5,-365 1433.5,-365\"/>\n<text text-anchor=\"start\" x=\"1277.5\" y=\"-349.8\" font-family=\"Helvetica,sans-Serif\" font-size=\"14.00\">monthly_charges ≤ 92.425</text>\n<text text-anchor=\"start\" x=\"1322\" y=\"-334.8\" font-family=\"Helvetica,sans-Serif\" font-size=\"14.00\">gini = 0.123</text>\n<text text-anchor=\"start\" x=\"1309\" y=\"-319.8\" font-family=\"Helvetica,sans-Serif\" font-size=\"14.00\">samples = 1753</text>\n<text text-anchor=\"start\" x=\"1299.5\" y=\"-304.8\" font-family=\"Helvetica,sans-Serif\" font-size=\"14.00\">value = [1638, 115]</text>\n</g>\n<!-- 0&#45;&gt;16 -->\n<g id=\"edge16\" class=\"edge\">\n<title>0&#45;&gt;16</title>\n<path fill=\"none\" stroke=\"black\" d=\"M1150.33,-406.93C1183.88,-394.8 1223.9,-380.32 1259.78,-367.35\"/>\n<polygon fill=\"black\" stroke=\"black\" points=\"1261.08,-370.6 1269.29,-363.91 1258.69,-364.02 1261.08,-370.6\"/>\n<text text-anchor=\"middle\" x=\"1258.68\" y=\"-382.84\" font-family=\"Helvetica,sans-Serif\" font-size=\"14.00\">False</text>\n</g>\n<!-- 2 -->\n<g id=\"node3\" class=\"node\">\n<title>2</title>\n<path fill=\"#efb083\" stroke=\"black\" d=\"M518,-261C518,-261 417,-261 417,-261 411,-261 405,-255 405,-249 405,-249 405,-205 405,-205 405,-199 411,-193 417,-193 417,-193 518,-193 518,-193 524,-193 530,-199 530,-205 530,-205 530,-249 530,-249 530,-255 524,-261 518,-261\"/>\n<text text-anchor=\"start\" x=\"431\" y=\"-245.8\" font-family=\"Helvetica,sans-Serif\" font-size=\"14.00\">tenure ≤ 5.5</text>\n<text text-anchor=\"start\" x=\"432\" y=\"-230.8\" font-family=\"Helvetica,sans-Serif\" font-size=\"14.00\">gini = 0.396</text>\n<text text-anchor=\"start\" x=\"422.5\" y=\"-215.8\" font-family=\"Helvetica,sans-Serif\" font-size=\"14.00\">samples = 981</text>\n<text text-anchor=\"start\" x=\"413\" y=\"-200.8\" font-family=\"Helvetica,sans-Serif\" font-size=\"14.00\">value = [714, 267]</text>\n</g>\n<!-- 1&#45;&gt;2 -->\n<g id=\"edge2\" class=\"edge\">\n<title>1&#45;&gt;2</title>\n<path fill=\"none\" stroke=\"black\" d=\"M699.14,-296.88C646.91,-281.35 586.16,-263.29 539.98,-249.55\"/>\n<polygon fill=\"black\" stroke=\"black\" points=\"540.94,-246.19 530.35,-246.69 538.94,-252.9 540.94,-246.19\"/>\n</g>\n<!-- 9 -->\n<g id=\"node10\" class=\"node\">\n<title>9</title>\n<path fill=\"#daedfa\" stroke=\"black\" d=\"M861,-261C861,-261 760,-261 760,-261 754,-261 748,-255 748,-249 748,-249 748,-205 748,-205 748,-199 754,-193 760,-193 760,-193 861,-193 861,-193 867,-193 873,-199 873,-205 873,-205 873,-249 873,-249 873,-255 867,-261 861,-261\"/>\n<text text-anchor=\"start\" x=\"770.5\" y=\"-245.8\" font-family=\"Helvetica,sans-Serif\" font-size=\"14.00\">tenure ≤ 16.5</text>\n<text text-anchor=\"start\" x=\"775\" y=\"-230.8\" font-family=\"Helvetica,sans-Serif\" font-size=\"14.00\">gini = 0.495</text>\n<text text-anchor=\"start\" x=\"762\" y=\"-215.8\" font-family=\"Helvetica,sans-Serif\" font-size=\"14.00\">samples = 1203</text>\n<text text-anchor=\"start\" x=\"756\" y=\"-200.8\" font-family=\"Helvetica,sans-Serif\" font-size=\"14.00\">value = [539, 664]</text>\n</g>\n<!-- 1&#45;&gt;9 -->\n<g id=\"edge9\" class=\"edge\">\n<title>1&#45;&gt;9</title>\n<path fill=\"none\" stroke=\"black\" d=\"M810.5,-296.88C810.5,-288.78 810.5,-279.98 810.5,-271.47\"/>\n<polygon fill=\"black\" stroke=\"black\" points=\"814,-271.3 810.5,-261.3 807,-271.3 814,-271.3\"/>\n</g>\n<!-- 3 -->\n<g id=\"node4\" class=\"node\">\n<title>3</title>\n<path fill=\"#f6d4bb\" stroke=\"black\" d=\"M313.5,-157C313.5,-157 89.5,-157 89.5,-157 83.5,-157 77.5,-151 77.5,-145 77.5,-145 77.5,-101 77.5,-101 77.5,-95 83.5,-89 89.5,-89 89.5,-89 313.5,-89 313.5,-89 319.5,-89 325.5,-95 325.5,-101 325.5,-101 325.5,-145 325.5,-145 325.5,-151 319.5,-157 313.5,-157\"/>\n<text text-anchor=\"start\" x=\"85.5\" y=\"-141.8\" font-family=\"Helvetica,sans-Serif\" font-size=\"14.00\">tech_support_No internet service ≤ 0.5</text>\n<text text-anchor=\"start\" x=\"166\" y=\"-126.8\" font-family=\"Helvetica,sans-Serif\" font-size=\"14.00\">gini = 0.478</text>\n<text text-anchor=\"start\" x=\"156.5\" y=\"-111.8\" font-family=\"Helvetica,sans-Serif\" font-size=\"14.00\">samples = 414</text>\n<text text-anchor=\"start\" x=\"147\" y=\"-96.8\" font-family=\"Helvetica,sans-Serif\" font-size=\"14.00\">value = [250, 164]</text>\n</g>\n<!-- 2&#45;&gt;3 -->\n<g id=\"edge3\" class=\"edge\">\n<title>2&#45;&gt;3</title>\n<path fill=\"none\" stroke=\"black\" d=\"M404.8,-201.96C372.72,-189.66 332.99,-174.42 297.18,-160.69\"/>\n<polygon fill=\"black\" stroke=\"black\" points=\"298.28,-157.36 287.69,-157.05 295.77,-163.9 298.28,-157.36\"/>\n</g>\n<!-- 6 -->\n<g id=\"node7\" class=\"node\">\n<title>6</title>\n<path fill=\"#eb9d65\" stroke=\"black\" d=\"M578,-157C578,-157 357,-157 357,-157 351,-157 345,-151 345,-145 345,-145 345,-101 345,-101 345,-95 351,-89 357,-89 357,-89 578,-89 578,-89 584,-89 590,-95 590,-101 590,-101 590,-145 590,-145 590,-151 584,-157 578,-157\"/>\n<text text-anchor=\"start\" x=\"353\" y=\"-141.8\" font-family=\"Helvetica,sans-Serif\" font-size=\"14.00\">multiple_lines_No phone service ≤ 0.5</text>\n<text text-anchor=\"start\" x=\"432\" y=\"-126.8\" font-family=\"Helvetica,sans-Serif\" font-size=\"14.00\">gini = 0.297</text>\n<text text-anchor=\"start\" x=\"422.5\" y=\"-111.8\" font-family=\"Helvetica,sans-Serif\" font-size=\"14.00\">samples = 567</text>\n<text text-anchor=\"start\" x=\"413\" y=\"-96.8\" font-family=\"Helvetica,sans-Serif\" font-size=\"14.00\">value = [464, 103]</text>\n</g>\n<!-- 2&#45;&gt;6 -->\n<g id=\"edge6\" class=\"edge\">\n<title>2&#45;&gt;6</title>\n<path fill=\"none\" stroke=\"black\" d=\"M467.5,-192.88C467.5,-184.78 467.5,-175.98 467.5,-167.47\"/>\n<polygon fill=\"black\" stroke=\"black\" points=\"471,-167.3 467.5,-157.3 464,-167.3 471,-167.3\"/>\n</g>\n<!-- 4 -->\n<g id=\"node5\" class=\"node\">\n<title>4</title>\n<path fill=\"#fef8f5\" stroke=\"black\" d=\"M113,-53C113,-53 12,-53 12,-53 6,-53 0,-47 0,-41 0,-41 0,-12 0,-12 0,-6 6,0 12,0 12,0 113,0 113,0 119,0 125,-6 125,-12 125,-12 125,-41 125,-41 125,-47 119,-53 113,-53\"/>\n<text text-anchor=\"start\" x=\"34.5\" y=\"-37.8\" font-family=\"Helvetica,sans-Serif\" font-size=\"14.00\">gini = 0.5</text>\n<text text-anchor=\"start\" x=\"17.5\" y=\"-22.8\" font-family=\"Helvetica,sans-Serif\" font-size=\"14.00\">samples = 259</text>\n<text text-anchor=\"start\" x=\"8\" y=\"-7.8\" font-family=\"Helvetica,sans-Serif\" font-size=\"14.00\">value = [133, 126]</text>\n</g>\n<!-- 3&#45;&gt;4 -->\n<g id=\"edge4\" class=\"edge\">\n<title>3&#45;&gt;4</title>\n<path fill=\"none\" stroke=\"black\" d=\"M152.88,-88.95C138.62,-79.25 123.06,-68.68 108.94,-59.07\"/>\n<polygon fill=\"black\" stroke=\"black\" points=\"110.59,-55.96 100.36,-53.24 106.66,-61.75 110.59,-55.96\"/>\n</g>\n<!-- 5 -->\n<g id=\"node6\" class=\"node\">\n<title>5</title>\n<path fill=\"#edaa79\" stroke=\"black\" d=\"M248,-53C248,-53 155,-53 155,-53 149,-53 143,-47 143,-41 143,-41 143,-12 143,-12 143,-6 149,0 155,0 155,0 248,0 248,0 254,0 260,-6 260,-12 260,-12 260,-41 260,-41 260,-47 254,-53 248,-53\"/>\n<text text-anchor=\"start\" x=\"169.5\" y=\"-37.8\" font-family=\"Helvetica,sans-Serif\" font-size=\"14.00\">gini = 0.37</text>\n<text text-anchor=\"start\" x=\"156.5\" y=\"-22.8\" font-family=\"Helvetica,sans-Serif\" font-size=\"14.00\">samples = 155</text>\n<text text-anchor=\"start\" x=\"151\" y=\"-7.8\" font-family=\"Helvetica,sans-Serif\" font-size=\"14.00\">value = [117, 38]</text>\n</g>\n<!-- 3&#45;&gt;5 -->\n<g id=\"edge5\" class=\"edge\">\n<title>3&#45;&gt;5</title>\n<path fill=\"none\" stroke=\"black\" d=\"M201.5,-88.95C201.5,-80.72 201.5,-71.85 201.5,-63.48\"/>\n<polygon fill=\"black\" stroke=\"black\" points=\"205,-63.24 201.5,-53.24 198,-63.24 205,-63.24\"/>\n</g>\n<!-- 7 -->\n<g id=\"node8\" class=\"node\">\n<title>7</title>\n<path fill=\"#e99659\" stroke=\"black\" d=\"M383,-53C383,-53 290,-53 290,-53 284,-53 278,-47 278,-41 278,-41 278,-12 278,-12 278,-6 284,0 290,0 290,0 383,0 383,0 389,0 395,-6 395,-12 395,-12 395,-41 395,-41 395,-47 389,-53 383,-53\"/>\n<text text-anchor=\"start\" x=\"301\" y=\"-37.8\" font-family=\"Helvetica,sans-Serif\" font-size=\"14.00\">gini = 0.241</text>\n<text text-anchor=\"start\" x=\"291.5\" y=\"-22.8\" font-family=\"Helvetica,sans-Serif\" font-size=\"14.00\">samples = 428</text>\n<text text-anchor=\"start\" x=\"286\" y=\"-7.8\" font-family=\"Helvetica,sans-Serif\" font-size=\"14.00\">value = [368, 60]</text>\n</g>\n<!-- 6&#45;&gt;7 -->\n<g id=\"edge7\" class=\"edge\">\n<title>6&#45;&gt;7</title>\n<path fill=\"none\" stroke=\"black\" d=\"M421.68,-88.95C408.37,-79.34 393.86,-68.87 380.64,-59.34\"/>\n<polygon fill=\"black\" stroke=\"black\" points=\"382.34,-56.25 372.18,-53.24 378.24,-61.93 382.34,-56.25\"/>\n</g>\n<!-- 8 -->\n<g id=\"node9\" class=\"node\">\n<title>8</title>\n<path fill=\"#f1b992\" stroke=\"black\" d=\"M511.5,-53C511.5,-53 425.5,-53 425.5,-53 419.5,-53 413.5,-47 413.5,-41 413.5,-41 413.5,-12 413.5,-12 413.5,-6 419.5,0 425.5,0 425.5,0 511.5,0 511.5,0 517.5,0 523.5,-6 523.5,-12 523.5,-12 523.5,-41 523.5,-41 523.5,-47 517.5,-53 511.5,-53\"/>\n<text text-anchor=\"start\" x=\"433\" y=\"-37.8\" font-family=\"Helvetica,sans-Serif\" font-size=\"14.00\">gini = 0.427</text>\n<text text-anchor=\"start\" x=\"423.5\" y=\"-22.8\" font-family=\"Helvetica,sans-Serif\" font-size=\"14.00\">samples = 139</text>\n<text text-anchor=\"start\" x=\"421.5\" y=\"-7.8\" font-family=\"Helvetica,sans-Serif\" font-size=\"14.00\">value = [96, 43]</text>\n</g>\n<!-- 6&#45;&gt;8 -->\n<g id=\"edge8\" class=\"edge\">\n<title>6&#45;&gt;8</title>\n<path fill=\"none\" stroke=\"black\" d=\"M467.85,-88.95C467.94,-80.72 468.03,-71.85 468.12,-63.48\"/>\n<polygon fill=\"black\" stroke=\"black\" points=\"471.62,-63.27 468.23,-53.24 464.62,-63.2 471.62,-63.27\"/>\n</g>\n<!-- 10 -->\n<g id=\"node11\" class=\"node\">\n<title>10</title>\n<path fill=\"#90c8f0\" stroke=\"black\" d=\"M794.5,-157C794.5,-157 672.5,-157 672.5,-157 666.5,-157 660.5,-151 660.5,-145 660.5,-145 660.5,-101 660.5,-101 660.5,-95 666.5,-89 672.5,-89 672.5,-89 794.5,-89 794.5,-89 800.5,-89 806.5,-95 806.5,-101 806.5,-101 806.5,-145 806.5,-145 806.5,-151 800.5,-157 794.5,-157\"/>\n<text text-anchor=\"start\" x=\"668.5\" y=\"-141.8\" font-family=\"Helvetica,sans-Serif\" font-size=\"14.00\">total_charges ≤ 120.0</text>\n<text text-anchor=\"start\" x=\"698\" y=\"-126.8\" font-family=\"Helvetica,sans-Serif\" font-size=\"14.00\">gini = 0.424</text>\n<text text-anchor=\"start\" x=\"688.5\" y=\"-111.8\" font-family=\"Helvetica,sans-Serif\" font-size=\"14.00\">samples = 614</text>\n<text text-anchor=\"start\" x=\"679\" y=\"-96.8\" font-family=\"Helvetica,sans-Serif\" font-size=\"14.00\">value = [187, 427]</text>\n</g>\n<!-- 9&#45;&gt;10 -->\n<g id=\"edge10\" class=\"edge\">\n<title>9&#45;&gt;10</title>\n<path fill=\"none\" stroke=\"black\" d=\"M785.5,-192.88C778.91,-184.15 771.72,-174.62 764.84,-165.51\"/>\n<polygon fill=\"black\" stroke=\"black\" points=\"767.46,-163.17 758.64,-157.3 761.87,-167.39 767.46,-163.17\"/>\n</g>\n<!-- 13 -->\n<g id=\"node14\" class=\"node\">\n<title>13</title>\n<path fill=\"#f7d6be\" stroke=\"black\" d=\"M938,-157C938,-157 837,-157 837,-157 831,-157 825,-151 825,-145 825,-145 825,-101 825,-101 825,-95 831,-89 837,-89 837,-89 938,-89 938,-89 944,-89 950,-95 950,-101 950,-101 950,-145 950,-145 950,-151 944,-157 938,-157\"/>\n<text text-anchor=\"start\" x=\"847.5\" y=\"-141.8\" font-family=\"Helvetica,sans-Serif\" font-size=\"14.00\">tenure ≤ 50.5</text>\n<text text-anchor=\"start\" x=\"852\" y=\"-126.8\" font-family=\"Helvetica,sans-Serif\" font-size=\"14.00\">gini = 0.481</text>\n<text text-anchor=\"start\" x=\"842.5\" y=\"-111.8\" font-family=\"Helvetica,sans-Serif\" font-size=\"14.00\">samples = 589</text>\n<text text-anchor=\"start\" x=\"833\" y=\"-96.8\" font-family=\"Helvetica,sans-Serif\" font-size=\"14.00\">value = [352, 237]</text>\n</g>\n<!-- 9&#45;&gt;13 -->\n<g id=\"edge13\" class=\"edge\">\n<title>9&#45;&gt;13</title>\n<path fill=\"none\" stroke=\"black\" d=\"M835.5,-192.88C842.09,-184.15 849.28,-174.62 856.16,-165.51\"/>\n<polygon fill=\"black\" stroke=\"black\" points=\"859.13,-167.39 862.36,-157.3 853.54,-163.17 859.13,-167.39\"/>\n</g>\n<!-- 11 -->\n<g id=\"node12\" class=\"node\">\n<title>11</title>\n<path fill=\"#56ace9\" stroke=\"black\" d=\"M647,-53C647,-53 554,-53 554,-53 548,-53 542,-47 542,-41 542,-41 542,-12 542,-12 542,-6 548,0 554,0 554,0 647,0 647,0 653,0 659,-6 659,-12 659,-12 659,-41 659,-41 659,-47 653,-53 647,-53\"/>\n<text text-anchor=\"start\" x=\"565\" y=\"-37.8\" font-family=\"Helvetica,sans-Serif\" font-size=\"14.00\">gini = 0.225</text>\n<text text-anchor=\"start\" x=\"555.5\" y=\"-22.8\" font-family=\"Helvetica,sans-Serif\" font-size=\"14.00\">samples = 139</text>\n<text text-anchor=\"start\" x=\"550\" y=\"-7.8\" font-family=\"Helvetica,sans-Serif\" font-size=\"14.00\">value = [18, 121]</text>\n</g>\n<!-- 10&#45;&gt;11 -->\n<g id=\"edge11\" class=\"edge\">\n<title>10&#45;&gt;11</title>\n<path fill=\"none\" stroke=\"black\" d=\"M686.98,-88.95C673.34,-79.25 658.45,-68.68 644.94,-59.07\"/>\n<polygon fill=\"black\" stroke=\"black\" points=\"646.9,-56.18 636.72,-53.24 642.85,-61.88 646.9,-56.18\"/>\n</g>\n<!-- 12 -->\n<g id=\"node13\" class=\"node\">\n<title>12</title>\n<path fill=\"#a6d3f3\" stroke=\"black\" d=\"M790,-53C790,-53 689,-53 689,-53 683,-53 677,-47 677,-41 677,-41 677,-12 677,-12 677,-6 683,0 689,0 689,0 790,0 790,0 796,0 802,-6 802,-12 802,-12 802,-41 802,-41 802,-47 796,-53 790,-53\"/>\n<text text-anchor=\"start\" x=\"704\" y=\"-37.8\" font-family=\"Helvetica,sans-Serif\" font-size=\"14.00\">gini = 0.458</text>\n<text text-anchor=\"start\" x=\"694.5\" y=\"-22.8\" font-family=\"Helvetica,sans-Serif\" font-size=\"14.00\">samples = 475</text>\n<text text-anchor=\"start\" x=\"685\" y=\"-7.8\" font-family=\"Helvetica,sans-Serif\" font-size=\"14.00\">value = [169, 306]</text>\n</g>\n<!-- 10&#45;&gt;12 -->\n<g id=\"edge12\" class=\"edge\">\n<title>10&#45;&gt;12</title>\n<path fill=\"none\" stroke=\"black\" d=\"M735.6,-88.95C736.12,-80.72 736.68,-71.85 737.22,-63.48\"/>\n<polygon fill=\"black\" stroke=\"black\" points=\"740.73,-63.44 737.87,-53.24 733.74,-62.99 740.73,-63.44\"/>\n</g>\n<!-- 14 -->\n<g id=\"node15\" class=\"node\">\n<title>14</title>\n<path fill=\"#fbeade\" stroke=\"black\" d=\"M933,-53C933,-53 832,-53 832,-53 826,-53 820,-47 820,-41 820,-41 820,-12 820,-12 820,-6 826,0 832,0 832,0 933,0 933,0 939,0 945,-6 945,-12 945,-12 945,-41 945,-41 945,-47 939,-53 933,-53\"/>\n<text text-anchor=\"start\" x=\"847\" y=\"-37.8\" font-family=\"Helvetica,sans-Serif\" font-size=\"14.00\">gini = 0.496</text>\n<text text-anchor=\"start\" x=\"837.5\" y=\"-22.8\" font-family=\"Helvetica,sans-Serif\" font-size=\"14.00\">samples = 453</text>\n<text text-anchor=\"start\" x=\"828\" y=\"-7.8\" font-family=\"Helvetica,sans-Serif\" font-size=\"14.00\">value = [247, 206]</text>\n</g>\n<!-- 13&#45;&gt;14 -->\n<g id=\"edge14\" class=\"edge\">\n<title>13&#45;&gt;14</title>\n<path fill=\"none\" stroke=\"black\" d=\"M885.75,-88.95C885.32,-80.72 884.85,-71.85 884.4,-63.48\"/>\n<polygon fill=\"black\" stroke=\"black\" points=\"887.89,-63.04 883.86,-53.24 880.9,-63.41 887.89,-63.04\"/>\n</g>\n<!-- 15 -->\n<g id=\"node16\" class=\"node\">\n<title>15</title>\n<path fill=\"#eda673\" stroke=\"black\" d=\"M1068,-53C1068,-53 975,-53 975,-53 969,-53 963,-47 963,-41 963,-41 963,-12 963,-12 963,-6 969,0 975,0 975,0 1068,0 1068,0 1074,0 1080,-6 1080,-12 1080,-12 1080,-41 1080,-41 1080,-47 1074,-53 1068,-53\"/>\n<text text-anchor=\"start\" x=\"986\" y=\"-37.8\" font-family=\"Helvetica,sans-Serif\" font-size=\"14.00\">gini = 0.352</text>\n<text text-anchor=\"start\" x=\"976.5\" y=\"-22.8\" font-family=\"Helvetica,sans-Serif\" font-size=\"14.00\">samples = 136</text>\n<text text-anchor=\"start\" x=\"971\" y=\"-7.8\" font-family=\"Helvetica,sans-Serif\" font-size=\"14.00\">value = [105, 31]</text>\n</g>\n<!-- 13&#45;&gt;15 -->\n<g id=\"edge15\" class=\"edge\">\n<title>13&#45;&gt;15</title>\n<path fill=\"none\" stroke=\"black\" d=\"M934.37,-88.95C948.12,-79.25 963.11,-68.68 976.73,-59.07\"/>\n<polygon fill=\"black\" stroke=\"black\" points=\"978.85,-61.86 985.01,-53.24 974.82,-56.14 978.85,-61.86\"/>\n</g>\n<!-- 17 -->\n<g id=\"node18\" class=\"node\">\n<title>17</title>\n<path fill=\"#e68641\" stroke=\"black\" d=\"M1442.5,-261C1442.5,-261 1272.5,-261 1272.5,-261 1266.5,-261 1260.5,-255 1260.5,-249 1260.5,-249 1260.5,-205 1260.5,-205 1260.5,-199 1266.5,-193 1272.5,-193 1272.5,-193 1442.5,-193 1442.5,-193 1448.5,-193 1454.5,-199 1454.5,-205 1454.5,-205 1454.5,-249 1454.5,-249 1454.5,-255 1448.5,-261 1442.5,-261\"/>\n<text text-anchor=\"start\" x=\"1268.5\" y=\"-245.8\" font-family=\"Helvetica,sans-Serif\" font-size=\"14.00\">contract_type_Two year ≤ 0.5</text>\n<text text-anchor=\"start\" x=\"1322\" y=\"-230.8\" font-family=\"Helvetica,sans-Serif\" font-size=\"14.00\">gini = 0.074</text>\n<text text-anchor=\"start\" x=\"1309\" y=\"-215.8\" font-family=\"Helvetica,sans-Serif\" font-size=\"14.00\">samples = 1306</text>\n<text text-anchor=\"start\" x=\"1303\" y=\"-200.8\" font-family=\"Helvetica,sans-Serif\" font-size=\"14.00\">value = [1256, 50]</text>\n</g>\n<!-- 16&#45;&gt;17 -->\n<g id=\"edge17\" class=\"edge\">\n<title>16&#45;&gt;17</title>\n<path fill=\"none\" stroke=\"black\" d=\"M1357.5,-296.88C1357.5,-288.78 1357.5,-279.98 1357.5,-271.47\"/>\n<polygon fill=\"black\" stroke=\"black\" points=\"1361,-271.3 1357.5,-261.3 1354,-271.3 1361,-271.3\"/>\n</g>\n<!-- 24 -->\n<g id=\"node25\" class=\"node\">\n<title>24</title>\n<path fill=\"#e9965b\" stroke=\"black\" d=\"M1783.5,-261C1783.5,-261 1653.5,-261 1653.5,-261 1647.5,-261 1641.5,-255 1641.5,-249 1641.5,-249 1641.5,-205 1641.5,-205 1641.5,-199 1647.5,-193 1653.5,-193 1653.5,-193 1783.5,-193 1783.5,-193 1789.5,-193 1795.5,-199 1795.5,-205 1795.5,-205 1795.5,-249 1795.5,-249 1795.5,-255 1789.5,-261 1783.5,-261\"/>\n<text text-anchor=\"start\" x=\"1649.5\" y=\"-245.8\" font-family=\"Helvetica,sans-Serif\" font-size=\"14.00\">total_charges ≤ 6586.1</text>\n<text text-anchor=\"start\" x=\"1683\" y=\"-230.8\" font-family=\"Helvetica,sans-Serif\" font-size=\"14.00\">gini = 0.249</text>\n<text text-anchor=\"start\" x=\"1673.5\" y=\"-215.8\" font-family=\"Helvetica,sans-Serif\" font-size=\"14.00\">samples = 447</text>\n<text text-anchor=\"start\" x=\"1668\" y=\"-200.8\" font-family=\"Helvetica,sans-Serif\" font-size=\"14.00\">value = [382, 65]</text>\n</g>\n<!-- 16&#45;&gt;24 -->\n<g id=\"edge24\" class=\"edge\">\n<title>16&#45;&gt;24</title>\n<path fill=\"none\" stroke=\"black\" d=\"M1445.81,-305.05C1502.23,-289.11 1575.07,-268.53 1631.27,-252.65\"/>\n<polygon fill=\"black\" stroke=\"black\" points=\"1632.54,-255.93 1641.21,-249.84 1630.63,-249.19 1632.54,-255.93\"/>\n</g>\n<!-- 18 -->\n<g id=\"node19\" class=\"node\">\n<title>18</title>\n<path fill=\"#e78b48\" stroke=\"black\" d=\"M1343,-157C1343,-157 1208,-157 1208,-157 1202,-157 1196,-151 1196,-145 1196,-145 1196,-101 1196,-101 1196,-95 1202,-89 1208,-89 1208,-89 1343,-89 1343,-89 1349,-89 1355,-95 1355,-101 1355,-101 1355,-145 1355,-145 1355,-151 1349,-157 1343,-157\"/>\n<text text-anchor=\"start\" x=\"1204\" y=\"-141.8\" font-family=\"Helvetica,sans-Serif\" font-size=\"14.00\">streaming_tv_Yes ≤ 0.5</text>\n<text text-anchor=\"start\" x=\"1240\" y=\"-126.8\" font-family=\"Helvetica,sans-Serif\" font-size=\"14.00\">gini = 0.135</text>\n<text text-anchor=\"start\" x=\"1230.5\" y=\"-111.8\" font-family=\"Helvetica,sans-Serif\" font-size=\"14.00\">samples = 579</text>\n<text text-anchor=\"start\" x=\"1225\" y=\"-96.8\" font-family=\"Helvetica,sans-Serif\" font-size=\"14.00\">value = [537, 42]</text>\n</g>\n<!-- 17&#45;&gt;18 -->\n<g id=\"edge18\" class=\"edge\">\n<title>17&#45;&gt;18</title>\n<path fill=\"none\" stroke=\"black\" d=\"M1330.88,-192.88C1323.79,-184.07 1316.04,-174.43 1308.65,-165.24\"/>\n<polygon fill=\"black\" stroke=\"black\" points=\"1311.26,-162.9 1302.27,-157.3 1305.81,-167.29 1311.26,-162.9\"/>\n</g>\n<!-- 21 -->\n<g id=\"node22\" class=\"node\">\n<title>21</title>\n<path fill=\"#e5823b\" stroke=\"black\" d=\"M1494,-157C1494,-157 1385,-157 1385,-157 1379,-157 1373,-151 1373,-145 1373,-145 1373,-101 1373,-101 1373,-95 1379,-89 1385,-89 1385,-89 1494,-89 1494,-89 1500,-89 1506,-95 1506,-101 1506,-101 1506,-145 1506,-145 1506,-151 1500,-157 1494,-157\"/>\n<text text-anchor=\"start\" x=\"1381\" y=\"-141.8\" font-family=\"Helvetica,sans-Serif\" font-size=\"14.00\">senior_citizen ≤ 0.5</text>\n<text text-anchor=\"start\" x=\"1404\" y=\"-126.8\" font-family=\"Helvetica,sans-Serif\" font-size=\"14.00\">gini = 0.022</text>\n<text text-anchor=\"start\" x=\"1394.5\" y=\"-111.8\" font-family=\"Helvetica,sans-Serif\" font-size=\"14.00\">samples = 727</text>\n<text text-anchor=\"start\" x=\"1392.5\" y=\"-96.8\" font-family=\"Helvetica,sans-Serif\" font-size=\"14.00\">value = [719, 8]</text>\n</g>\n<!-- 17&#45;&gt;21 -->\n<g id=\"edge21\" class=\"edge\">\n<title>17&#45;&gt;21</title>\n<path fill=\"none\" stroke=\"black\" d=\"M1384.12,-192.88C1391.21,-184.07 1398.96,-174.43 1406.35,-165.24\"/>\n<polygon fill=\"black\" stroke=\"black\" points=\"1409.19,-167.29 1412.73,-157.3 1403.74,-162.9 1409.19,-167.29\"/>\n</g>\n<!-- 19 -->\n<g id=\"node20\" class=\"node\">\n<title>19</title>\n<path fill=\"#e68742\" stroke=\"black\" d=\"M1203,-53C1203,-53 1110,-53 1110,-53 1104,-53 1098,-47 1098,-41 1098,-41 1098,-12 1098,-12 1098,-6 1104,0 1110,0 1110,0 1203,0 1203,0 1209,0 1215,-6 1215,-12 1215,-12 1215,-41 1215,-41 1215,-47 1209,-53 1203,-53\"/>\n<text text-anchor=\"start\" x=\"1121\" y=\"-37.8\" font-family=\"Helvetica,sans-Serif\" font-size=\"14.00\">gini = 0.086</text>\n<text text-anchor=\"start\" x=\"1111.5\" y=\"-22.8\" font-family=\"Helvetica,sans-Serif\" font-size=\"14.00\">samples = 423</text>\n<text text-anchor=\"start\" x=\"1106\" y=\"-7.8\" font-family=\"Helvetica,sans-Serif\" font-size=\"14.00\">value = [404, 19]</text>\n</g>\n<!-- 18&#45;&gt;19 -->\n<g id=\"edge19\" class=\"edge\">\n<title>18&#45;&gt;19</title>\n<path fill=\"none\" stroke=\"black\" d=\"M1233.88,-88.95C1221.9,-79.43 1208.85,-69.07 1196.94,-59.62\"/>\n<polygon fill=\"black\" stroke=\"black\" points=\"1198.92,-56.71 1188.91,-53.24 1194.56,-62.2 1198.92,-56.71\"/>\n</g>\n<!-- 20 -->\n<g id=\"node21\" class=\"node\">\n<title>20</title>\n<path fill=\"#e9975b\" stroke=\"black\" d=\"M1338,-53C1338,-53 1245,-53 1245,-53 1239,-53 1233,-47 1233,-41 1233,-41 1233,-12 1233,-12 1233,-6 1239,0 1245,0 1245,0 1338,0 1338,0 1344,0 1350,-6 1350,-12 1350,-12 1350,-41 1350,-41 1350,-47 1344,-53 1338,-53\"/>\n<text text-anchor=\"start\" x=\"1256\" y=\"-37.8\" font-family=\"Helvetica,sans-Serif\" font-size=\"14.00\">gini = 0.251</text>\n<text text-anchor=\"start\" x=\"1246.5\" y=\"-22.8\" font-family=\"Helvetica,sans-Serif\" font-size=\"14.00\">samples = 156</text>\n<text text-anchor=\"start\" x=\"1241\" y=\"-7.8\" font-family=\"Helvetica,sans-Serif\" font-size=\"14.00\">value = [133, 23]</text>\n</g>\n<!-- 18&#45;&gt;20 -->\n<g id=\"edge20\" class=\"edge\">\n<title>18&#45;&gt;20</title>\n<path fill=\"none\" stroke=\"black\" d=\"M1281.1,-88.95C1282.51,-80.62 1284.02,-71.65 1285.46,-63.2\"/>\n<polygon fill=\"black\" stroke=\"black\" points=\"1288.92,-63.68 1287.14,-53.24 1282.02,-62.51 1288.92,-63.68\"/>\n</g>\n<!-- 22 -->\n<g id=\"node23\" class=\"node\">\n<title>22</title>\n<path fill=\"#e5823b\" stroke=\"black\" d=\"M1466.5,-53C1466.5,-53 1380.5,-53 1380.5,-53 1374.5,-53 1368.5,-47 1368.5,-41 1368.5,-41 1368.5,-12 1368.5,-12 1368.5,-6 1374.5,0 1380.5,0 1380.5,0 1466.5,0 1466.5,0 1472.5,0 1478.5,-6 1478.5,-12 1478.5,-12 1478.5,-41 1478.5,-41 1478.5,-47 1472.5,-53 1466.5,-53\"/>\n<text text-anchor=\"start\" x=\"1388\" y=\"-37.8\" font-family=\"Helvetica,sans-Serif\" font-size=\"14.00\">gini = 0.017</text>\n<text text-anchor=\"start\" x=\"1378.5\" y=\"-22.8\" font-family=\"Helvetica,sans-Serif\" font-size=\"14.00\">samples = 681</text>\n<text text-anchor=\"start\" x=\"1376.5\" y=\"-7.8\" font-family=\"Helvetica,sans-Serif\" font-size=\"14.00\">value = [675, 6]</text>\n</g>\n<!-- 21&#45;&gt;22 -->\n<g id=\"edge22\" class=\"edge\">\n<title>21&#45;&gt;22</title>\n<path fill=\"none\" stroke=\"black\" d=\"M1433.9,-88.95C1432.49,-80.62 1430.98,-71.65 1429.54,-63.2\"/>\n<polygon fill=\"black\" stroke=\"black\" points=\"1432.98,-62.51 1427.86,-53.24 1426.08,-63.68 1432.98,-62.51\"/>\n</g>\n<!-- 23 -->\n<g id=\"node24\" class=\"node\">\n<title>23</title>\n<path fill=\"#e68742\" stroke=\"black\" d=\"M1586.5,-53C1586.5,-53 1508.5,-53 1508.5,-53 1502.5,-53 1496.5,-47 1496.5,-41 1496.5,-41 1496.5,-12 1496.5,-12 1496.5,-6 1502.5,0 1508.5,0 1508.5,0 1586.5,0 1586.5,0 1592.5,0 1598.5,-6 1598.5,-12 1598.5,-12 1598.5,-41 1598.5,-41 1598.5,-47 1592.5,-53 1586.5,-53\"/>\n<text text-anchor=\"start\" x=\"1512\" y=\"-37.8\" font-family=\"Helvetica,sans-Serif\" font-size=\"14.00\">gini = 0.083</text>\n<text text-anchor=\"start\" x=\"1506.5\" y=\"-22.8\" font-family=\"Helvetica,sans-Serif\" font-size=\"14.00\">samples = 46</text>\n<text text-anchor=\"start\" x=\"1504.5\" y=\"-7.8\" font-family=\"Helvetica,sans-Serif\" font-size=\"14.00\">value = [44, 2]</text>\n</g>\n<!-- 21&#45;&gt;23 -->\n<g id=\"edge23\" class=\"edge\">\n<title>21&#45;&gt;23</title>\n<path fill=\"none\" stroke=\"black\" d=\"M1477.27,-88.95C1488.04,-79.53 1499.76,-69.27 1510.48,-59.89\"/>\n<polygon fill=\"black\" stroke=\"black\" points=\"1512.87,-62.46 1518.09,-53.24 1508.26,-57.19 1512.87,-62.46\"/>\n</g>\n<!-- 25 -->\n<g id=\"node26\" class=\"node\">\n<title>25</title>\n<path fill=\"#eca572\" stroke=\"black\" d=\"M1765,-157C1765,-157 1672,-157 1672,-157 1666,-157 1660,-151 1660,-145 1660,-145 1660,-101 1660,-101 1660,-95 1666,-89 1672,-89 1672,-89 1765,-89 1765,-89 1771,-89 1777,-95 1777,-101 1777,-101 1777,-145 1777,-145 1777,-151 1771,-157 1765,-157\"/>\n<text text-anchor=\"start\" x=\"1678.5\" y=\"-141.8\" font-family=\"Helvetica,sans-Serif\" font-size=\"14.00\">tenure ≤ 68.5</text>\n<text text-anchor=\"start\" x=\"1683\" y=\"-126.8\" font-family=\"Helvetica,sans-Serif\" font-size=\"14.00\">gini = 0.346</text>\n<text text-anchor=\"start\" x=\"1673.5\" y=\"-111.8\" font-family=\"Helvetica,sans-Serif\" font-size=\"14.00\">samples = 225</text>\n<text text-anchor=\"start\" x=\"1668\" y=\"-96.8\" font-family=\"Helvetica,sans-Serif\" font-size=\"14.00\">value = [175, 50]</text>\n</g>\n<!-- 24&#45;&gt;25 -->\n<g id=\"edge25\" class=\"edge\">\n<title>24&#45;&gt;25</title>\n<path fill=\"none\" stroke=\"black\" d=\"M1718.5,-192.88C1718.5,-184.78 1718.5,-175.98 1718.5,-167.47\"/>\n<polygon fill=\"black\" stroke=\"black\" points=\"1722,-167.3 1718.5,-157.3 1715,-167.3 1722,-167.3\"/>\n</g>\n<!-- 28 -->\n<g id=\"node29\" class=\"node\">\n<title>28</title>\n<path fill=\"#e78a47\" stroke=\"black\" d=\"M1996,-157C1996,-157 1851,-157 1851,-157 1845,-157 1839,-151 1839,-145 1839,-145 1839,-101 1839,-101 1839,-95 1845,-89 1851,-89 1851,-89 1996,-89 1996,-89 2002,-89 2008,-95 2008,-101 2008,-101 2008,-145 2008,-145 2008,-151 2002,-157 1996,-157\"/>\n<text text-anchor=\"start\" x=\"1847\" y=\"-141.8\" font-family=\"Helvetica,sans-Serif\" font-size=\"14.00\">total_charges ≤ 8678.625</text>\n<text text-anchor=\"start\" x=\"1888\" y=\"-126.8\" font-family=\"Helvetica,sans-Serif\" font-size=\"14.00\">gini = 0.126</text>\n<text text-anchor=\"start\" x=\"1878.5\" y=\"-111.8\" font-family=\"Helvetica,sans-Serif\" font-size=\"14.00\">samples = 222</text>\n<text text-anchor=\"start\" x=\"1873\" y=\"-96.8\" font-family=\"Helvetica,sans-Serif\" font-size=\"14.00\">value = [207, 15]</text>\n</g>\n<!-- 24&#45;&gt;28 -->\n<g id=\"edge28\" class=\"edge\">\n<title>24&#45;&gt;28</title>\n<path fill=\"none\" stroke=\"black\" d=\"M1785.06,-192.88C1805.12,-182.9 1827.29,-171.87 1847.89,-161.62\"/>\n<polygon fill=\"black\" stroke=\"black\" points=\"1849.53,-164.71 1856.93,-157.12 1846.41,-158.45 1849.53,-164.71\"/>\n</g>\n<!-- 26 -->\n<g id=\"node27\" class=\"node\">\n<title>26</title>\n<path fill=\"#eca36e\" stroke=\"black\" d=\"M1722,-53C1722,-53 1629,-53 1629,-53 1623,-53 1617,-47 1617,-41 1617,-41 1617,-12 1617,-12 1617,-6 1623,0 1629,0 1629,0 1722,0 1722,0 1728,0 1734,-6 1734,-12 1734,-12 1734,-41 1734,-41 1734,-47 1728,-53 1722,-53\"/>\n<text text-anchor=\"start\" x=\"1640\" y=\"-37.8\" font-family=\"Helvetica,sans-Serif\" font-size=\"14.00\">gini = 0.334</text>\n<text text-anchor=\"start\" x=\"1630.5\" y=\"-22.8\" font-family=\"Helvetica,sans-Serif\" font-size=\"14.00\">samples = 222</text>\n<text text-anchor=\"start\" x=\"1625\" y=\"-7.8\" font-family=\"Helvetica,sans-Serif\" font-size=\"14.00\">value = [175, 47]</text>\n</g>\n<!-- 25&#45;&gt;26 -->\n<g id=\"edge26\" class=\"edge\">\n<title>25&#45;&gt;26</title>\n<path fill=\"none\" stroke=\"black\" d=\"M1703.46,-88.95C1699.55,-80.35 1695.32,-71.06 1691.37,-62.37\"/>\n<polygon fill=\"black\" stroke=\"black\" points=\"1694.54,-60.89 1687.21,-53.24 1688.17,-63.79 1694.54,-60.89\"/>\n</g>\n<!-- 27 -->\n<g id=\"node28\" class=\"node\">\n<title>27</title>\n<path fill=\"#399de5\" stroke=\"black\" d=\"M1835,-53C1835,-53 1764,-53 1764,-53 1758,-53 1752,-47 1752,-41 1752,-41 1752,-12 1752,-12 1752,-6 1758,0 1764,0 1764,0 1835,0 1835,0 1841,0 1847,-6 1847,-12 1847,-12 1847,-41 1847,-41 1847,-47 1841,-53 1835,-53\"/>\n<text text-anchor=\"start\" x=\"1771.5\" y=\"-37.8\" font-family=\"Helvetica,sans-Serif\" font-size=\"14.00\">gini = 0.0</text>\n<text text-anchor=\"start\" x=\"1762\" y=\"-22.8\" font-family=\"Helvetica,sans-Serif\" font-size=\"14.00\">samples = 3</text>\n<text text-anchor=\"start\" x=\"1760\" y=\"-7.8\" font-family=\"Helvetica,sans-Serif\" font-size=\"14.00\">value = [0, 3]</text>\n</g>\n<!-- 25&#45;&gt;27 -->\n<g id=\"edge27\" class=\"edge\">\n<title>25&#45;&gt;27</title>\n<path fill=\"none\" stroke=\"black\" d=\"M1746.83,-88.95C1754.59,-79.89 1763.01,-70.07 1770.8,-60.99\"/>\n<polygon fill=\"black\" stroke=\"black\" points=\"1773.59,-63.11 1777.44,-53.24 1768.27,-58.55 1773.59,-63.11\"/>\n</g>\n<!-- 29 -->\n<g id=\"node30\" class=\"node\">\n<title>29</title>\n<path fill=\"#e78a46\" stroke=\"black\" d=\"M1970,-53C1970,-53 1877,-53 1877,-53 1871,-53 1865,-47 1865,-41 1865,-41 1865,-12 1865,-12 1865,-6 1871,0 1877,0 1877,0 1970,0 1970,0 1976,0 1982,-6 1982,-12 1982,-12 1982,-41 1982,-41 1982,-47 1976,-53 1970,-53\"/>\n<text text-anchor=\"start\" x=\"1888\" y=\"-37.8\" font-family=\"Helvetica,sans-Serif\" font-size=\"14.00\">gini = 0.119</text>\n<text text-anchor=\"start\" x=\"1878.5\" y=\"-22.8\" font-family=\"Helvetica,sans-Serif\" font-size=\"14.00\">samples = 221</text>\n<text text-anchor=\"start\" x=\"1873\" y=\"-7.8\" font-family=\"Helvetica,sans-Serif\" font-size=\"14.00\">value = [207, 14]</text>\n</g>\n<!-- 28&#45;&gt;29 -->\n<g id=\"edge29\" class=\"edge\">\n<title>28&#45;&gt;29</title>\n<path fill=\"none\" stroke=\"black\" d=\"M1923.5,-88.95C1923.5,-80.72 1923.5,-71.85 1923.5,-63.48\"/>\n<polygon fill=\"black\" stroke=\"black\" points=\"1927,-63.24 1923.5,-53.24 1920,-63.24 1927,-63.24\"/>\n</g>\n<!-- 30 -->\n<g id=\"node31\" class=\"node\">\n<title>30</title>\n<path fill=\"#399de5\" stroke=\"black\" d=\"M2083,-53C2083,-53 2012,-53 2012,-53 2006,-53 2000,-47 2000,-41 2000,-41 2000,-12 2000,-12 2000,-6 2006,0 2012,0 2012,0 2083,0 2083,0 2089,0 2095,-6 2095,-12 2095,-12 2095,-41 2095,-41 2095,-47 2089,-53 2083,-53\"/>\n<text text-anchor=\"start\" x=\"2019.5\" y=\"-37.8\" font-family=\"Helvetica,sans-Serif\" font-size=\"14.00\">gini = 0.0</text>\n<text text-anchor=\"start\" x=\"2010\" y=\"-22.8\" font-family=\"Helvetica,sans-Serif\" font-size=\"14.00\">samples = 1</text>\n<text text-anchor=\"start\" x=\"2008\" y=\"-7.8\" font-family=\"Helvetica,sans-Serif\" font-size=\"14.00\">value = [0, 1]</text>\n</g>\n<!-- 28&#45;&gt;30 -->\n<g id=\"edge30\" class=\"edge\">\n<title>28&#45;&gt;30</title>\n<path fill=\"none\" stroke=\"black\" d=\"M1966.87,-88.95C1979.47,-79.34 1993.21,-68.87 2005.71,-59.34\"/>\n<polygon fill=\"black\" stroke=\"black\" points=\"2007.9,-62.08 2013.73,-53.24 2003.65,-56.51 2007.9,-62.08\"/>\n</g>\n</g>\n</svg>\n",
      "text/plain": [
       "<graphviz.sources.Source at 0x7faeba3ba550>"
      ]
     },
     "execution_count": 56,
     "metadata": {},
     "output_type": "execute_result"
    }
   ],
   "source": [
    "telco_tree1_data = export_graphviz(telco_tree1, out_file=None, feature_names=X_train.columns, filled=True, rounded=True, special_characters=True)\n",
    "telco_tree1_graph = graphviz.Source(telco_tree1_data)\n",
    "telco_tree1_graph"
   ]
  },
  {
   "cell_type": "code",
   "execution_count": 20,
   "metadata": {},
   "outputs": [
    {
     "data": {
      "text/plain": [
       "'telco_tree1.pdf'"
      ]
     },
     "execution_count": 20,
     "metadata": {},
     "output_type": "execute_result"
    }
   ],
   "source": [
    "#Saving a pdf of telco_tree1's graph to my classification project's directory\n",
    "telco_tree1_graph.render(outfile='telco_tree1.pdf')"
   ]
  },
  {
   "cell_type": "code",
   "execution_count": 87,
   "metadata": {},
   "outputs": [
    {
     "name": "stdout",
     "output_type": "stream",
     "text": [
      "Accuracy of Telco tree 1 on validate split: 0.784\n",
      "Confusion matrix for Telco tree 1 on validate split:\n",
      "[[1154   85]\n",
      " [ 279  170]]\n",
      "Classification report for Telco tree 1 on validate split:\n",
      "              precision    recall  f1-score   support\n",
      "\n",
      "           0       0.81      0.93      0.86      1239\n",
      "           1       0.67      0.38      0.48       449\n",
      "\n",
      "    accuracy                           0.78      1688\n",
      "   macro avg       0.74      0.66      0.67      1688\n",
      "weighted avg       0.77      0.78      0.76      1688\n",
      "\n"
     ]
    },
    {
     "data": {
      "text/plain": [
       "array([[0.54525386, 0.45474614],\n",
       "       [0.93665158, 0.06334842],\n",
       "       [0.99118943, 0.00881057],\n",
       "       ...,\n",
       "       [0.99118943, 0.00881057],\n",
       "       [0.93665158, 0.06334842],\n",
       "       [0.99118943, 0.00881057]])"
      ]
     },
     "execution_count": 87,
     "metadata": {},
     "output_type": "execute_result"
    }
   ],
   "source": [
    "val_tree1_pred = telco_tree1.predict(X_validate)\n",
    "val_tree1_prob = telco_tree1.predict_proba(X_validate)\n",
    "\n",
    "print(f'Accuracy of Telco tree 1 on validate split: {telco_tree1.score(X_validate, y_validate):.3f}')\n",
    "print(f'Confusion matrix for Telco tree 1 on validate split:\\n{confusion_matrix(y_validate, val_tree1_pred)}')\n",
    "print(f'Classification report for Telco tree 1 on validate split:\\n{classification_report(y_validate, val_tree1_pred)}')\n",
    "\n",
    "val_tree1_prob"
   ]
  },
  {
   "cell_type": "code",
   "execution_count": 57,
   "metadata": {},
   "outputs": [
    {
     "data": {
      "text/plain": [
       "array([[0.98899587, 0.01100413],\n",
       "       [0.98899587, 0.01100413],\n",
       "       [0.59762309, 0.40237691],\n",
       "       ...,\n",
       "       [0.98899587, 0.01100413],\n",
       "       [0.60386473, 0.39613527],\n",
       "       [0.77777778, 0.22222222]])"
      ]
     },
     "execution_count": 57,
     "metadata": {},
     "output_type": "execute_result"
    }
   ],
   "source": [
    "telco_tree2 = DecisionTreeClassifier(max_depth=3, random_state=302)\n",
    "telco_tree2.fit(X_train, y_train)\n",
    "\n",
    "telco_tree2_pred = telco_tree2.predict(X_train)\n",
    "telco_tree2_prob = telco_tree2.predict_proba(X_train)\n",
    "\n",
    "telco_tree2_prob"
   ]
  },
  {
   "cell_type": "code",
   "execution_count": 88,
   "metadata": {},
   "outputs": [
    {
     "name": "stdout",
     "output_type": "stream",
     "text": [
      "Accuracy score for Telco tree 2: 0.7952755905511811\n",
      "Confusion matrix for Telco tree 2:\n",
      "[[2704  187]\n",
      " [ 619  427]]\n",
      "Classification report for Telco tree 2:\n",
      "              precision    recall  f1-score   support\n",
      "\n",
      "           0       0.81      0.94      0.87      2891\n",
      "           1       0.70      0.41      0.51      1046\n",
      "\n",
      "    accuracy                           0.80      3937\n",
      "   macro avg       0.75      0.67      0.69      3937\n",
      "weighted avg       0.78      0.80      0.78      3937\n",
      "\n"
     ]
    }
   ],
   "source": [
    "print(f'Accuracy score for Telco tree 2: {telco_tree2.score(X_train, y_train)}')\n",
    "print(f'Confusion matrix for Telco tree 2:\\n{confusion_matrix(y_train, telco_tree2_pred)}')\n",
    "print(f'Classification report for Telco tree 2:\\n{classification_report(y_train, telco_tree2_pred)}')"
   ]
  },
  {
   "cell_type": "code",
   "execution_count": 71,
   "metadata": {},
   "outputs": [
    {
     "data": {
      "image/svg+xml": "<?xml version=\"1.0\" encoding=\"UTF-8\" standalone=\"no\"?>\n<!DOCTYPE svg PUBLIC \"-//W3C//DTD SVG 1.1//EN\"\n \"http://www.w3.org/Graphics/SVG/1.1/DTD/svg11.dtd\">\n<!-- Generated by graphviz version 2.50.0 (20211204.2007)\n -->\n<!-- Title: Tree Pages: 1 -->\n<svg width=\"1096pt\" height=\"373pt\"\n viewBox=\"0.00 0.00 1096.00 373.00\" xmlns=\"http://www.w3.org/2000/svg\" xmlns:xlink=\"http://www.w3.org/1999/xlink\">\n<g id=\"graph0\" class=\"graph\" transform=\"scale(1 1) rotate(0) translate(4 369)\">\n<title>Tree</title>\n<polygon fill=\"white\" stroke=\"transparent\" points=\"-4,4 -4,-369 1092,-369 1092,4 -4,4\"/>\n<!-- 0 -->\n<g id=\"node1\" class=\"node\">\n<title>0</title>\n<path fill=\"#eeaf81\" stroke=\"black\" d=\"M577,-365C577,-365 452,-365 452,-365 446,-365 440,-359 440,-353 440,-353 440,-309 440,-309 440,-303 446,-297 452,-297 452,-297 577,-297 577,-297 583,-297 589,-303 589,-309 589,-309 589,-353 589,-353 589,-359 583,-365 577,-365\"/>\n<text text-anchor=\"start\" x=\"448\" y=\"-349.8\" font-family=\"Helvetica,sans-Serif\" font-size=\"14.00\">contract_type_id ≤ 1.5</text>\n<text text-anchor=\"start\" x=\"482.5\" y=\"-334.8\" font-family=\"Helvetica,sans-Serif\" font-size=\"14.00\">gini = 0.39</text>\n<text text-anchor=\"start\" x=\"466\" y=\"-319.8\" font-family=\"Helvetica,sans-Serif\" font-size=\"14.00\">samples = 3937</text>\n<text text-anchor=\"start\" x=\"452.5\" y=\"-304.8\" font-family=\"Helvetica,sans-Serif\" font-size=\"14.00\">value = [2891, 1046]</text>\n</g>\n<!-- 1 -->\n<g id=\"node2\" class=\"node\">\n<title>1</title>\n<path fill=\"#f8dfcc\" stroke=\"black\" d=\"M486,-261C486,-261 261,-261 261,-261 255,-261 249,-255 249,-249 249,-249 249,-205 249,-205 249,-199 255,-193 261,-193 261,-193 486,-193 486,-193 492,-193 498,-199 498,-205 498,-205 498,-249 498,-249 498,-255 492,-261 486,-261\"/>\n<text text-anchor=\"start\" x=\"257\" y=\"-245.8\" font-family=\"Helvetica,sans-Serif\" font-size=\"14.00\">internet_service_type_Fiber optic ≤ 0.5</text>\n<text text-anchor=\"start\" x=\"338\" y=\"-230.8\" font-family=\"Helvetica,sans-Serif\" font-size=\"14.00\">gini = 0.489</text>\n<text text-anchor=\"start\" x=\"325\" y=\"-215.8\" font-family=\"Helvetica,sans-Serif\" font-size=\"14.00\">samples = 2184</text>\n<text text-anchor=\"start\" x=\"315.5\" y=\"-200.8\" font-family=\"Helvetica,sans-Serif\" font-size=\"14.00\">value = [1253, 931]</text>\n</g>\n<!-- 0&#45;&gt;1 -->\n<g id=\"edge1\" class=\"edge\">\n<title>0&#45;&gt;1</title>\n<path fill=\"none\" stroke=\"black\" d=\"M468.72,-296.88C455.67,-287.44 441.32,-277.06 427.81,-267.29\"/>\n<polygon fill=\"black\" stroke=\"black\" points=\"429.69,-264.32 419.53,-261.3 425.58,-270 429.69,-264.32\"/>\n<text text-anchor=\"middle\" x=\"423.49\" y=\"-282.28\" font-family=\"Helvetica,sans-Serif\" font-size=\"14.00\">True</text>\n</g>\n<!-- 8 -->\n<g id=\"node9\" class=\"node\">\n<title>8</title>\n<path fill=\"#e78a47\" stroke=\"black\" d=\"M753.5,-261C753.5,-261 601.5,-261 601.5,-261 595.5,-261 589.5,-255 589.5,-249 589.5,-249 589.5,-205 589.5,-205 589.5,-199 595.5,-193 601.5,-193 601.5,-193 753.5,-193 753.5,-193 759.5,-193 765.5,-199 765.5,-205 765.5,-205 765.5,-249 765.5,-249 765.5,-255 759.5,-261 753.5,-261\"/>\n<text text-anchor=\"start\" x=\"597.5\" y=\"-245.8\" font-family=\"Helvetica,sans-Serif\" font-size=\"14.00\">monthly_charges ≤ 92.425</text>\n<text text-anchor=\"start\" x=\"642\" y=\"-230.8\" font-family=\"Helvetica,sans-Serif\" font-size=\"14.00\">gini = 0.123</text>\n<text text-anchor=\"start\" x=\"629\" y=\"-215.8\" font-family=\"Helvetica,sans-Serif\" font-size=\"14.00\">samples = 1753</text>\n<text text-anchor=\"start\" x=\"619.5\" y=\"-200.8\" font-family=\"Helvetica,sans-Serif\" font-size=\"14.00\">value = [1638, 115]</text>\n</g>\n<!-- 0&#45;&gt;8 -->\n<g id=\"edge8\" class=\"edge\">\n<title>0&#45;&gt;8</title>\n<path fill=\"none\" stroke=\"black\" d=\"M567.42,-296.88C582.87,-287.21 599.89,-276.56 615.84,-266.59\"/>\n<polygon fill=\"black\" stroke=\"black\" points=\"617.94,-269.4 624.57,-261.12 614.23,-263.46 617.94,-269.4\"/>\n<text text-anchor=\"middle\" x=\"618.96\" y=\"-281.79\" font-family=\"Helvetica,sans-Serif\" font-size=\"14.00\">False</text>\n</g>\n<!-- 2 -->\n<g id=\"node3\" class=\"node\">\n<title>2</title>\n<path fill=\"#efb083\" stroke=\"black\" d=\"M256,-157C256,-157 155,-157 155,-157 149,-157 143,-151 143,-145 143,-145 143,-101 143,-101 143,-95 149,-89 155,-89 155,-89 256,-89 256,-89 262,-89 268,-95 268,-101 268,-101 268,-145 268,-145 268,-151 262,-157 256,-157\"/>\n<text text-anchor=\"start\" x=\"169\" y=\"-141.8\" font-family=\"Helvetica,sans-Serif\" font-size=\"14.00\">tenure ≤ 5.5</text>\n<text text-anchor=\"start\" x=\"170\" y=\"-126.8\" font-family=\"Helvetica,sans-Serif\" font-size=\"14.00\">gini = 0.396</text>\n<text text-anchor=\"start\" x=\"160.5\" y=\"-111.8\" font-family=\"Helvetica,sans-Serif\" font-size=\"14.00\">samples = 981</text>\n<text text-anchor=\"start\" x=\"151\" y=\"-96.8\" font-family=\"Helvetica,sans-Serif\" font-size=\"14.00\">value = [714, 267]</text>\n</g>\n<!-- 1&#45;&gt;2 -->\n<g id=\"edge2\" class=\"edge\">\n<title>1&#45;&gt;2</title>\n<path fill=\"none\" stroke=\"black\" d=\"M318.96,-192.88C303.03,-183.21 285.49,-172.56 269.06,-162.59\"/>\n<polygon fill=\"black\" stroke=\"black\" points=\"270.42,-159.32 260.06,-157.12 266.79,-165.31 270.42,-159.32\"/>\n</g>\n<!-- 5 -->\n<g id=\"node6\" class=\"node\">\n<title>5</title>\n<path fill=\"#daedfa\" stroke=\"black\" d=\"M424,-157C424,-157 323,-157 323,-157 317,-157 311,-151 311,-145 311,-145 311,-101 311,-101 311,-95 317,-89 323,-89 323,-89 424,-89 424,-89 430,-89 436,-95 436,-101 436,-101 436,-145 436,-145 436,-151 430,-157 424,-157\"/>\n<text text-anchor=\"start\" x=\"333.5\" y=\"-141.8\" font-family=\"Helvetica,sans-Serif\" font-size=\"14.00\">tenure ≤ 16.5</text>\n<text text-anchor=\"start\" x=\"338\" y=\"-126.8\" font-family=\"Helvetica,sans-Serif\" font-size=\"14.00\">gini = 0.495</text>\n<text text-anchor=\"start\" x=\"325\" y=\"-111.8\" font-family=\"Helvetica,sans-Serif\" font-size=\"14.00\">samples = 1203</text>\n<text text-anchor=\"start\" x=\"319\" y=\"-96.8\" font-family=\"Helvetica,sans-Serif\" font-size=\"14.00\">value = [539, 664]</text>\n</g>\n<!-- 1&#45;&gt;5 -->\n<g id=\"edge5\" class=\"edge\">\n<title>1&#45;&gt;5</title>\n<path fill=\"none\" stroke=\"black\" d=\"M373.5,-192.88C373.5,-184.78 373.5,-175.98 373.5,-167.47\"/>\n<polygon fill=\"black\" stroke=\"black\" points=\"377,-167.3 373.5,-157.3 370,-167.3 377,-167.3\"/>\n</g>\n<!-- 3 -->\n<g id=\"node4\" class=\"node\">\n<title>3</title>\n<path fill=\"#f6d4bb\" stroke=\"black\" d=\"M113,-53C113,-53 12,-53 12,-53 6,-53 0,-47 0,-41 0,-41 0,-12 0,-12 0,-6 6,0 12,0 12,0 113,0 113,0 119,0 125,-6 125,-12 125,-12 125,-41 125,-41 125,-47 119,-53 113,-53\"/>\n<text text-anchor=\"start\" x=\"27\" y=\"-37.8\" font-family=\"Helvetica,sans-Serif\" font-size=\"14.00\">gini = 0.478</text>\n<text text-anchor=\"start\" x=\"17.5\" y=\"-22.8\" font-family=\"Helvetica,sans-Serif\" font-size=\"14.00\">samples = 414</text>\n<text text-anchor=\"start\" x=\"8\" y=\"-7.8\" font-family=\"Helvetica,sans-Serif\" font-size=\"14.00\">value = [250, 164]</text>\n</g>\n<!-- 2&#45;&gt;3 -->\n<g id=\"edge3\" class=\"edge\">\n<title>2&#45;&gt;3</title>\n<path fill=\"none\" stroke=\"black\" d=\"M155.49,-88.95C140.67,-79.16 124.51,-68.48 109.87,-58.8\"/>\n<polygon fill=\"black\" stroke=\"black\" points=\"111.72,-55.83 101.45,-53.24 107.86,-61.67 111.72,-55.83\"/>\n</g>\n<!-- 4 -->\n<g id=\"node5\" class=\"node\">\n<title>4</title>\n<path fill=\"#eb9d65\" stroke=\"black\" d=\"M256,-53C256,-53 155,-53 155,-53 149,-53 143,-47 143,-41 143,-41 143,-12 143,-12 143,-6 149,0 155,0 155,0 256,0 256,0 262,0 268,-6 268,-12 268,-12 268,-41 268,-41 268,-47 262,-53 256,-53\"/>\n<text text-anchor=\"start\" x=\"170\" y=\"-37.8\" font-family=\"Helvetica,sans-Serif\" font-size=\"14.00\">gini = 0.297</text>\n<text text-anchor=\"start\" x=\"160.5\" y=\"-22.8\" font-family=\"Helvetica,sans-Serif\" font-size=\"14.00\">samples = 567</text>\n<text text-anchor=\"start\" x=\"151\" y=\"-7.8\" font-family=\"Helvetica,sans-Serif\" font-size=\"14.00\">value = [464, 103]</text>\n</g>\n<!-- 2&#45;&gt;4 -->\n<g id=\"edge4\" class=\"edge\">\n<title>2&#45;&gt;4</title>\n<path fill=\"none\" stroke=\"black\" d=\"M205.5,-88.95C205.5,-80.72 205.5,-71.85 205.5,-63.48\"/>\n<polygon fill=\"black\" stroke=\"black\" points=\"209,-63.24 205.5,-53.24 202,-63.24 209,-63.24\"/>\n</g>\n<!-- 6 -->\n<g id=\"node7\" class=\"node\">\n<title>6</title>\n<path fill=\"#90c8f0\" stroke=\"black\" d=\"M399,-53C399,-53 298,-53 298,-53 292,-53 286,-47 286,-41 286,-41 286,-12 286,-12 286,-6 292,0 298,0 298,0 399,0 399,0 405,0 411,-6 411,-12 411,-12 411,-41 411,-41 411,-47 405,-53 399,-53\"/>\n<text text-anchor=\"start\" x=\"313\" y=\"-37.8\" font-family=\"Helvetica,sans-Serif\" font-size=\"14.00\">gini = 0.424</text>\n<text text-anchor=\"start\" x=\"303.5\" y=\"-22.8\" font-family=\"Helvetica,sans-Serif\" font-size=\"14.00\">samples = 614</text>\n<text text-anchor=\"start\" x=\"294\" y=\"-7.8\" font-family=\"Helvetica,sans-Serif\" font-size=\"14.00\">value = [187, 427]</text>\n</g>\n<!-- 5&#45;&gt;6 -->\n<g id=\"edge6\" class=\"edge\">\n<title>5&#45;&gt;6</title>\n<path fill=\"none\" stroke=\"black\" d=\"M364.76,-88.95C362.53,-80.53 360.13,-71.45 357.87,-62.92\"/>\n<polygon fill=\"black\" stroke=\"black\" points=\"361.25,-62.01 355.31,-53.24 354.48,-63.8 361.25,-62.01\"/>\n</g>\n<!-- 7 -->\n<g id=\"node8\" class=\"node\">\n<title>7</title>\n<path fill=\"#f7d6be\" stroke=\"black\" d=\"M542,-53C542,-53 441,-53 441,-53 435,-53 429,-47 429,-41 429,-41 429,-12 429,-12 429,-6 435,0 441,0 441,0 542,0 542,0 548,0 554,-6 554,-12 554,-12 554,-41 554,-41 554,-47 548,-53 542,-53\"/>\n<text text-anchor=\"start\" x=\"456\" y=\"-37.8\" font-family=\"Helvetica,sans-Serif\" font-size=\"14.00\">gini = 0.481</text>\n<text text-anchor=\"start\" x=\"446.5\" y=\"-22.8\" font-family=\"Helvetica,sans-Serif\" font-size=\"14.00\">samples = 589</text>\n<text text-anchor=\"start\" x=\"437\" y=\"-7.8\" font-family=\"Helvetica,sans-Serif\" font-size=\"14.00\">value = [352, 237]</text>\n</g>\n<!-- 5&#45;&gt;7 -->\n<g id=\"edge7\" class=\"edge\">\n<title>5&#45;&gt;7</title>\n<path fill=\"none\" stroke=\"black\" d=\"M414.77,-88.95C426.65,-79.43 439.59,-69.07 451.4,-59.62\"/>\n<polygon fill=\"black\" stroke=\"black\" points=\"453.75,-62.22 459.36,-53.24 449.37,-56.76 453.75,-62.22\"/>\n</g>\n<!-- 9 -->\n<g id=\"node10\" class=\"node\">\n<title>9</title>\n<path fill=\"#e68641\" stroke=\"black\" d=\"M740,-157C740,-157 615,-157 615,-157 609,-157 603,-151 603,-145 603,-145 603,-101 603,-101 603,-95 609,-89 615,-89 615,-89 740,-89 740,-89 746,-89 752,-95 752,-101 752,-101 752,-145 752,-145 752,-151 746,-157 740,-157\"/>\n<text text-anchor=\"start\" x=\"611\" y=\"-141.8\" font-family=\"Helvetica,sans-Serif\" font-size=\"14.00\">contract_type_id ≤ 2.5</text>\n<text text-anchor=\"start\" x=\"642\" y=\"-126.8\" font-family=\"Helvetica,sans-Serif\" font-size=\"14.00\">gini = 0.074</text>\n<text text-anchor=\"start\" x=\"629\" y=\"-111.8\" font-family=\"Helvetica,sans-Serif\" font-size=\"14.00\">samples = 1306</text>\n<text text-anchor=\"start\" x=\"623\" y=\"-96.8\" font-family=\"Helvetica,sans-Serif\" font-size=\"14.00\">value = [1256, 50]</text>\n</g>\n<!-- 8&#45;&gt;9 -->\n<g id=\"edge9\" class=\"edge\">\n<title>8&#45;&gt;9</title>\n<path fill=\"none\" stroke=\"black\" d=\"M677.5,-192.88C677.5,-184.78 677.5,-175.98 677.5,-167.47\"/>\n<polygon fill=\"black\" stroke=\"black\" points=\"681,-167.3 677.5,-157.3 674,-167.3 681,-167.3\"/>\n</g>\n<!-- 12 -->\n<g id=\"node13\" class=\"node\">\n<title>12</title>\n<path fill=\"#e9965b\" stroke=\"black\" d=\"M959.5,-157C959.5,-157 829.5,-157 829.5,-157 823.5,-157 817.5,-151 817.5,-145 817.5,-145 817.5,-101 817.5,-101 817.5,-95 823.5,-89 829.5,-89 829.5,-89 959.5,-89 959.5,-89 965.5,-89 971.5,-95 971.5,-101 971.5,-101 971.5,-145 971.5,-145 971.5,-151 965.5,-157 959.5,-157\"/>\n<text text-anchor=\"start\" x=\"825.5\" y=\"-141.8\" font-family=\"Helvetica,sans-Serif\" font-size=\"14.00\">total_charges ≤ 6586.1</text>\n<text text-anchor=\"start\" x=\"859\" y=\"-126.8\" font-family=\"Helvetica,sans-Serif\" font-size=\"14.00\">gini = 0.249</text>\n<text text-anchor=\"start\" x=\"849.5\" y=\"-111.8\" font-family=\"Helvetica,sans-Serif\" font-size=\"14.00\">samples = 447</text>\n<text text-anchor=\"start\" x=\"844\" y=\"-96.8\" font-family=\"Helvetica,sans-Serif\" font-size=\"14.00\">value = [382, 65]</text>\n</g>\n<!-- 8&#45;&gt;12 -->\n<g id=\"edge12\" class=\"edge\">\n<title>8&#45;&gt;12</title>\n<path fill=\"none\" stroke=\"black\" d=\"M747.95,-192.88C769.29,-182.86 792.86,-171.77 814.76,-161.48\"/>\n<polygon fill=\"black\" stroke=\"black\" points=\"816.47,-164.55 824.03,-157.12 813.49,-158.21 816.47,-164.55\"/>\n</g>\n<!-- 10 -->\n<g id=\"node11\" class=\"node\">\n<title>10</title>\n<path fill=\"#e78b48\" stroke=\"black\" d=\"M677,-53C677,-53 584,-53 584,-53 578,-53 572,-47 572,-41 572,-41 572,-12 572,-12 572,-6 578,0 584,0 584,0 677,0 677,0 683,0 689,-6 689,-12 689,-12 689,-41 689,-41 689,-47 683,-53 677,-53\"/>\n<text text-anchor=\"start\" x=\"595\" y=\"-37.8\" font-family=\"Helvetica,sans-Serif\" font-size=\"14.00\">gini = 0.135</text>\n<text text-anchor=\"start\" x=\"585.5\" y=\"-22.8\" font-family=\"Helvetica,sans-Serif\" font-size=\"14.00\">samples = 579</text>\n<text text-anchor=\"start\" x=\"580\" y=\"-7.8\" font-family=\"Helvetica,sans-Serif\" font-size=\"14.00\">value = [537, 42]</text>\n</g>\n<!-- 9&#45;&gt;10 -->\n<g id=\"edge10\" class=\"edge\">\n<title>9&#45;&gt;10</title>\n<path fill=\"none\" stroke=\"black\" d=\"M661.06,-88.95C656.78,-80.35 652.16,-71.06 647.84,-62.37\"/>\n<polygon fill=\"black\" stroke=\"black\" points=\"650.89,-60.63 643.3,-53.24 644.62,-63.75 650.89,-60.63\"/>\n</g>\n<!-- 11 -->\n<g id=\"node12\" class=\"node\">\n<title>11</title>\n<path fill=\"#e5823b\" stroke=\"black\" d=\"M805.5,-53C805.5,-53 719.5,-53 719.5,-53 713.5,-53 707.5,-47 707.5,-41 707.5,-41 707.5,-12 707.5,-12 707.5,-6 713.5,0 719.5,0 719.5,0 805.5,0 805.5,0 811.5,0 817.5,-6 817.5,-12 817.5,-12 817.5,-41 817.5,-41 817.5,-47 811.5,-53 805.5,-53\"/>\n<text text-anchor=\"start\" x=\"727\" y=\"-37.8\" font-family=\"Helvetica,sans-Serif\" font-size=\"14.00\">gini = 0.022</text>\n<text text-anchor=\"start\" x=\"717.5\" y=\"-22.8\" font-family=\"Helvetica,sans-Serif\" font-size=\"14.00\">samples = 727</text>\n<text text-anchor=\"start\" x=\"715.5\" y=\"-7.8\" font-family=\"Helvetica,sans-Serif\" font-size=\"14.00\">value = [719, 8]</text>\n</g>\n<!-- 9&#45;&gt;11 -->\n<g id=\"edge11\" class=\"edge\">\n<title>9&#45;&gt;11</title>\n<path fill=\"none\" stroke=\"black\" d=\"M707.23,-88.95C715.46,-79.8 724.39,-69.87 732.63,-60.71\"/>\n<polygon fill=\"black\" stroke=\"black\" points=\"735.27,-63.01 739.35,-53.24 730.06,-58.33 735.27,-63.01\"/>\n</g>\n<!-- 13 -->\n<g id=\"node14\" class=\"node\">\n<title>13</title>\n<path fill=\"#eca572\" stroke=\"black\" d=\"M941,-53C941,-53 848,-53 848,-53 842,-53 836,-47 836,-41 836,-41 836,-12 836,-12 836,-6 842,0 848,0 848,0 941,0 941,0 947,0 953,-6 953,-12 953,-12 953,-41 953,-41 953,-47 947,-53 941,-53\"/>\n<text text-anchor=\"start\" x=\"859\" y=\"-37.8\" font-family=\"Helvetica,sans-Serif\" font-size=\"14.00\">gini = 0.346</text>\n<text text-anchor=\"start\" x=\"849.5\" y=\"-22.8\" font-family=\"Helvetica,sans-Serif\" font-size=\"14.00\">samples = 225</text>\n<text text-anchor=\"start\" x=\"844\" y=\"-7.8\" font-family=\"Helvetica,sans-Serif\" font-size=\"14.00\">value = [175, 50]</text>\n</g>\n<!-- 12&#45;&gt;13 -->\n<g id=\"edge13\" class=\"edge\">\n<title>12&#45;&gt;13</title>\n<path fill=\"none\" stroke=\"black\" d=\"M894.5,-88.95C894.5,-80.72 894.5,-71.85 894.5,-63.48\"/>\n<polygon fill=\"black\" stroke=\"black\" points=\"898,-63.24 894.5,-53.24 891,-63.24 898,-63.24\"/>\n</g>\n<!-- 14 -->\n<g id=\"node15\" class=\"node\">\n<title>14</title>\n<path fill=\"#e78a47\" stroke=\"black\" d=\"M1076,-53C1076,-53 983,-53 983,-53 977,-53 971,-47 971,-41 971,-41 971,-12 971,-12 971,-6 977,0 983,0 983,0 1076,0 1076,0 1082,0 1088,-6 1088,-12 1088,-12 1088,-41 1088,-41 1088,-47 1082,-53 1076,-53\"/>\n<text text-anchor=\"start\" x=\"994\" y=\"-37.8\" font-family=\"Helvetica,sans-Serif\" font-size=\"14.00\">gini = 0.126</text>\n<text text-anchor=\"start\" x=\"984.5\" y=\"-22.8\" font-family=\"Helvetica,sans-Serif\" font-size=\"14.00\">samples = 222</text>\n<text text-anchor=\"start\" x=\"979\" y=\"-7.8\" font-family=\"Helvetica,sans-Serif\" font-size=\"14.00\">value = [207, 15]</text>\n</g>\n<!-- 12&#45;&gt;14 -->\n<g id=\"edge14\" class=\"edge\">\n<title>12&#45;&gt;14</title>\n<path fill=\"none\" stroke=\"black\" d=\"M941.72,-88.95C955.57,-79.25 970.68,-68.68 984.4,-59.07\"/>\n<polygon fill=\"black\" stroke=\"black\" points=\"986.55,-61.84 992.73,-53.24 982.53,-56.1 986.55,-61.84\"/>\n</g>\n</g>\n</svg>\n",
      "text/plain": [
       "<graphviz.sources.Source at 0x7faeba40bc40>"
      ]
     },
     "execution_count": 71,
     "metadata": {},
     "output_type": "execute_result"
    }
   ],
   "source": [
    "# Viz telco_tree2\n",
    "telco_tree2_data = export_graphviz(telco_tree2, out_file=None, feature_names=X_train.columns, filled=True, rounded=True, special_characters=True)\n",
    "telco_tree2_graph = graphviz.Source(telco_tree2_data)\n",
    "telco_tree2_graph"
   ]
  },
  {
   "cell_type": "code",
   "execution_count": 72,
   "metadata": {},
   "outputs": [
    {
     "data": {
      "text/plain": [
       "'telco_tree2.pdf'"
      ]
     },
     "execution_count": 72,
     "metadata": {},
     "output_type": "execute_result"
    }
   ],
   "source": [
    "telco_tree2_graph.render(outfile='telco_tree2.pdf')"
   ]
  },
  {
   "cell_type": "code",
   "execution_count": 68,
   "metadata": {},
   "outputs": [
    {
     "data": {
      "text/plain": [
       "array([[0.96171516, 0.03828484],\n",
       "       [0.96171516, 0.03828484],\n",
       "       [0.44804655, 0.55195345],\n",
       "       ...,\n",
       "       [0.96171516, 0.03828484],\n",
       "       [0.72782875, 0.27217125],\n",
       "       [0.85458613, 0.14541387]])"
      ]
     },
     "execution_count": 68,
     "metadata": {},
     "output_type": "execute_result"
    }
   ],
   "source": [
    "telco_tree3 = DecisionTreeClassifier(max_depth=2, random_state=302)\n",
    "telco_tree3.fit(X_train, y_train)\n",
    "\n",
    "telco_tree3_pred = telco_tree3.predict(X_train)\n",
    "telco_tree3_prob = telco_tree3.predict_proba(X_train)\n",
    "\n",
    "telco_tree3_prob"
   ]
  },
  {
   "cell_type": "code",
   "execution_count": 69,
   "metadata": {},
   "outputs": [
    {
     "name": "stdout",
     "output_type": "stream",
     "text": [
      "Accuracy score for Telco tree 3: 0.766\n",
      "Confusion matrix for Telco tree 3:\n",
      "[[2352  539]\n",
      " [ 382  664]]\n",
      "Classification report for Telco tree 3:\n",
      "              precision    recall  f1-score   support\n",
      "\n",
      "           0       0.86      0.81      0.84      2891\n",
      "           1       0.55      0.63      0.59      1046\n",
      "\n",
      "    accuracy                           0.77      3937\n",
      "   macro avg       0.71      0.72      0.71      3937\n",
      "weighted avg       0.78      0.77      0.77      3937\n",
      "\n"
     ]
    }
   ],
   "source": [
    "print(f'Accuracy score for Telco tree 3: {telco_tree3.score(X_train, y_train):.3f}')\n",
    "print(f'Confusion matrix for Telco tree 3:\\n{confusion_matrix(y_train, telco_tree3_pred)}')\n",
    "print(f'Classification report for Telco tree 3:\\n{classification_report(y_train, telco_tree3_pred)}')"
   ]
  },
  {
   "cell_type": "code",
   "execution_count": 73,
   "metadata": {},
   "outputs": [
    {
     "data": {
      "image/svg+xml": "<?xml version=\"1.0\" encoding=\"UTF-8\" standalone=\"no\"?>\n<!DOCTYPE svg PUBLIC \"-//W3C//DTD SVG 1.1//EN\"\n \"http://www.w3.org/Graphics/SVG/1.1/DTD/svg11.dtd\">\n<!-- Generated by graphviz version 2.50.0 (20211204.2007)\n -->\n<!-- Title: Tree Pages: 1 -->\n<svg width=\"598pt\" height=\"269pt\"\n viewBox=\"0.00 0.00 598.00 269.00\" xmlns=\"http://www.w3.org/2000/svg\" xmlns:xlink=\"http://www.w3.org/1999/xlink\">\n<g id=\"graph0\" class=\"graph\" transform=\"scale(1 1) rotate(0) translate(4 265)\">\n<title>Tree</title>\n<polygon fill=\"white\" stroke=\"transparent\" points=\"-4,4 -4,-265 594,-265 594,4 -4,4\"/>\n<!-- 0 -->\n<g id=\"node1\" class=\"node\">\n<title>0</title>\n<path fill=\"#eeaf81\" stroke=\"black\" d=\"M361,-261C361,-261 236,-261 236,-261 230,-261 224,-255 224,-249 224,-249 224,-205 224,-205 224,-199 230,-193 236,-193 236,-193 361,-193 361,-193 367,-193 373,-199 373,-205 373,-205 373,-249 373,-249 373,-255 367,-261 361,-261\"/>\n<text text-anchor=\"start\" x=\"232\" y=\"-245.8\" font-family=\"Helvetica,sans-Serif\" font-size=\"14.00\">contract_type_id ≤ 1.5</text>\n<text text-anchor=\"start\" x=\"266.5\" y=\"-230.8\" font-family=\"Helvetica,sans-Serif\" font-size=\"14.00\">gini = 0.39</text>\n<text text-anchor=\"start\" x=\"250\" y=\"-215.8\" font-family=\"Helvetica,sans-Serif\" font-size=\"14.00\">samples = 3937</text>\n<text text-anchor=\"start\" x=\"236.5\" y=\"-200.8\" font-family=\"Helvetica,sans-Serif\" font-size=\"14.00\">value = [2891, 1046]</text>\n</g>\n<!-- 1 -->\n<g id=\"node2\" class=\"node\">\n<title>1</title>\n<path fill=\"#f8dfcc\" stroke=\"black\" d=\"M296,-157C296,-157 71,-157 71,-157 65,-157 59,-151 59,-145 59,-145 59,-101 59,-101 59,-95 65,-89 71,-89 71,-89 296,-89 296,-89 302,-89 308,-95 308,-101 308,-101 308,-145 308,-145 308,-151 302,-157 296,-157\"/>\n<text text-anchor=\"start\" x=\"67\" y=\"-141.8\" font-family=\"Helvetica,sans-Serif\" font-size=\"14.00\">internet_service_type_Fiber optic ≤ 0.5</text>\n<text text-anchor=\"start\" x=\"148\" y=\"-126.8\" font-family=\"Helvetica,sans-Serif\" font-size=\"14.00\">gini = 0.489</text>\n<text text-anchor=\"start\" x=\"135\" y=\"-111.8\" font-family=\"Helvetica,sans-Serif\" font-size=\"14.00\">samples = 2184</text>\n<text text-anchor=\"start\" x=\"125.5\" y=\"-96.8\" font-family=\"Helvetica,sans-Serif\" font-size=\"14.00\">value = [1253, 931]</text>\n</g>\n<!-- 0&#45;&gt;1 -->\n<g id=\"edge1\" class=\"edge\">\n<title>0&#45;&gt;1</title>\n<path fill=\"none\" stroke=\"black\" d=\"M261.16,-192.88C250.82,-183.71 239.48,-173.65 228.74,-164.12\"/>\n<polygon fill=\"black\" stroke=\"black\" points=\"230.85,-161.32 221.04,-157.3 226.2,-166.55 230.85,-161.32\"/>\n<text text-anchor=\"middle\" x=\"222.54\" y=\"-178.55\" font-family=\"Helvetica,sans-Serif\" font-size=\"14.00\">True</text>\n</g>\n<!-- 4 -->\n<g id=\"node5\" class=\"node\">\n<title>4</title>\n<path fill=\"#e78a47\" stroke=\"black\" d=\"M490.5,-157C490.5,-157 338.5,-157 338.5,-157 332.5,-157 326.5,-151 326.5,-145 326.5,-145 326.5,-101 326.5,-101 326.5,-95 332.5,-89 338.5,-89 338.5,-89 490.5,-89 490.5,-89 496.5,-89 502.5,-95 502.5,-101 502.5,-101 502.5,-145 502.5,-145 502.5,-151 496.5,-157 490.5,-157\"/>\n<text text-anchor=\"start\" x=\"334.5\" y=\"-141.8\" font-family=\"Helvetica,sans-Serif\" font-size=\"14.00\">monthly_charges ≤ 92.425</text>\n<text text-anchor=\"start\" x=\"379\" y=\"-126.8\" font-family=\"Helvetica,sans-Serif\" font-size=\"14.00\">gini = 0.123</text>\n<text text-anchor=\"start\" x=\"366\" y=\"-111.8\" font-family=\"Helvetica,sans-Serif\" font-size=\"14.00\">samples = 1753</text>\n<text text-anchor=\"start\" x=\"356.5\" y=\"-96.8\" font-family=\"Helvetica,sans-Serif\" font-size=\"14.00\">value = [1638, 115]</text>\n</g>\n<!-- 0&#45;&gt;4 -->\n<g id=\"edge4\" class=\"edge\">\n<title>0&#45;&gt;4</title>\n<path fill=\"none\" stroke=\"black\" d=\"M336.16,-192.88C346.6,-183.71 358.04,-173.65 368.87,-164.12\"/>\n<polygon fill=\"black\" stroke=\"black\" points=\"371.43,-166.53 376.63,-157.3 366.81,-161.27 371.43,-166.53\"/>\n<text text-anchor=\"middle\" x=\"375.03\" y=\"-178.55\" font-family=\"Helvetica,sans-Serif\" font-size=\"14.00\">False</text>\n</g>\n<!-- 2 -->\n<g id=\"node3\" class=\"node\">\n<title>2</title>\n<path fill=\"#efb083\" stroke=\"black\" d=\"M113,-53C113,-53 12,-53 12,-53 6,-53 0,-47 0,-41 0,-41 0,-12 0,-12 0,-6 6,0 12,0 12,0 113,0 113,0 119,0 125,-6 125,-12 125,-12 125,-41 125,-41 125,-47 119,-53 113,-53\"/>\n<text text-anchor=\"start\" x=\"27\" y=\"-37.8\" font-family=\"Helvetica,sans-Serif\" font-size=\"14.00\">gini = 0.396</text>\n<text text-anchor=\"start\" x=\"17.5\" y=\"-22.8\" font-family=\"Helvetica,sans-Serif\" font-size=\"14.00\">samples = 981</text>\n<text text-anchor=\"start\" x=\"8\" y=\"-7.8\" font-family=\"Helvetica,sans-Serif\" font-size=\"14.00\">value = [714, 267]</text>\n</g>\n<!-- 1&#45;&gt;2 -->\n<g id=\"edge2\" class=\"edge\">\n<title>1&#45;&gt;2</title>\n<path fill=\"none\" stroke=\"black\" d=\"M141.18,-88.95C129,-79.43 115.73,-69.07 103.62,-59.62\"/>\n<polygon fill=\"black\" stroke=\"black\" points=\"105.49,-56.63 95.45,-53.24 101.18,-62.15 105.49,-56.63\"/>\n</g>\n<!-- 3 -->\n<g id=\"node4\" class=\"node\">\n<title>3</title>\n<path fill=\"#daedfa\" stroke=\"black\" d=\"M256,-53C256,-53 155,-53 155,-53 149,-53 143,-47 143,-41 143,-41 143,-12 143,-12 143,-6 149,0 155,0 155,0 256,0 256,0 262,0 268,-6 268,-12 268,-12 268,-41 268,-41 268,-47 262,-53 256,-53\"/>\n<text text-anchor=\"start\" x=\"170\" y=\"-37.8\" font-family=\"Helvetica,sans-Serif\" font-size=\"14.00\">gini = 0.495</text>\n<text text-anchor=\"start\" x=\"157\" y=\"-22.8\" font-family=\"Helvetica,sans-Serif\" font-size=\"14.00\">samples = 1203</text>\n<text text-anchor=\"start\" x=\"151\" y=\"-7.8\" font-family=\"Helvetica,sans-Serif\" font-size=\"14.00\">value = [539, 664]</text>\n</g>\n<!-- 1&#45;&gt;3 -->\n<g id=\"edge3\" class=\"edge\">\n<title>1&#45;&gt;3</title>\n<path fill=\"none\" stroke=\"black\" d=\"M191.19,-88.95C193.13,-80.62 195.22,-71.65 197.19,-63.2\"/>\n<polygon fill=\"black\" stroke=\"black\" points=\"200.65,-63.77 199.51,-53.24 193.83,-62.18 200.65,-63.77\"/>\n</g>\n<!-- 5 -->\n<g id=\"node6\" class=\"node\">\n<title>5</title>\n<path fill=\"#e68641\" stroke=\"black\" d=\"M443,-53C443,-53 342,-53 342,-53 336,-53 330,-47 330,-41 330,-41 330,-12 330,-12 330,-6 336,0 342,0 342,0 443,0 443,0 449,0 455,-6 455,-12 455,-12 455,-41 455,-41 455,-47 449,-53 443,-53\"/>\n<text text-anchor=\"start\" x=\"357\" y=\"-37.8\" font-family=\"Helvetica,sans-Serif\" font-size=\"14.00\">gini = 0.074</text>\n<text text-anchor=\"start\" x=\"344\" y=\"-22.8\" font-family=\"Helvetica,sans-Serif\" font-size=\"14.00\">samples = 1306</text>\n<text text-anchor=\"start\" x=\"338\" y=\"-7.8\" font-family=\"Helvetica,sans-Serif\" font-size=\"14.00\">value = [1256, 50]</text>\n</g>\n<!-- 4&#45;&gt;5 -->\n<g id=\"edge5\" class=\"edge\">\n<title>4&#45;&gt;5</title>\n<path fill=\"none\" stroke=\"black\" d=\"M406.81,-88.95C404.87,-80.62 402.78,-71.65 400.81,-63.2\"/>\n<polygon fill=\"black\" stroke=\"black\" points=\"404.17,-62.18 398.49,-53.24 397.35,-63.77 404.17,-62.18\"/>\n</g>\n<!-- 6 -->\n<g id=\"node7\" class=\"node\">\n<title>6</title>\n<path fill=\"#e9965b\" stroke=\"black\" d=\"M578,-53C578,-53 485,-53 485,-53 479,-53 473,-47 473,-41 473,-41 473,-12 473,-12 473,-6 479,0 485,0 485,0 578,0 578,0 584,0 590,-6 590,-12 590,-12 590,-41 590,-41 590,-47 584,-53 578,-53\"/>\n<text text-anchor=\"start\" x=\"496\" y=\"-37.8\" font-family=\"Helvetica,sans-Serif\" font-size=\"14.00\">gini = 0.249</text>\n<text text-anchor=\"start\" x=\"486.5\" y=\"-22.8\" font-family=\"Helvetica,sans-Serif\" font-size=\"14.00\">samples = 447</text>\n<text text-anchor=\"start\" x=\"481\" y=\"-7.8\" font-family=\"Helvetica,sans-Serif\" font-size=\"14.00\">value = [382, 65]</text>\n</g>\n<!-- 4&#45;&gt;6 -->\n<g id=\"edge6\" class=\"edge\">\n<title>4&#45;&gt;6</title>\n<path fill=\"none\" stroke=\"black\" d=\"M455.42,-88.95C467.2,-79.43 480.03,-69.07 491.74,-59.62\"/>\n<polygon fill=\"black\" stroke=\"black\" points=\"494.06,-62.24 499.64,-53.24 489.66,-56.8 494.06,-62.24\"/>\n</g>\n</g>\n</svg>\n",
      "text/plain": [
       "<graphviz.sources.Source at 0x7faeba3b7160>"
      ]
     },
     "execution_count": 73,
     "metadata": {},
     "output_type": "execute_result"
    }
   ],
   "source": [
    "telco_tree3_data = export_graphviz(telco_tree3, out_file=None, feature_names=X_train.columns, filled=True, rounded=True, special_characters=True)\n",
    "telco_tree3_graph = graphviz.Source(telco_tree3_data)\n",
    "telco_tree3_graph"
   ]
  },
  {
   "cell_type": "code",
   "execution_count": 74,
   "metadata": {},
   "outputs": [
    {
     "data": {
      "text/plain": [
       "'telco_tree3.pdf'"
      ]
     },
     "execution_count": 74,
     "metadata": {},
     "output_type": "execute_result"
    }
   ],
   "source": [
    "telco_tree3_graph.render(outfile='telco_tree3.pdf')"
   ]
  },
  {
   "cell_type": "code",
   "execution_count": 90,
   "metadata": {},
   "outputs": [
    {
     "name": "stdout",
     "output_type": "stream",
     "text": [
      "Accuracy of Telco tree 3 on validate split: 0.7559241706161137\n",
      "Confusion matrix for Telco tree 3 on validate split:\n",
      "[[1007  232]\n",
      " [ 180  269]]\n",
      "Classification report for Telco tree 3 on validate split:\n",
      "              precision    recall  f1-score   support\n",
      "\n",
      "           0       0.85      0.81      0.83      1239\n",
      "           1       0.54      0.60      0.57       449\n",
      "\n",
      "    accuracy                           0.76      1688\n",
      "   macro avg       0.69      0.71      0.70      1688\n",
      "weighted avg       0.77      0.76      0.76      1688\n",
      "\n"
     ]
    },
    {
     "data": {
      "text/plain": [
       "array([[0.44804655, 0.55195345],\n",
       "       [0.85458613, 0.14541387],\n",
       "       [0.96171516, 0.03828484],\n",
       "       ...,\n",
       "       [0.96171516, 0.03828484],\n",
       "       [0.85458613, 0.14541387],\n",
       "       [0.96171516, 0.03828484]])"
      ]
     },
     "execution_count": 90,
     "metadata": {},
     "output_type": "execute_result"
    }
   ],
   "source": [
    "val_tree3_pred = telco_tree3.predict(X_validate)\n",
    "val_tree3_prob = telco_tree3.predict_proba(X_validate)\n",
    "\n",
    "print(f'Accuracy of Telco tree 3 on validate split: {telco_tree3.score(X_validate, y_validate)}')\n",
    "print(f'Confusion matrix for Telco tree 3 on validate split:\\n{confusion_matrix(y_validate, val_tree3_pred)}')\n",
    "print(f'Classification report for Telco tree 3 on validate split:\\n{classification_report(y_validate, val_tree3_pred)}')\n",
    "\n",
    "val_tree3_prob"
   ]
  },
  {
   "cell_type": "code",
   "execution_count": 75,
   "metadata": {},
   "outputs": [
    {
     "data": {
      "text/plain": [
       "Index(['senior_citizen', 'tenure', 'internet_service_type_id',\n",
       "       'contract_type_id', 'payment_type_id', 'monthly_charges',\n",
       "       'total_charges', 'gender_Male', 'partner_Yes', 'dependents_Yes',\n",
       "       'phone_service_Yes', 'multiple_lines_No phone service',\n",
       "       'multiple_lines_Yes', 'online_security_No internet service',\n",
       "       'online_security_Yes', 'online_backup_No internet service',\n",
       "       'online_backup_Yes', 'device_protection_No internet service',\n",
       "       'device_protection_Yes', 'tech_support_No internet service',\n",
       "       'tech_support_Yes', 'streaming_tv_No internet service',\n",
       "       'streaming_tv_Yes', 'streaming_movies_No internet service',\n",
       "       'streaming_movies_Yes', 'paperless_billing_Yes',\n",
       "       'contract_type_One year', 'contract_type_Two year',\n",
       "       'payment_type_Credit card (automatic)', 'payment_type_Electronic check',\n",
       "       'payment_type_Mailed check', 'internet_service_type_Fiber optic',\n",
       "       'internet_service_type_None'],\n",
       "      dtype='object')"
      ]
     },
     "execution_count": 75,
     "metadata": {},
     "output_type": "execute_result"
    }
   ],
   "source": [
    "X_train.columns"
   ]
  },
  {
   "cell_type": "code",
   "execution_count": 76,
   "metadata": {},
   "outputs": [
    {
     "data": {
      "text/plain": [
       "array([[0.92169312, 0.07830688],\n",
       "       [0.98468271, 0.01531729],\n",
       "       [0.62402496, 0.37597504],\n",
       "       ...,\n",
       "       [0.98468271, 0.01531729],\n",
       "       [0.6183908 , 0.3816092 ],\n",
       "       [0.85894737, 0.14105263]])"
      ]
     },
     "execution_count": 76,
     "metadata": {},
     "output_type": "execute_result"
    }
   ],
   "source": [
    "# Modifying training split for select feature (fiber internet) to try to boost model scores\n",
    "X_train_fiber = X_train[['tenure', 'monthly_charges', 'total_charges', 'gender_Male', 'streaming_tv_Yes', 'streaming_movies_Yes', 'internet_service_type_Fiber optic']]\n",
    "\n",
    "telco_tree4 = DecisionTreeClassifier(max_depth=3, random_state=302)\n",
    "telco_tree4.fit(X_train_fiber, y_train)\n",
    "\n",
    "telco_tree4_pred = telco_tree4.predict(X_train_fiber)\n",
    "telco_tree4_prob = telco_tree4.predict_proba(X_train_fiber)\n",
    "\n",
    "telco_tree4_prob"
   ]
  },
  {
   "cell_type": "code",
   "execution_count": 78,
   "metadata": {},
   "outputs": [
    {
     "name": "stdout",
     "output_type": "stream",
     "text": [
      "Accuracy score for Telco tree 4: 0.794\n",
      "Confusion matrix for Telco tree 4:\n",
      "[[2697  194]\n",
      " [ 618  428]]\n",
      "Classification report for Telco tree 4:\n",
      "              precision    recall  f1-score   support\n",
      "\n",
      "           0       0.81      0.93      0.87      2891\n",
      "           1       0.69      0.41      0.51      1046\n",
      "\n",
      "    accuracy                           0.79      3937\n",
      "   macro avg       0.75      0.67      0.69      3937\n",
      "weighted avg       0.78      0.79      0.77      3937\n",
      "\n"
     ]
    }
   ],
   "source": [
    "print(f'Accuracy score for Telco tree 4: {telco_tree4.score(X_train_fiber, y_train):.3f}')\n",
    "print(f'Confusion matrix for Telco tree 4:\\n{confusion_matrix(y_train, telco_tree4_pred)}')\n",
    "print(f'Classification report for Telco tree 4:\\n{classification_report(y_train, telco_tree4_pred)}')"
   ]
  },
  {
   "cell_type": "code",
   "execution_count": 79,
   "metadata": {},
   "outputs": [
    {
     "data": {
      "image/svg+xml": "<?xml version=\"1.0\" encoding=\"UTF-8\" standalone=\"no\"?>\n<!DOCTYPE svg PUBLIC \"-//W3C//DTD SVG 1.1//EN\"\n \"http://www.w3.org/Graphics/SVG/1.1/DTD/svg11.dtd\">\n<!-- Generated by graphviz version 2.50.0 (20211204.2007)\n -->\n<!-- Title: Tree Pages: 1 -->\n<svg width=\"1088pt\" height=\"373pt\"\n viewBox=\"0.00 0.00 1088.00 373.00\" xmlns=\"http://www.w3.org/2000/svg\" xmlns:xlink=\"http://www.w3.org/1999/xlink\">\n<g id=\"graph0\" class=\"graph\" transform=\"scale(1 1) rotate(0) translate(4 369)\">\n<title>Tree</title>\n<polygon fill=\"white\" stroke=\"transparent\" points=\"-4,4 -4,-369 1084,-369 1084,4 -4,4\"/>\n<!-- 0 -->\n<g id=\"node1\" class=\"node\">\n<title>0</title>\n<path fill=\"#eeaf81\" stroke=\"black\" d=\"M663.5,-365C663.5,-365 547.5,-365 547.5,-365 541.5,-365 535.5,-359 535.5,-353 535.5,-353 535.5,-309 535.5,-309 535.5,-303 541.5,-297 547.5,-297 547.5,-297 663.5,-297 663.5,-297 669.5,-297 675.5,-303 675.5,-309 675.5,-309 675.5,-353 675.5,-353 675.5,-359 669.5,-365 663.5,-365\"/>\n<text text-anchor=\"start\" x=\"565.5\" y=\"-349.8\" font-family=\"Helvetica,sans-Serif\" font-size=\"14.00\">tenure ≤ 16.5</text>\n<text text-anchor=\"start\" x=\"573.5\" y=\"-334.8\" font-family=\"Helvetica,sans-Serif\" font-size=\"14.00\">gini = 0.39</text>\n<text text-anchor=\"start\" x=\"557\" y=\"-319.8\" font-family=\"Helvetica,sans-Serif\" font-size=\"14.00\">samples = 3937</text>\n<text text-anchor=\"start\" x=\"543.5\" y=\"-304.8\" font-family=\"Helvetica,sans-Serif\" font-size=\"14.00\">value = [2891, 1046]</text>\n</g>\n<!-- 1 -->\n<g id=\"node2\" class=\"node\">\n<title>1</title>\n<path fill=\"#fbeee4\" stroke=\"black\" d=\"M526,-261C526,-261 301,-261 301,-261 295,-261 289,-255 289,-249 289,-249 289,-205 289,-205 289,-199 295,-193 301,-193 301,-193 526,-193 526,-193 532,-193 538,-199 538,-205 538,-205 538,-249 538,-249 538,-255 532,-261 526,-261\"/>\n<text text-anchor=\"start\" x=\"297\" y=\"-245.8\" font-family=\"Helvetica,sans-Serif\" font-size=\"14.00\">internet_service_type_Fiber optic ≤ 0.5</text>\n<text text-anchor=\"start\" x=\"378\" y=\"-230.8\" font-family=\"Helvetica,sans-Serif\" font-size=\"14.00\">gini = 0.497</text>\n<text text-anchor=\"start\" x=\"365\" y=\"-215.8\" font-family=\"Helvetica,sans-Serif\" font-size=\"14.00\">samples = 1419</text>\n<text text-anchor=\"start\" x=\"359\" y=\"-200.8\" font-family=\"Helvetica,sans-Serif\" font-size=\"14.00\">value = [762, 657]</text>\n</g>\n<!-- 0&#45;&gt;1 -->\n<g id=\"edge1\" class=\"edge\">\n<title>0&#45;&gt;1</title>\n<path fill=\"none\" stroke=\"black\" d=\"M543.16,-296.88C524.54,-286.99 503.98,-276.07 484.83,-265.9\"/>\n<polygon fill=\"black\" stroke=\"black\" points=\"486.33,-262.73 475.85,-261.12 483.04,-268.91 486.33,-262.73\"/>\n<text text-anchor=\"middle\" x=\"483.17\" y=\"-281.33\" font-family=\"Helvetica,sans-Serif\" font-size=\"14.00\">True</text>\n</g>\n<!-- 8 -->\n<g id=\"node9\" class=\"node\">\n<title>8</title>\n<path fill=\"#ea985d\" stroke=\"black\" d=\"M823,-261C823,-261 598,-261 598,-261 592,-261 586,-255 586,-249 586,-249 586,-205 586,-205 586,-199 592,-193 598,-193 598,-193 823,-193 823,-193 829,-193 835,-199 835,-205 835,-205 835,-249 835,-249 835,-255 829,-261 823,-261\"/>\n<text text-anchor=\"start\" x=\"594\" y=\"-245.8\" font-family=\"Helvetica,sans-Serif\" font-size=\"14.00\">internet_service_type_Fiber optic ≤ 0.5</text>\n<text text-anchor=\"start\" x=\"675\" y=\"-230.8\" font-family=\"Helvetica,sans-Serif\" font-size=\"14.00\">gini = 0.261</text>\n<text text-anchor=\"start\" x=\"662\" y=\"-215.8\" font-family=\"Helvetica,sans-Serif\" font-size=\"14.00\">samples = 2518</text>\n<text text-anchor=\"start\" x=\"652.5\" y=\"-200.8\" font-family=\"Helvetica,sans-Serif\" font-size=\"14.00\">value = [2129, 389]</text>\n</g>\n<!-- 0&#45;&gt;8 -->\n<g id=\"edge8\" class=\"edge\">\n<title>0&#45;&gt;8</title>\n<path fill=\"none\" stroke=\"black\" d=\"M639.59,-296.88C648.94,-287.8 659.19,-277.85 668.91,-268.4\"/>\n<polygon fill=\"black\" stroke=\"black\" points=\"671.49,-270.78 676.22,-261.3 666.61,-265.76 671.49,-270.78\"/>\n<text text-anchor=\"middle\" x=\"675.86\" y=\"-282.6\" font-family=\"Helvetica,sans-Serif\" font-size=\"14.00\">False</text>\n</g>\n<!-- 2 -->\n<g id=\"node3\" class=\"node\">\n<title>2</title>\n<path fill=\"#efb489\" stroke=\"black\" d=\"M252,-157C252,-157 151,-157 151,-157 145,-157 139,-151 139,-145 139,-145 139,-101 139,-101 139,-95 145,-89 151,-89 151,-89 252,-89 252,-89 258,-89 264,-95 264,-101 264,-101 264,-145 264,-145 264,-151 258,-157 252,-157\"/>\n<text text-anchor=\"start\" x=\"165\" y=\"-141.8\" font-family=\"Helvetica,sans-Serif\" font-size=\"14.00\">tenure ≤ 5.5</text>\n<text text-anchor=\"start\" x=\"169.5\" y=\"-126.8\" font-family=\"Helvetica,sans-Serif\" font-size=\"14.00\">gini = 0.41</text>\n<text text-anchor=\"start\" x=\"156.5\" y=\"-111.8\" font-family=\"Helvetica,sans-Serif\" font-size=\"14.00\">samples = 797</text>\n<text text-anchor=\"start\" x=\"147\" y=\"-96.8\" font-family=\"Helvetica,sans-Serif\" font-size=\"14.00\">value = [568, 229]</text>\n</g>\n<!-- 1&#45;&gt;2 -->\n<g id=\"edge2\" class=\"edge\">\n<title>1&#45;&gt;2</title>\n<path fill=\"none\" stroke=\"black\" d=\"M344.67,-192.88C321.83,-181.89 296.35,-169.64 273.29,-158.54\"/>\n<polygon fill=\"black\" stroke=\"black\" points=\"274.78,-155.37 264.25,-154.19 271.74,-161.68 274.78,-155.37\"/>\n</g>\n<!-- 5 -->\n<g id=\"node6\" class=\"node\">\n<title>5</title>\n<path fill=\"#93c9f1\" stroke=\"black\" d=\"M474.5,-157C474.5,-157 352.5,-157 352.5,-157 346.5,-157 340.5,-151 340.5,-145 340.5,-145 340.5,-101 340.5,-101 340.5,-95 346.5,-89 352.5,-89 352.5,-89 474.5,-89 474.5,-89 480.5,-89 486.5,-95 486.5,-101 486.5,-101 486.5,-145 486.5,-145 486.5,-151 480.5,-157 474.5,-157\"/>\n<text text-anchor=\"start\" x=\"348.5\" y=\"-141.8\" font-family=\"Helvetica,sans-Serif\" font-size=\"14.00\">total_charges ≤ 120.0</text>\n<text text-anchor=\"start\" x=\"378\" y=\"-126.8\" font-family=\"Helvetica,sans-Serif\" font-size=\"14.00\">gini = 0.429</text>\n<text text-anchor=\"start\" x=\"368.5\" y=\"-111.8\" font-family=\"Helvetica,sans-Serif\" font-size=\"14.00\">samples = 622</text>\n<text text-anchor=\"start\" x=\"359\" y=\"-96.8\" font-family=\"Helvetica,sans-Serif\" font-size=\"14.00\">value = [194, 428]</text>\n</g>\n<!-- 1&#45;&gt;5 -->\n<g id=\"edge5\" class=\"edge\">\n<title>1&#45;&gt;5</title>\n<path fill=\"none\" stroke=\"black\" d=\"M413.5,-192.88C413.5,-184.78 413.5,-175.98 413.5,-167.47\"/>\n<polygon fill=\"black\" stroke=\"black\" points=\"417,-167.3 413.5,-157.3 410,-167.3 417,-167.3\"/>\n</g>\n<!-- 3 -->\n<g id=\"node4\" class=\"node\">\n<title>3</title>\n<path fill=\"#f5cfb3\" stroke=\"black\" d=\"M113,-53C113,-53 12,-53 12,-53 6,-53 0,-47 0,-41 0,-41 0,-12 0,-12 0,-6 6,0 12,0 12,0 113,0 113,0 119,0 125,-6 125,-12 125,-12 125,-41 125,-41 125,-47 119,-53 113,-53\"/>\n<text text-anchor=\"start\" x=\"27\" y=\"-37.8\" font-family=\"Helvetica,sans-Serif\" font-size=\"14.00\">gini = 0.472</text>\n<text text-anchor=\"start\" x=\"17.5\" y=\"-22.8\" font-family=\"Helvetica,sans-Serif\" font-size=\"14.00\">samples = 435</text>\n<text text-anchor=\"start\" x=\"8\" y=\"-7.8\" font-family=\"Helvetica,sans-Serif\" font-size=\"14.00\">value = [269, 166]</text>\n</g>\n<!-- 2&#45;&gt;3 -->\n<g id=\"edge3\" class=\"edge\">\n<title>2&#45;&gt;3</title>\n<path fill=\"none\" stroke=\"black\" d=\"M152.88,-88.95C138.62,-79.25 123.06,-68.68 108.94,-59.07\"/>\n<polygon fill=\"black\" stroke=\"black\" points=\"110.59,-55.96 100.36,-53.24 106.66,-61.75 110.59,-55.96\"/>\n</g>\n<!-- 4 -->\n<g id=\"node5\" class=\"node\">\n<title>4</title>\n<path fill=\"#ea9c63\" stroke=\"black\" d=\"M248,-53C248,-53 155,-53 155,-53 149,-53 143,-47 143,-41 143,-41 143,-12 143,-12 143,-6 149,0 155,0 155,0 248,0 248,0 254,0 260,-6 260,-12 260,-12 260,-41 260,-41 260,-47 254,-53 248,-53\"/>\n<text text-anchor=\"start\" x=\"166\" y=\"-37.8\" font-family=\"Helvetica,sans-Serif\" font-size=\"14.00\">gini = 0.287</text>\n<text text-anchor=\"start\" x=\"156.5\" y=\"-22.8\" font-family=\"Helvetica,sans-Serif\" font-size=\"14.00\">samples = 362</text>\n<text text-anchor=\"start\" x=\"151\" y=\"-7.8\" font-family=\"Helvetica,sans-Serif\" font-size=\"14.00\">value = [299, 63]</text>\n</g>\n<!-- 2&#45;&gt;4 -->\n<g id=\"edge4\" class=\"edge\">\n<title>2&#45;&gt;4</title>\n<path fill=\"none\" stroke=\"black\" d=\"M201.5,-88.95C201.5,-80.72 201.5,-71.85 201.5,-63.48\"/>\n<polygon fill=\"black\" stroke=\"black\" points=\"205,-63.24 201.5,-53.24 198,-63.24 205,-63.24\"/>\n</g>\n<!-- 6 -->\n<g id=\"node7\" class=\"node\">\n<title>6</title>\n<path fill=\"#56ace9\" stroke=\"black\" d=\"M383,-53C383,-53 290,-53 290,-53 284,-53 278,-47 278,-41 278,-41 278,-12 278,-12 278,-6 284,0 290,0 290,0 383,0 383,0 389,0 395,-6 395,-12 395,-12 395,-41 395,-41 395,-47 389,-53 383,-53\"/>\n<text text-anchor=\"start\" x=\"301\" y=\"-37.8\" font-family=\"Helvetica,sans-Serif\" font-size=\"14.00\">gini = 0.225</text>\n<text text-anchor=\"start\" x=\"291.5\" y=\"-22.8\" font-family=\"Helvetica,sans-Serif\" font-size=\"14.00\">samples = 139</text>\n<text text-anchor=\"start\" x=\"286\" y=\"-7.8\" font-family=\"Helvetica,sans-Serif\" font-size=\"14.00\">value = [18, 121]</text>\n</g>\n<!-- 5&#45;&gt;6 -->\n<g id=\"edge6\" class=\"edge\">\n<title>5&#45;&gt;6</title>\n<path fill=\"none\" stroke=\"black\" d=\"M386.57,-88.95C379.26,-79.98 371.35,-70.27 364.01,-61.26\"/>\n<polygon fill=\"black\" stroke=\"black\" points=\"366.5,-58.78 357.47,-53.24 361.07,-63.2 366.5,-58.78\"/>\n</g>\n<!-- 7 -->\n<g id=\"node8\" class=\"node\">\n<title>7</title>\n<path fill=\"#abd5f4\" stroke=\"black\" d=\"M526,-53C526,-53 425,-53 425,-53 419,-53 413,-47 413,-41 413,-41 413,-12 413,-12 413,-6 419,0 425,0 425,0 526,0 526,0 532,0 538,-6 538,-12 538,-12 538,-41 538,-41 538,-47 532,-53 526,-53\"/>\n<text text-anchor=\"start\" x=\"440\" y=\"-37.8\" font-family=\"Helvetica,sans-Serif\" font-size=\"14.00\">gini = 0.463</text>\n<text text-anchor=\"start\" x=\"430.5\" y=\"-22.8\" font-family=\"Helvetica,sans-Serif\" font-size=\"14.00\">samples = 483</text>\n<text text-anchor=\"start\" x=\"421\" y=\"-7.8\" font-family=\"Helvetica,sans-Serif\" font-size=\"14.00\">value = [176, 307]</text>\n</g>\n<!-- 5&#45;&gt;7 -->\n<g id=\"edge7\" class=\"edge\">\n<title>5&#45;&gt;7</title>\n<path fill=\"none\" stroke=\"black\" d=\"M435.18,-88.95C440.95,-80.17 447.18,-70.66 452.99,-61.82\"/>\n<polygon fill=\"black\" stroke=\"black\" points=\"456.06,-63.52 458.61,-53.24 450.2,-59.68 456.06,-63.52\"/>\n</g>\n<!-- 9 -->\n<g id=\"node10\" class=\"node\">\n<title>9</title>\n<path fill=\"#e78945\" stroke=\"black\" d=\"M761,-157C761,-157 660,-157 660,-157 654,-157 648,-151 648,-145 648,-145 648,-101 648,-101 648,-95 654,-89 660,-89 660,-89 761,-89 761,-89 767,-89 773,-95 773,-101 773,-101 773,-145 773,-145 773,-151 767,-157 761,-157\"/>\n<text text-anchor=\"start\" x=\"670.5\" y=\"-141.8\" font-family=\"Helvetica,sans-Serif\" font-size=\"14.00\">tenure ≤ 59.5</text>\n<text text-anchor=\"start\" x=\"675\" y=\"-126.8\" font-family=\"Helvetica,sans-Serif\" font-size=\"14.00\">gini = 0.109</text>\n<text text-anchor=\"start\" x=\"662\" y=\"-111.8\" font-family=\"Helvetica,sans-Serif\" font-size=\"14.00\">samples = 1402</text>\n<text text-anchor=\"start\" x=\"656\" y=\"-96.8\" font-family=\"Helvetica,sans-Serif\" font-size=\"14.00\">value = [1321, 81]</text>\n</g>\n<!-- 8&#45;&gt;9 -->\n<g id=\"edge9\" class=\"edge\">\n<title>8&#45;&gt;9</title>\n<path fill=\"none\" stroke=\"black\" d=\"M710.5,-192.88C710.5,-184.78 710.5,-175.98 710.5,-167.47\"/>\n<polygon fill=\"black\" stroke=\"black\" points=\"714,-167.3 710.5,-157.3 707,-167.3 714,-167.3\"/>\n</g>\n<!-- 12 -->\n<g id=\"node13\" class=\"node\">\n<title>12</title>\n<path fill=\"#efb184\" stroke=\"black\" d=\"M933,-157C933,-157 832,-157 832,-157 826,-157 820,-151 820,-145 820,-145 820,-101 820,-101 820,-95 826,-89 832,-89 832,-89 933,-89 933,-89 939,-89 945,-95 945,-101 945,-101 945,-145 945,-145 945,-151 939,-157 933,-157\"/>\n<text text-anchor=\"start\" x=\"842.5\" y=\"-141.8\" font-family=\"Helvetica,sans-Serif\" font-size=\"14.00\">tenure ≤ 53.5</text>\n<text text-anchor=\"start\" x=\"854.5\" y=\"-126.8\" font-family=\"Helvetica,sans-Serif\" font-size=\"14.00\">gini = 0.4</text>\n<text text-anchor=\"start\" x=\"834\" y=\"-111.8\" font-family=\"Helvetica,sans-Serif\" font-size=\"14.00\">samples = 1116</text>\n<text text-anchor=\"start\" x=\"828\" y=\"-96.8\" font-family=\"Helvetica,sans-Serif\" font-size=\"14.00\">value = [808, 308]</text>\n</g>\n<!-- 8&#45;&gt;12 -->\n<g id=\"edge12\" class=\"edge\">\n<title>8&#45;&gt;12</title>\n<path fill=\"none\" stroke=\"black\" d=\"M766.34,-192.88C782.8,-183.12 800.94,-172.37 817.9,-162.31\"/>\n<polygon fill=\"black\" stroke=\"black\" points=\"819.83,-165.24 826.64,-157.12 816.26,-159.22 819.83,-165.24\"/>\n</g>\n<!-- 10 -->\n<g id=\"node11\" class=\"node\">\n<title>10</title>\n<path fill=\"#e78c4a\" stroke=\"black\" d=\"M661,-53C661,-53 568,-53 568,-53 562,-53 556,-47 556,-41 556,-41 556,-12 556,-12 556,-6 562,0 568,0 568,0 661,0 661,0 667,0 673,-6 673,-12 673,-12 673,-41 673,-41 673,-47 667,-53 661,-53\"/>\n<text text-anchor=\"start\" x=\"579\" y=\"-37.8\" font-family=\"Helvetica,sans-Serif\" font-size=\"14.00\">gini = 0.144</text>\n<text text-anchor=\"start\" x=\"569.5\" y=\"-22.8\" font-family=\"Helvetica,sans-Serif\" font-size=\"14.00\">samples = 945</text>\n<text text-anchor=\"start\" x=\"564\" y=\"-7.8\" font-family=\"Helvetica,sans-Serif\" font-size=\"14.00\">value = [871, 74]</text>\n</g>\n<!-- 9&#45;&gt;10 -->\n<g id=\"edge10\" class=\"edge\">\n<title>9&#45;&gt;10</title>\n<path fill=\"none\" stroke=\"black\" d=\"M676.92,-88.95C667.54,-79.71 657.34,-69.67 647.96,-60.44\"/>\n<polygon fill=\"black\" stroke=\"black\" points=\"650.23,-57.76 640.65,-53.24 645.32,-62.75 650.23,-57.76\"/>\n</g>\n<!-- 11 -->\n<g id=\"node12\" class=\"node\">\n<title>11</title>\n<path fill=\"#e5833c\" stroke=\"black\" d=\"M789.5,-53C789.5,-53 703.5,-53 703.5,-53 697.5,-53 691.5,-47 691.5,-41 691.5,-41 691.5,-12 691.5,-12 691.5,-6 697.5,0 703.5,0 703.5,0 789.5,0 789.5,0 795.5,0 801.5,-6 801.5,-12 801.5,-12 801.5,-41 801.5,-41 801.5,-47 795.5,-53 789.5,-53\"/>\n<text text-anchor=\"start\" x=\"714.5\" y=\"-37.8\" font-family=\"Helvetica,sans-Serif\" font-size=\"14.00\">gini = 0.03</text>\n<text text-anchor=\"start\" x=\"701.5\" y=\"-22.8\" font-family=\"Helvetica,sans-Serif\" font-size=\"14.00\">samples = 457</text>\n<text text-anchor=\"start\" x=\"699.5\" y=\"-7.8\" font-family=\"Helvetica,sans-Serif\" font-size=\"14.00\">value = [450, 7]</text>\n</g>\n<!-- 9&#45;&gt;11 -->\n<g id=\"edge11\" class=\"edge\">\n<title>9&#45;&gt;11</title>\n<path fill=\"none\" stroke=\"black\" d=\"M723.09,-88.95C726.33,-80.44 729.83,-71.26 733.11,-62.65\"/>\n<polygon fill=\"black\" stroke=\"black\" points=\"736.41,-63.83 736.7,-53.24 729.86,-61.34 736.41,-63.83\"/>\n</g>\n<!-- 13 -->\n<g id=\"node14\" class=\"node\">\n<title>13</title>\n<path fill=\"#f5cdb0\" stroke=\"black\" d=\"M933,-53C933,-53 832,-53 832,-53 826,-53 820,-47 820,-41 820,-41 820,-12 820,-12 820,-6 826,0 832,0 832,0 933,0 933,0 939,0 945,-6 945,-12 945,-12 945,-41 945,-41 945,-47 939,-53 933,-53\"/>\n<text text-anchor=\"start\" x=\"847\" y=\"-37.8\" font-family=\"Helvetica,sans-Serif\" font-size=\"14.00\">gini = 0.469</text>\n<text text-anchor=\"start\" x=\"837.5\" y=\"-22.8\" font-family=\"Helvetica,sans-Serif\" font-size=\"14.00\">samples = 641</text>\n<text text-anchor=\"start\" x=\"828\" y=\"-7.8\" font-family=\"Helvetica,sans-Serif\" font-size=\"14.00\">value = [400, 241]</text>\n</g>\n<!-- 12&#45;&gt;13 -->\n<g id=\"edge13\" class=\"edge\">\n<title>12&#45;&gt;13</title>\n<path fill=\"none\" stroke=\"black\" d=\"M882.5,-88.95C882.5,-80.72 882.5,-71.85 882.5,-63.48\"/>\n<polygon fill=\"black\" stroke=\"black\" points=\"886,-63.24 882.5,-53.24 879,-63.24 886,-63.24\"/>\n</g>\n<!-- 14 -->\n<g id=\"node15\" class=\"node\">\n<title>14</title>\n<path fill=\"#e9965a\" stroke=\"black\" d=\"M1068,-53C1068,-53 975,-53 975,-53 969,-53 963,-47 963,-41 963,-41 963,-12 963,-12 963,-6 969,0 975,0 975,0 1068,0 1068,0 1074,0 1080,-6 1080,-12 1080,-12 1080,-41 1080,-41 1080,-47 1074,-53 1068,-53\"/>\n<text text-anchor=\"start\" x=\"986\" y=\"-37.8\" font-family=\"Helvetica,sans-Serif\" font-size=\"14.00\">gini = 0.242</text>\n<text text-anchor=\"start\" x=\"976.5\" y=\"-22.8\" font-family=\"Helvetica,sans-Serif\" font-size=\"14.00\">samples = 475</text>\n<text text-anchor=\"start\" x=\"971\" y=\"-7.8\" font-family=\"Helvetica,sans-Serif\" font-size=\"14.00\">value = [408, 67]</text>\n</g>\n<!-- 12&#45;&gt;14 -->\n<g id=\"edge14\" class=\"edge\">\n<title>12&#45;&gt;14</title>\n<path fill=\"none\" stroke=\"black\" d=\"M931.12,-88.95C945.38,-79.25 960.94,-68.68 975.06,-59.07\"/>\n<polygon fill=\"black\" stroke=\"black\" points=\"977.34,-61.75 983.64,-53.24 973.41,-55.96 977.34,-61.75\"/>\n</g>\n</g>\n</svg>\n",
      "text/plain": [
       "<graphviz.sources.Source at 0x7faeba3b7e20>"
      ]
     },
     "execution_count": 79,
     "metadata": {},
     "output_type": "execute_result"
    }
   ],
   "source": [
    "telco_tree4_data = export_graphviz(telco_tree4, out_file=None, feature_names=X_train_fiber.columns, filled=True, rounded=True, special_characters=True)\n",
    "telco_tree4_graph = graphviz.Source(telco_tree4_data)\n",
    "telco_tree4_graph"
   ]
  },
  {
   "cell_type": "code",
   "execution_count": 80,
   "metadata": {},
   "outputs": [
    {
     "data": {
      "text/plain": [
       "'telco_tree4.pdf'"
      ]
     },
     "execution_count": 80,
     "metadata": {},
     "output_type": "execute_result"
    }
   ],
   "source": [
    "telco_tree4_graph.render(outfile='telco_tree4.pdf')"
   ]
  },
  {
   "cell_type": "code",
   "execution_count": 81,
   "metadata": {},
   "outputs": [
    {
     "data": {
      "text/plain": [
       "array([[0.64797508, 0.35202492],\n",
       "       [0.8957346 , 0.1042654 ],\n",
       "       [0.64797508, 0.35202492],\n",
       "       ...,\n",
       "       [0.8957346 , 0.1042654 ],\n",
       "       [0.58309038, 0.41690962],\n",
       "       [0.87818697, 0.12181303]])"
      ]
     },
     "execution_count": 81,
     "metadata": {},
     "output_type": "execute_result"
    }
   ],
   "source": [
    "#Modifying training for select feature (paperless billing) to try to boost model scores\n",
    "X_train_paperless = X_train[['tenure', 'monthly_charges', 'total_charges', 'gender_Male', 'paperless_billing_Yes']]\n",
    "telco_tree5 = DecisionTreeClassifier(max_depth=3, random_state=302)\n",
    "telco_tree5.fit(X_train_paperless, y_train)\n",
    "\n",
    "telco_tree5_pred = telco_tree5.predict(X_train_paperless)\n",
    "telco_tree5_prob = telco_tree5.predict_proba(X_train_paperless)\n",
    "telco_tree5_prob"
   ]
  },
  {
   "cell_type": "code",
   "execution_count": 82,
   "metadata": {},
   "outputs": [
    {
     "name": "stdout",
     "output_type": "stream",
     "text": [
      "Accuracy score for Telco tree 5: 0.790\n",
      "Confusion matrix for Telco tree 5:\n",
      "[[2682  209]\n",
      " [ 617  429]]\n",
      "Classification report for Telco tree 5:\n",
      "              precision    recall  f1-score   support\n",
      "\n",
      "           0       0.81      0.93      0.87      2891\n",
      "           1       0.67      0.41      0.51      1046\n",
      "\n",
      "    accuracy                           0.79      3937\n",
      "   macro avg       0.74      0.67      0.69      3937\n",
      "weighted avg       0.78      0.79      0.77      3937\n",
      "\n"
     ]
    }
   ],
   "source": [
    "print(f'Accuracy score for Telco tree 5: {telco_tree5.score(X_train_paperless, y_train):.3f}')\n",
    "print(f'Confusion matrix for Telco tree 5:\\n{confusion_matrix(y_train, telco_tree5_pred)}')\n",
    "print(f'Classification report for Telco tree 5:\\n{classification_report(y_train, telco_tree5_pred)}')"
   ]
  },
  {
   "cell_type": "code",
   "execution_count": 89,
   "metadata": {},
   "outputs": [
    {
     "data": {
      "image/svg+xml": "<?xml version=\"1.0\" encoding=\"UTF-8\" standalone=\"no\"?>\n<!DOCTYPE svg PUBLIC \"-//W3C//DTD SVG 1.1//EN\"\n \"http://www.w3.org/Graphics/SVG/1.1/DTD/svg11.dtd\">\n<!-- Generated by graphviz version 2.50.0 (20211204.2007)\n -->\n<!-- Title: Tree Pages: 1 -->\n<svg width=\"1094pt\" height=\"373pt\"\n viewBox=\"0.00 0.00 1094.00 373.00\" xmlns=\"http://www.w3.org/2000/svg\" xmlns:xlink=\"http://www.w3.org/1999/xlink\">\n<g id=\"graph0\" class=\"graph\" transform=\"scale(1 1) rotate(0) translate(4 369)\">\n<title>Tree</title>\n<polygon fill=\"white\" stroke=\"transparent\" points=\"-4,4 -4,-369 1090,-369 1090,4 -4,4\"/>\n<!-- 0 -->\n<g id=\"node1\" class=\"node\">\n<title>0</title>\n<path fill=\"#eeaf81\" stroke=\"black\" d=\"M574.5,-365C574.5,-365 458.5,-365 458.5,-365 452.5,-365 446.5,-359 446.5,-353 446.5,-353 446.5,-309 446.5,-309 446.5,-303 452.5,-297 458.5,-297 458.5,-297 574.5,-297 574.5,-297 580.5,-297 586.5,-303 586.5,-309 586.5,-309 586.5,-353 586.5,-353 586.5,-359 580.5,-365 574.5,-365\"/>\n<text text-anchor=\"start\" x=\"476.5\" y=\"-349.8\" font-family=\"Helvetica,sans-Serif\" font-size=\"14.00\">tenure ≤ 16.5</text>\n<text text-anchor=\"start\" x=\"484.5\" y=\"-334.8\" font-family=\"Helvetica,sans-Serif\" font-size=\"14.00\">gini = 0.39</text>\n<text text-anchor=\"start\" x=\"468\" y=\"-319.8\" font-family=\"Helvetica,sans-Serif\" font-size=\"14.00\">samples = 3937</text>\n<text text-anchor=\"start\" x=\"454.5\" y=\"-304.8\" font-family=\"Helvetica,sans-Serif\" font-size=\"14.00\">value = [2891, 1046]</text>\n</g>\n<!-- 1 -->\n<g id=\"node2\" class=\"node\">\n<title>1</title>\n<path fill=\"#fbeee4\" stroke=\"black\" d=\"M465.5,-261C465.5,-261 313.5,-261 313.5,-261 307.5,-261 301.5,-255 301.5,-249 301.5,-249 301.5,-205 301.5,-205 301.5,-199 307.5,-193 313.5,-193 313.5,-193 465.5,-193 465.5,-193 471.5,-193 477.5,-199 477.5,-205 477.5,-205 477.5,-249 477.5,-249 477.5,-255 471.5,-261 465.5,-261\"/>\n<text text-anchor=\"start\" x=\"309.5\" y=\"-245.8\" font-family=\"Helvetica,sans-Serif\" font-size=\"14.00\">monthly_charges ≤ 69.175</text>\n<text text-anchor=\"start\" x=\"354\" y=\"-230.8\" font-family=\"Helvetica,sans-Serif\" font-size=\"14.00\">gini = 0.497</text>\n<text text-anchor=\"start\" x=\"341\" y=\"-215.8\" font-family=\"Helvetica,sans-Serif\" font-size=\"14.00\">samples = 1419</text>\n<text text-anchor=\"start\" x=\"335\" y=\"-200.8\" font-family=\"Helvetica,sans-Serif\" font-size=\"14.00\">value = [762, 657]</text>\n</g>\n<!-- 0&#45;&gt;1 -->\n<g id=\"edge1\" class=\"edge\">\n<title>0&#45;&gt;1</title>\n<path fill=\"none\" stroke=\"black\" d=\"M475.27,-296.88C463.62,-287.53 450.83,-277.26 438.77,-267.57\"/>\n<polygon fill=\"black\" stroke=\"black\" points=\"440.95,-264.83 430.96,-261.3 436.57,-270.29 440.95,-264.83\"/>\n<text text-anchor=\"middle\" x=\"433.67\" y=\"-282.45\" font-family=\"Helvetica,sans-Serif\" font-size=\"14.00\">True</text>\n</g>\n<!-- 8 -->\n<g id=\"node9\" class=\"node\">\n<title>8</title>\n<path fill=\"#ea985d\" stroke=\"black\" d=\"M741.5,-261C741.5,-261 589.5,-261 589.5,-261 583.5,-261 577.5,-255 577.5,-249 577.5,-249 577.5,-205 577.5,-205 577.5,-199 583.5,-193 589.5,-193 589.5,-193 741.5,-193 741.5,-193 747.5,-193 753.5,-199 753.5,-205 753.5,-205 753.5,-249 753.5,-249 753.5,-255 747.5,-261 741.5,-261\"/>\n<text text-anchor=\"start\" x=\"585.5\" y=\"-245.8\" font-family=\"Helvetica,sans-Serif\" font-size=\"14.00\">monthly_charges ≤ 73.825</text>\n<text text-anchor=\"start\" x=\"630\" y=\"-230.8\" font-family=\"Helvetica,sans-Serif\" font-size=\"14.00\">gini = 0.261</text>\n<text text-anchor=\"start\" x=\"617\" y=\"-215.8\" font-family=\"Helvetica,sans-Serif\" font-size=\"14.00\">samples = 2518</text>\n<text text-anchor=\"start\" x=\"607.5\" y=\"-200.8\" font-family=\"Helvetica,sans-Serif\" font-size=\"14.00\">value = [2129, 389]</text>\n</g>\n<!-- 0&#45;&gt;8 -->\n<g id=\"edge8\" class=\"edge\">\n<title>0&#45;&gt;8</title>\n<path fill=\"none\" stroke=\"black\" d=\"M564.88,-296.88C578.87,-287.3 594.27,-276.76 608.73,-266.86\"/>\n<polygon fill=\"black\" stroke=\"black\" points=\"610.84,-269.66 617.11,-261.12 606.88,-263.89 610.84,-269.66\"/>\n<text text-anchor=\"middle\" x=\"612.51\" y=\"-282\" font-family=\"Helvetica,sans-Serif\" font-size=\"14.00\">False</text>\n</g>\n<!-- 2 -->\n<g id=\"node3\" class=\"node\">\n<title>2</title>\n<path fill=\"#f0b58b\" stroke=\"black\" d=\"M252,-157C252,-157 151,-157 151,-157 145,-157 139,-151 139,-145 139,-145 139,-101 139,-101 139,-95 145,-89 151,-89 151,-89 252,-89 252,-89 258,-89 264,-95 264,-101 264,-101 264,-145 264,-145 264,-151 258,-157 252,-157\"/>\n<text text-anchor=\"start\" x=\"165\" y=\"-141.8\" font-family=\"Helvetica,sans-Serif\" font-size=\"14.00\">tenure ≤ 3.5</text>\n<text text-anchor=\"start\" x=\"166\" y=\"-126.8\" font-family=\"Helvetica,sans-Serif\" font-size=\"14.00\">gini = 0.413</text>\n<text text-anchor=\"start\" x=\"156.5\" y=\"-111.8\" font-family=\"Helvetica,sans-Serif\" font-size=\"14.00\">samples = 781</text>\n<text text-anchor=\"start\" x=\"147\" y=\"-96.8\" font-family=\"Helvetica,sans-Serif\" font-size=\"14.00\">value = [553, 228]</text>\n</g>\n<!-- 1&#45;&gt;2 -->\n<g id=\"edge2\" class=\"edge\">\n<title>1&#45;&gt;2</title>\n<path fill=\"none\" stroke=\"black\" d=\"M328.46,-192.88C310.23,-182.99 290.1,-172.07 271.35,-161.9\"/>\n<polygon fill=\"black\" stroke=\"black\" points=\"273.01,-158.82 262.55,-157.12 269.67,-164.97 273.01,-158.82\"/>\n</g>\n<!-- 5 -->\n<g id=\"node6\" class=\"node\">\n<title>5</title>\n<path fill=\"#99cdf2\" stroke=\"black\" d=\"M454.5,-157C454.5,-157 324.5,-157 324.5,-157 318.5,-157 312.5,-151 312.5,-145 312.5,-145 312.5,-101 312.5,-101 312.5,-95 318.5,-89 324.5,-89 324.5,-89 454.5,-89 454.5,-89 460.5,-89 466.5,-95 466.5,-101 466.5,-101 466.5,-145 466.5,-145 466.5,-151 460.5,-157 454.5,-157\"/>\n<text text-anchor=\"start\" x=\"320.5\" y=\"-141.8\" font-family=\"Helvetica,sans-Serif\" font-size=\"14.00\">total_charges ≤ 110.25</text>\n<text text-anchor=\"start\" x=\"354\" y=\"-126.8\" font-family=\"Helvetica,sans-Serif\" font-size=\"14.00\">gini = 0.441</text>\n<text text-anchor=\"start\" x=\"344.5\" y=\"-111.8\" font-family=\"Helvetica,sans-Serif\" font-size=\"14.00\">samples = 638</text>\n<text text-anchor=\"start\" x=\"335\" y=\"-96.8\" font-family=\"Helvetica,sans-Serif\" font-size=\"14.00\">value = [209, 429]</text>\n</g>\n<!-- 1&#45;&gt;5 -->\n<g id=\"edge5\" class=\"edge\">\n<title>1&#45;&gt;5</title>\n<path fill=\"none\" stroke=\"black\" d=\"M389.5,-192.88C389.5,-184.78 389.5,-175.98 389.5,-167.47\"/>\n<polygon fill=\"black\" stroke=\"black\" points=\"393,-167.3 389.5,-157.3 386,-167.3 393,-167.3\"/>\n</g>\n<!-- 3 -->\n<g id=\"node4\" class=\"node\">\n<title>3</title>\n<path fill=\"#f8dbc7\" stroke=\"black\" d=\"M113,-53C113,-53 12,-53 12,-53 6,-53 0,-47 0,-41 0,-41 0,-12 0,-12 0,-6 6,0 12,0 12,0 113,0 113,0 119,0 125,-6 125,-12 125,-12 125,-41 125,-41 125,-47 119,-53 113,-53\"/>\n<text text-anchor=\"start\" x=\"27\" y=\"-37.8\" font-family=\"Helvetica,sans-Serif\" font-size=\"14.00\">gini = 0.486</text>\n<text text-anchor=\"start\" x=\"17.5\" y=\"-22.8\" font-family=\"Helvetica,sans-Serif\" font-size=\"14.00\">samples = 343</text>\n<text text-anchor=\"start\" x=\"8\" y=\"-7.8\" font-family=\"Helvetica,sans-Serif\" font-size=\"14.00\">value = [200, 143]</text>\n</g>\n<!-- 2&#45;&gt;3 -->\n<g id=\"edge3\" class=\"edge\">\n<title>2&#45;&gt;3</title>\n<path fill=\"none\" stroke=\"black\" d=\"M152.88,-88.95C138.62,-79.25 123.06,-68.68 108.94,-59.07\"/>\n<polygon fill=\"black\" stroke=\"black\" points=\"110.59,-55.96 100.36,-53.24 106.66,-61.75 110.59,-55.96\"/>\n</g>\n<!-- 4 -->\n<g id=\"node5\" class=\"node\">\n<title>4</title>\n<path fill=\"#eb9f69\" stroke=\"black\" d=\"M248,-53C248,-53 155,-53 155,-53 149,-53 143,-47 143,-41 143,-41 143,-12 143,-12 143,-6 149,0 155,0 155,0 248,0 248,0 254,0 260,-6 260,-12 260,-12 260,-41 260,-41 260,-47 254,-53 248,-53\"/>\n<text text-anchor=\"start\" x=\"166\" y=\"-37.8\" font-family=\"Helvetica,sans-Serif\" font-size=\"14.00\">gini = 0.313</text>\n<text text-anchor=\"start\" x=\"156.5\" y=\"-22.8\" font-family=\"Helvetica,sans-Serif\" font-size=\"14.00\">samples = 438</text>\n<text text-anchor=\"start\" x=\"151\" y=\"-7.8\" font-family=\"Helvetica,sans-Serif\" font-size=\"14.00\">value = [353, 85]</text>\n</g>\n<!-- 2&#45;&gt;4 -->\n<g id=\"edge4\" class=\"edge\">\n<title>2&#45;&gt;4</title>\n<path fill=\"none\" stroke=\"black\" d=\"M201.5,-88.95C201.5,-80.72 201.5,-71.85 201.5,-63.48\"/>\n<polygon fill=\"black\" stroke=\"black\" points=\"205,-63.24 201.5,-53.24 198,-63.24 205,-63.24\"/>\n</g>\n<!-- 6 -->\n<g id=\"node7\" class=\"node\">\n<title>6</title>\n<path fill=\"#5aade9\" stroke=\"black\" d=\"M383,-53C383,-53 290,-53 290,-53 284,-53 278,-47 278,-41 278,-41 278,-12 278,-12 278,-6 284,0 290,0 290,0 383,0 383,0 389,0 395,-6 395,-12 395,-12 395,-41 395,-41 395,-47 389,-53 383,-53\"/>\n<text text-anchor=\"start\" x=\"301\" y=\"-37.8\" font-family=\"Helvetica,sans-Serif\" font-size=\"14.00\">gini = 0.243</text>\n<text text-anchor=\"start\" x=\"291.5\" y=\"-22.8\" font-family=\"Helvetica,sans-Serif\" font-size=\"14.00\">samples = 134</text>\n<text text-anchor=\"start\" x=\"286\" y=\"-7.8\" font-family=\"Helvetica,sans-Serif\" font-size=\"14.00\">value = [19, 115]</text>\n</g>\n<!-- 5&#45;&gt;6 -->\n<g id=\"edge6\" class=\"edge\">\n<title>5&#45;&gt;6</title>\n<path fill=\"none\" stroke=\"black\" d=\"M370.96,-88.95C366.09,-80.26 360.82,-70.86 355.9,-62.09\"/>\n<polygon fill=\"black\" stroke=\"black\" points=\"358.88,-60.25 350.93,-53.24 352.77,-63.67 358.88,-60.25\"/>\n</g>\n<!-- 7 -->\n<g id=\"node8\" class=\"node\">\n<title>7</title>\n<path fill=\"#b1d8f5\" stroke=\"black\" d=\"M526,-53C526,-53 425,-53 425,-53 419,-53 413,-47 413,-41 413,-41 413,-12 413,-12 413,-6 419,0 425,0 425,0 526,0 526,0 532,0 538,-6 538,-12 538,-12 538,-41 538,-41 538,-47 532,-53 526,-53\"/>\n<text text-anchor=\"start\" x=\"443.5\" y=\"-37.8\" font-family=\"Helvetica,sans-Serif\" font-size=\"14.00\">gini = 0.47</text>\n<text text-anchor=\"start\" x=\"430.5\" y=\"-22.8\" font-family=\"Helvetica,sans-Serif\" font-size=\"14.00\">samples = 504</text>\n<text text-anchor=\"start\" x=\"421\" y=\"-7.8\" font-family=\"Helvetica,sans-Serif\" font-size=\"14.00\">value = [190, 314]</text>\n</g>\n<!-- 5&#45;&gt;7 -->\n<g id=\"edge7\" class=\"edge\">\n<title>5&#45;&gt;7</title>\n<path fill=\"none\" stroke=\"black\" d=\"M419.58,-88.95C427.9,-79.8 436.94,-69.87 445.27,-60.71\"/>\n<polygon fill=\"black\" stroke=\"black\" points=\"447.94,-62.99 452.08,-53.24 442.76,-58.28 447.94,-62.99\"/>\n</g>\n<!-- 9 -->\n<g id=\"node10\" class=\"node\">\n<title>9</title>\n<path fill=\"#e78a47\" stroke=\"black\" d=\"M741.5,-157C741.5,-157 589.5,-157 589.5,-157 583.5,-157 577.5,-151 577.5,-145 577.5,-145 577.5,-101 577.5,-101 577.5,-95 583.5,-89 589.5,-89 589.5,-89 741.5,-89 741.5,-89 747.5,-89 753.5,-95 753.5,-101 753.5,-101 753.5,-145 753.5,-145 753.5,-151 747.5,-157 741.5,-157\"/>\n<text text-anchor=\"start\" x=\"585.5\" y=\"-141.8\" font-family=\"Helvetica,sans-Serif\" font-size=\"14.00\">monthly_charges ≤ 30.075</text>\n<text text-anchor=\"start\" x=\"630\" y=\"-126.8\" font-family=\"Helvetica,sans-Serif\" font-size=\"14.00\">gini = 0.123</text>\n<text text-anchor=\"start\" x=\"617\" y=\"-111.8\" font-family=\"Helvetica,sans-Serif\" font-size=\"14.00\">samples = 1170</text>\n<text text-anchor=\"start\" x=\"611\" y=\"-96.8\" font-family=\"Helvetica,sans-Serif\" font-size=\"14.00\">value = [1093, 77]</text>\n</g>\n<!-- 8&#45;&gt;9 -->\n<g id=\"edge9\" class=\"edge\">\n<title>8&#45;&gt;9</title>\n<path fill=\"none\" stroke=\"black\" d=\"M665.5,-192.88C665.5,-184.78 665.5,-175.98 665.5,-167.47\"/>\n<polygon fill=\"black\" stroke=\"black\" points=\"669,-167.3 665.5,-157.3 662,-167.3 669,-167.3\"/>\n</g>\n<!-- 12 -->\n<g id=\"node13\" class=\"node\">\n<title>12</title>\n<path fill=\"#eda775\" stroke=\"black\" d=\"M942.5,-157C942.5,-157 834.5,-157 834.5,-157 828.5,-157 822.5,-151 822.5,-145 822.5,-145 822.5,-101 822.5,-101 822.5,-95 828.5,-89 834.5,-89 834.5,-89 942.5,-89 942.5,-89 948.5,-89 954.5,-95 954.5,-101 954.5,-101 954.5,-145 954.5,-145 954.5,-151 948.5,-157 942.5,-157\"/>\n<text text-anchor=\"start\" x=\"848.5\" y=\"-141.8\" font-family=\"Helvetica,sans-Serif\" font-size=\"14.00\">tenure ≤ 50.5</text>\n<text text-anchor=\"start\" x=\"853\" y=\"-126.8\" font-family=\"Helvetica,sans-Serif\" font-size=\"14.00\">gini = 0.356</text>\n<text text-anchor=\"start\" x=\"840\" y=\"-111.8\" font-family=\"Helvetica,sans-Serif\" font-size=\"14.00\">samples = 1348</text>\n<text text-anchor=\"start\" x=\"830.5\" y=\"-96.8\" font-family=\"Helvetica,sans-Serif\" font-size=\"14.00\">value = [1036, 312]</text>\n</g>\n<!-- 8&#45;&gt;12 -->\n<g id=\"edge12\" class=\"edge\">\n<title>8&#45;&gt;12</title>\n<path fill=\"none\" stroke=\"black\" d=\"M737.9,-192.88C762.03,-181.85 788.97,-169.53 813.31,-158.39\"/>\n<polygon fill=\"black\" stroke=\"black\" points=\"814.86,-161.53 822.5,-154.19 811.95,-155.17 814.86,-161.53\"/>\n</g>\n<!-- 10 -->\n<g id=\"node11\" class=\"node\">\n<title>10</title>\n<path fill=\"#e6843d\" stroke=\"black\" d=\"M661,-53C661,-53 568,-53 568,-53 562,-53 556,-47 556,-41 556,-41 556,-12 556,-12 556,-6 562,0 568,0 568,0 661,0 661,0 667,0 673,-6 673,-12 673,-12 673,-41 673,-41 673,-47 667,-53 661,-53\"/>\n<text text-anchor=\"start\" x=\"582.5\" y=\"-37.8\" font-family=\"Helvetica,sans-Serif\" font-size=\"14.00\">gini = 0.04</text>\n<text text-anchor=\"start\" x=\"569.5\" y=\"-22.8\" font-family=\"Helvetica,sans-Serif\" font-size=\"14.00\">samples = 537</text>\n<text text-anchor=\"start\" x=\"564\" y=\"-7.8\" font-family=\"Helvetica,sans-Serif\" font-size=\"14.00\">value = [526, 11]</text>\n</g>\n<!-- 9&#45;&gt;10 -->\n<g id=\"edge10\" class=\"edge\">\n<title>9&#45;&gt;10</title>\n<path fill=\"none\" stroke=\"black\" d=\"M647.66,-88.95C642.97,-80.26 637.9,-70.86 633.17,-62.09\"/>\n<polygon fill=\"black\" stroke=\"black\" points=\"636.22,-60.37 628.39,-53.24 630.06,-63.7 636.22,-60.37\"/>\n</g>\n<!-- 11 -->\n<g id=\"node12\" class=\"node\">\n<title>11</title>\n<path fill=\"#e89050\" stroke=\"black\" d=\"M796,-53C796,-53 703,-53 703,-53 697,-53 691,-47 691,-41 691,-41 691,-12 691,-12 691,-6 697,0 703,0 703,0 796,0 796,0 802,0 808,-6 808,-12 808,-12 808,-41 808,-41 808,-47 802,-53 796,-53\"/>\n<text text-anchor=\"start\" x=\"714\" y=\"-37.8\" font-family=\"Helvetica,sans-Serif\" font-size=\"14.00\">gini = 0.187</text>\n<text text-anchor=\"start\" x=\"704.5\" y=\"-22.8\" font-family=\"Helvetica,sans-Serif\" font-size=\"14.00\">samples = 633</text>\n<text text-anchor=\"start\" x=\"699\" y=\"-7.8\" font-family=\"Helvetica,sans-Serif\" font-size=\"14.00\">value = [567, 66]</text>\n</g>\n<!-- 9&#45;&gt;11 -->\n<g id=\"edge11\" class=\"edge\">\n<title>9&#45;&gt;11</title>\n<path fill=\"none\" stroke=\"black\" d=\"M694.88,-88.95C703.01,-79.8 711.84,-69.87 719.98,-60.71\"/>\n<polygon fill=\"black\" stroke=\"black\" points=\"722.6,-63.04 726.62,-53.24 717.36,-58.39 722.6,-63.04\"/>\n</g>\n<!-- 13 -->\n<g id=\"node14\" class=\"node\">\n<title>13</title>\n<path fill=\"#f3c5a5\" stroke=\"black\" d=\"M939,-53C939,-53 838,-53 838,-53 832,-53 826,-47 826,-41 826,-41 826,-12 826,-12 826,-6 832,0 838,0 838,0 939,0 939,0 945,0 951,-6 951,-12 951,-12 951,-41 951,-41 951,-47 945,-53 939,-53\"/>\n<text text-anchor=\"start\" x=\"853\" y=\"-37.8\" font-family=\"Helvetica,sans-Serif\" font-size=\"14.00\">gini = 0.456</text>\n<text text-anchor=\"start\" x=\"843.5\" y=\"-22.8\" font-family=\"Helvetica,sans-Serif\" font-size=\"14.00\">samples = 642</text>\n<text text-anchor=\"start\" x=\"834\" y=\"-7.8\" font-family=\"Helvetica,sans-Serif\" font-size=\"14.00\">value = [416, 226]</text>\n</g>\n<!-- 12&#45;&gt;13 -->\n<g id=\"edge13\" class=\"edge\">\n<title>12&#45;&gt;13</title>\n<path fill=\"none\" stroke=\"black\" d=\"M888.5,-88.95C888.5,-80.72 888.5,-71.85 888.5,-63.48\"/>\n<polygon fill=\"black\" stroke=\"black\" points=\"892,-63.24 888.5,-53.24 885,-63.24 892,-63.24\"/>\n</g>\n<!-- 14 -->\n<g id=\"node15\" class=\"node\">\n<title>14</title>\n<path fill=\"#e99254\" stroke=\"black\" d=\"M1074,-53C1074,-53 981,-53 981,-53 975,-53 969,-47 969,-41 969,-41 969,-12 969,-12 969,-6 975,0 981,0 981,0 1074,0 1074,0 1080,0 1086,-6 1086,-12 1086,-12 1086,-41 1086,-41 1086,-47 1080,-53 1074,-53\"/>\n<text text-anchor=\"start\" x=\"992\" y=\"-37.8\" font-family=\"Helvetica,sans-Serif\" font-size=\"14.00\">gini = 0.214</text>\n<text text-anchor=\"start\" x=\"982.5\" y=\"-22.8\" font-family=\"Helvetica,sans-Serif\" font-size=\"14.00\">samples = 706</text>\n<text text-anchor=\"start\" x=\"977\" y=\"-7.8\" font-family=\"Helvetica,sans-Serif\" font-size=\"14.00\">value = [620, 86]</text>\n</g>\n<!-- 12&#45;&gt;14 -->\n<g id=\"edge14\" class=\"edge\">\n<title>12&#45;&gt;14</title>\n<path fill=\"none\" stroke=\"black\" d=\"M937.12,-88.95C951.38,-79.25 966.94,-68.68 981.06,-59.07\"/>\n<polygon fill=\"black\" stroke=\"black\" points=\"983.34,-61.75 989.64,-53.24 979.41,-55.96 983.34,-61.75\"/>\n</g>\n</g>\n</svg>\n",
      "text/plain": [
       "<graphviz.sources.Source at 0x7faeba3a4b80>"
      ]
     },
     "execution_count": 89,
     "metadata": {},
     "output_type": "execute_result"
    }
   ],
   "source": [
    "telco_tree5_data = export_graphviz(telco_tree5, out_file=None, feature_names=X_train_paperless.columns, filled=True, rounded=True, special_characters=True)\n",
    "telco_tree5_graph = graphviz.Source(telco_tree5_data)\n",
    "telco_tree5_graph"
   ]
  },
  {
   "cell_type": "markdown",
   "metadata": {},
   "source": [
    "Random Forest Classifiers"
   ]
  },
  {
   "cell_type": "code",
   "execution_count": 91,
   "metadata": {},
   "outputs": [
    {
     "data": {
      "text/plain": [
       "array([[0.92304378, 0.07695622],\n",
       "       [0.96510495, 0.03489505],\n",
       "       [0.63634117, 0.36365883],\n",
       "       ...,\n",
       "       [0.96988754, 0.03011246],\n",
       "       [0.81867366, 0.18132634],\n",
       "       [0.89265734, 0.10734266]])"
      ]
     },
     "execution_count": 91,
     "metadata": {},
     "output_type": "execute_result"
    }
   ],
   "source": [
    "telco_rf1 = RandomForestClassifier(n_estimators=100, max_depth=5, random_state=302)\n",
    "telco_rf1.fit(X_train, y_train)\n",
    "\n",
    "rf1_pred = telco_rf1.predict(X_train)\n",
    "rf1_prob = telco_rf1.predict_proba(X_train)\n",
    "\n",
    "rf1_prob"
   ]
  },
  {
   "cell_type": "code",
   "execution_count": 92,
   "metadata": {},
   "outputs": [
    {
     "name": "stdout",
     "output_type": "stream",
     "text": [
      "Accuracy score for Random Forest 1: 0.8036576073152146\n",
      "Confusion matrix for Random Forest 1:\n",
      "[[2701  190]\n",
      " [ 583  463]]\n",
      "Classification report for Random Forest 1:\n",
      "              precision    recall  f1-score   support\n",
      "\n",
      "           0       0.82      0.93      0.87      2891\n",
      "           1       0.71      0.44      0.55      1046\n",
      "\n",
      "    accuracy                           0.80      3937\n",
      "   macro avg       0.77      0.69      0.71      3937\n",
      "weighted avg       0.79      0.80      0.79      3937\n",
      "\n"
     ]
    }
   ],
   "source": [
    "print(f'Accuracy score for Random Forest 1: {telco_rf1.score(X_train, y_train)}')\n",
    "print(f'Confusion matrix for Random Forest 1:\\n{confusion_matrix(y_train, rf1_pred)}')\n",
    "print(f'Classification report for Random Forest 1:\\n{classification_report(y_train, rf1_pred)}')"
   ]
  },
  {
   "cell_type": "code",
   "execution_count": 93,
   "metadata": {},
   "outputs": [
    {
     "data": {
      "image/svg+xml": "<?xml version=\"1.0\" encoding=\"UTF-8\" standalone=\"no\"?>\n<!DOCTYPE svg PUBLIC \"-//W3C//DTD SVG 1.1//EN\"\n \"http://www.w3.org/Graphics/SVG/1.1/DTD/svg11.dtd\">\n<!-- Generated by graphviz version 2.50.0 (20211204.2007)\n -->\n<!-- Title: Tree Pages: 1 -->\n<svg width=\"3551pt\" height=\"581pt\"\n viewBox=\"0.00 0.00 3550.50 581.00\" xmlns=\"http://www.w3.org/2000/svg\" xmlns:xlink=\"http://www.w3.org/1999/xlink\">\n<g id=\"graph0\" class=\"graph\" transform=\"scale(1 1) rotate(0) translate(4 577)\">\n<title>Tree</title>\n<polygon fill=\"white\" stroke=\"transparent\" points=\"-4,4 -4,-577 3546.5,-577 3546.5,4 -4,4\"/>\n<!-- 0 -->\n<g id=\"node1\" class=\"node\">\n<title>0</title>\n<path fill=\"#eeae80\" stroke=\"black\" d=\"M1851,-573C1851,-573 1721,-573 1721,-573 1715,-573 1709,-567 1709,-561 1709,-561 1709,-517 1709,-517 1709,-511 1715,-505 1721,-505 1721,-505 1851,-505 1851,-505 1857,-505 1863,-511 1863,-517 1863,-517 1863,-561 1863,-561 1863,-567 1857,-573 1851,-573\"/>\n<text text-anchor=\"start\" x=\"1717\" y=\"-557.8\" font-family=\"Helvetica,sans-Serif\" font-size=\"14.00\">payment_type_id ≤ 1.5</text>\n<text text-anchor=\"start\" x=\"1750.5\" y=\"-542.8\" font-family=\"Helvetica,sans-Serif\" font-size=\"14.00\">gini = 0.389</text>\n<text text-anchor=\"start\" x=\"1737.5\" y=\"-527.8\" font-family=\"Helvetica,sans-Serif\" font-size=\"14.00\">samples = 2498</text>\n<text text-anchor=\"start\" x=\"1724\" y=\"-512.8\" font-family=\"Helvetica,sans-Serif\" font-size=\"14.00\">value = [2895, 1042]</text>\n</g>\n<!-- 1 -->\n<g id=\"node2\" class=\"node\">\n<title>1</title>\n<path fill=\"#fcf0e7\" stroke=\"black\" d=\"M1315,-469C1315,-469 1157,-469 1157,-469 1151,-469 1145,-463 1145,-457 1145,-457 1145,-413 1145,-413 1145,-407 1151,-401 1157,-401 1157,-401 1315,-401 1315,-401 1321,-401 1327,-407 1327,-413 1327,-413 1327,-457 1327,-457 1327,-463 1321,-469 1315,-469\"/>\n<text text-anchor=\"start\" x=\"1153\" y=\"-453.8\" font-family=\"Helvetica,sans-Serif\" font-size=\"14.00\">paperless_billing_Yes ≤ 0.5</text>\n<text text-anchor=\"start\" x=\"1200.5\" y=\"-438.8\" font-family=\"Helvetica,sans-Serif\" font-size=\"14.00\">gini = 0.498</text>\n<text text-anchor=\"start\" x=\"1191\" y=\"-423.8\" font-family=\"Helvetica,sans-Serif\" font-size=\"14.00\">samples = 801</text>\n<text text-anchor=\"start\" x=\"1181.5\" y=\"-408.8\" font-family=\"Helvetica,sans-Serif\" font-size=\"14.00\">value = [666, 586]</text>\n</g>\n<!-- 0&#45;&gt;1 -->\n<g id=\"edge1\" class=\"edge\">\n<title>0&#45;&gt;1</title>\n<path fill=\"none\" stroke=\"black\" d=\"M1708.95,-523.71C1611.76,-505.69 1444.4,-474.65 1337.05,-454.74\"/>\n<polygon fill=\"black\" stroke=\"black\" points=\"1337.64,-451.29 1327.17,-452.91 1336.37,-458.17 1337.64,-451.29\"/>\n<text text-anchor=\"middle\" x=\"1341.33\" y=\"-469.81\" font-family=\"Helvetica,sans-Serif\" font-size=\"14.00\">True</text>\n</g>\n<!-- 30 -->\n<g id=\"node31\" class=\"node\">\n<title>30</title>\n<path fill=\"#ea9b62\" stroke=\"black\" d=\"M2326.5,-469C2326.5,-469 2201.5,-469 2201.5,-469 2195.5,-469 2189.5,-463 2189.5,-457 2189.5,-457 2189.5,-413 2189.5,-413 2189.5,-407 2195.5,-401 2201.5,-401 2201.5,-401 2326.5,-401 2326.5,-401 2332.5,-401 2338.5,-407 2338.5,-413 2338.5,-413 2338.5,-457 2338.5,-457 2338.5,-463 2332.5,-469 2326.5,-469\"/>\n<text text-anchor=\"start\" x=\"2197.5\" y=\"-453.8\" font-family=\"Helvetica,sans-Serif\" font-size=\"14.00\">contract_type_id ≤ 1.5</text>\n<text text-anchor=\"start\" x=\"2228.5\" y=\"-438.8\" font-family=\"Helvetica,sans-Serif\" font-size=\"14.00\">gini = 0.282</text>\n<text text-anchor=\"start\" x=\"2215.5\" y=\"-423.8\" font-family=\"Helvetica,sans-Serif\" font-size=\"14.00\">samples = 1697</text>\n<text text-anchor=\"start\" x=\"2206\" y=\"-408.8\" font-family=\"Helvetica,sans-Serif\" font-size=\"14.00\">value = [2229, 456]</text>\n</g>\n<!-- 0&#45;&gt;30 -->\n<g id=\"edge30\" class=\"edge\">\n<title>0&#45;&gt;30</title>\n<path fill=\"none\" stroke=\"black\" d=\"M1863.06,-521.56C1949.73,-503.06 2090.03,-473.12 2179.59,-454.01\"/>\n<polygon fill=\"black\" stroke=\"black\" points=\"2180.4,-457.42 2189.45,-451.91 2178.94,-450.57 2180.4,-457.42\"/>\n<text text-anchor=\"middle\" x=\"2175.85\" y=\"-469.19\" font-family=\"Helvetica,sans-Serif\" font-size=\"14.00\">False</text>\n</g>\n<!-- 2 -->\n<g id=\"node3\" class=\"node\">\n<title>2</title>\n<path fill=\"#f2be99\" stroke=\"black\" d=\"M605.5,-365C605.5,-365 442.5,-365 442.5,-365 436.5,-365 430.5,-359 430.5,-353 430.5,-353 430.5,-309 430.5,-309 430.5,-303 436.5,-297 442.5,-297 442.5,-297 605.5,-297 605.5,-297 611.5,-297 617.5,-303 617.5,-309 617.5,-309 617.5,-353 617.5,-353 617.5,-359 611.5,-365 605.5,-365\"/>\n<text text-anchor=\"start\" x=\"438.5\" y=\"-349.8\" font-family=\"Helvetica,sans-Serif\" font-size=\"14.00\">device_protection_Yes ≤ 0.5</text>\n<text text-anchor=\"start\" x=\"492\" y=\"-334.8\" font-family=\"Helvetica,sans-Serif\" font-size=\"14.00\">gini = 0.44</text>\n<text text-anchor=\"start\" x=\"479\" y=\"-319.8\" font-family=\"Helvetica,sans-Serif\" font-size=\"14.00\">samples = 198</text>\n<text text-anchor=\"start\" x=\"469.5\" y=\"-304.8\" font-family=\"Helvetica,sans-Serif\" font-size=\"14.00\">value = [220, 107]</text>\n</g>\n<!-- 1&#45;&gt;2 -->\n<g id=\"edge2\" class=\"edge\">\n<title>1&#45;&gt;2</title>\n<path fill=\"none\" stroke=\"black\" d=\"M1144.74,-420.93C1012.22,-401.94 767.18,-366.84 627.9,-346.88\"/>\n<polygon fill=\"black\" stroke=\"black\" points=\"628.04,-343.37 617.64,-345.41 627.04,-350.3 628.04,-343.37\"/>\n</g>\n<!-- 15 -->\n<g id=\"node16\" class=\"node\">\n<title>15</title>\n<path fill=\"#f1f8fd\" stroke=\"black\" d=\"M1297,-365C1297,-365 1175,-365 1175,-365 1169,-365 1163,-359 1163,-353 1163,-353 1163,-309 1163,-309 1163,-303 1169,-297 1175,-297 1175,-297 1297,-297 1297,-297 1303,-297 1309,-303 1309,-309 1309,-309 1309,-353 1309,-353 1309,-359 1303,-365 1297,-365\"/>\n<text text-anchor=\"start\" x=\"1171\" y=\"-349.8\" font-family=\"Helvetica,sans-Serif\" font-size=\"14.00\">total_charges ≤ 656.6</text>\n<text text-anchor=\"start\" x=\"1200.5\" y=\"-334.8\" font-family=\"Helvetica,sans-Serif\" font-size=\"14.00\">gini = 0.499</text>\n<text text-anchor=\"start\" x=\"1191\" y=\"-319.8\" font-family=\"Helvetica,sans-Serif\" font-size=\"14.00\">samples = 603</text>\n<text text-anchor=\"start\" x=\"1181.5\" y=\"-304.8\" font-family=\"Helvetica,sans-Serif\" font-size=\"14.00\">value = [446, 479]</text>\n</g>\n<!-- 1&#45;&gt;15 -->\n<g id=\"edge15\" class=\"edge\">\n<title>1&#45;&gt;15</title>\n<path fill=\"none\" stroke=\"black\" d=\"M1236,-400.88C1236,-392.78 1236,-383.98 1236,-375.47\"/>\n<polygon fill=\"black\" stroke=\"black\" points=\"1239.5,-375.3 1236,-365.3 1232.5,-375.3 1239.5,-375.3\"/>\n</g>\n<!-- 3 -->\n<g id=\"node4\" class=\"node\">\n<title>3</title>\n<path fill=\"#f5ceb2\" stroke=\"black\" d=\"M284,-261C284,-261 132,-261 132,-261 126,-261 120,-255 120,-249 120,-249 120,-205 120,-205 120,-199 126,-193 132,-193 132,-193 284,-193 284,-193 290,-193 296,-199 296,-205 296,-205 296,-249 296,-249 296,-255 290,-261 284,-261\"/>\n<text text-anchor=\"start\" x=\"128\" y=\"-245.8\" font-family=\"Helvetica,sans-Serif\" font-size=\"14.00\">monthly_charges ≤ 24.575</text>\n<text text-anchor=\"start\" x=\"172.5\" y=\"-230.8\" font-family=\"Helvetica,sans-Serif\" font-size=\"14.00\">gini = 0.471</text>\n<text text-anchor=\"start\" x=\"163\" y=\"-215.8\" font-family=\"Helvetica,sans-Serif\" font-size=\"14.00\">samples = 136</text>\n<text text-anchor=\"start\" x=\"157.5\" y=\"-200.8\" font-family=\"Helvetica,sans-Serif\" font-size=\"14.00\">value = [142, 87]</text>\n</g>\n<!-- 2&#45;&gt;3 -->\n<g id=\"edge3\" class=\"edge\">\n<title>2&#45;&gt;3</title>\n<path fill=\"none\" stroke=\"black\" d=\"M430.47,-299.81C391.21,-287.14 345.55,-272.4 305.84,-259.58\"/>\n<polygon fill=\"black\" stroke=\"black\" points=\"306.73,-256.19 296.14,-256.45 304.58,-262.85 306.73,-256.19\"/>\n</g>\n<!-- 8 -->\n<g id=\"node9\" class=\"node\">\n<title>8</title>\n<path fill=\"#eca16c\" stroke=\"black\" d=\"M574,-261C574,-261 474,-261 474,-261 468,-261 462,-255 462,-249 462,-249 462,-205 462,-205 462,-199 468,-193 474,-193 474,-193 574,-193 574,-193 580,-193 586,-199 586,-205 586,-205 586,-249 586,-249 586,-255 580,-261 574,-261\"/>\n<text text-anchor=\"start\" x=\"470\" y=\"-245.8\" font-family=\"Helvetica,sans-Serif\" font-size=\"14.00\">partner_Yes ≤ 0.5</text>\n<text text-anchor=\"start\" x=\"488.5\" y=\"-230.8\" font-family=\"Helvetica,sans-Serif\" font-size=\"14.00\">gini = 0.325</text>\n<text text-anchor=\"start\" x=\"483\" y=\"-215.8\" font-family=\"Helvetica,sans-Serif\" font-size=\"14.00\">samples = 62</text>\n<text text-anchor=\"start\" x=\"477\" y=\"-200.8\" font-family=\"Helvetica,sans-Serif\" font-size=\"14.00\">value = [78, 20]</text>\n</g>\n<!-- 2&#45;&gt;8 -->\n<g id=\"edge8\" class=\"edge\">\n<title>2&#45;&gt;8</title>\n<path fill=\"none\" stroke=\"black\" d=\"M524,-296.88C524,-288.78 524,-279.98 524,-271.47\"/>\n<polygon fill=\"black\" stroke=\"black\" points=\"527.5,-271.3 524,-261.3 520.5,-271.3 527.5,-271.3\"/>\n</g>\n<!-- 4 -->\n<g id=\"node5\" class=\"node\">\n<title>4</title>\n<path fill=\"#e58139\" stroke=\"black\" d=\"M90,-149.5C90,-149.5 12,-149.5 12,-149.5 6,-149.5 0,-143.5 0,-137.5 0,-137.5 0,-108.5 0,-108.5 0,-102.5 6,-96.5 12,-96.5 12,-96.5 90,-96.5 90,-96.5 96,-96.5 102,-102.5 102,-108.5 102,-108.5 102,-137.5 102,-137.5 102,-143.5 96,-149.5 90,-149.5\"/>\n<text text-anchor=\"start\" x=\"23\" y=\"-134.3\" font-family=\"Helvetica,sans-Serif\" font-size=\"14.00\">gini = 0.0</text>\n<text text-anchor=\"start\" x=\"10\" y=\"-119.3\" font-family=\"Helvetica,sans-Serif\" font-size=\"14.00\">samples = 13</text>\n<text text-anchor=\"start\" x=\"8\" y=\"-104.3\" font-family=\"Helvetica,sans-Serif\" font-size=\"14.00\">value = [25, 0]</text>\n</g>\n<!-- 3&#45;&gt;4 -->\n<g id=\"edge4\" class=\"edge\">\n<title>3&#45;&gt;4</title>\n<path fill=\"none\" stroke=\"black\" d=\"M157.03,-192.88C138.32,-180.73 117.23,-167.03 98.81,-155.06\"/>\n<polygon fill=\"black\" stroke=\"black\" points=\"100.57,-152.03 90.28,-149.52 96.76,-157.9 100.57,-152.03\"/>\n</g>\n<!-- 5 -->\n<g id=\"node6\" class=\"node\">\n<title>5</title>\n<path fill=\"#f8dfcc\" stroke=\"black\" d=\"M284,-157C284,-157 132,-157 132,-157 126,-157 120,-151 120,-145 120,-145 120,-101 120,-101 120,-95 126,-89 132,-89 132,-89 284,-89 284,-89 290,-89 296,-95 296,-101 296,-101 296,-145 296,-145 296,-151 290,-157 284,-157\"/>\n<text text-anchor=\"start\" x=\"128\" y=\"-141.8\" font-family=\"Helvetica,sans-Serif\" font-size=\"14.00\">monthly_charges ≤ 29.425</text>\n<text text-anchor=\"start\" x=\"172.5\" y=\"-126.8\" font-family=\"Helvetica,sans-Serif\" font-size=\"14.00\">gini = 0.489</text>\n<text text-anchor=\"start\" x=\"163\" y=\"-111.8\" font-family=\"Helvetica,sans-Serif\" font-size=\"14.00\">samples = 123</text>\n<text text-anchor=\"start\" x=\"157.5\" y=\"-96.8\" font-family=\"Helvetica,sans-Serif\" font-size=\"14.00\">value = [117, 87]</text>\n</g>\n<!-- 3&#45;&gt;5 -->\n<g id=\"edge5\" class=\"edge\">\n<title>3&#45;&gt;5</title>\n<path fill=\"none\" stroke=\"black\" d=\"M208,-192.88C208,-184.78 208,-175.98 208,-167.47\"/>\n<polygon fill=\"black\" stroke=\"black\" points=\"211.5,-167.3 208,-157.3 204.5,-167.3 211.5,-167.3\"/>\n</g>\n<!-- 6 -->\n<g id=\"node7\" class=\"node\">\n<title>6</title>\n<path fill=\"#9ccef2\" stroke=\"black\" d=\"M119.5,-53C119.5,-53 48.5,-53 48.5,-53 42.5,-53 36.5,-47 36.5,-41 36.5,-41 36.5,-12 36.5,-12 36.5,-6 42.5,0 48.5,0 48.5,0 119.5,0 119.5,0 125.5,0 131.5,-6 131.5,-12 131.5,-12 131.5,-41 131.5,-41 131.5,-47 125.5,-53 119.5,-53\"/>\n<text text-anchor=\"start\" x=\"48.5\" y=\"-37.8\" font-family=\"Helvetica,sans-Serif\" font-size=\"14.00\">gini = 0.444</text>\n<text text-anchor=\"start\" x=\"46.5\" y=\"-22.8\" font-family=\"Helvetica,sans-Serif\" font-size=\"14.00\">samples = 7</text>\n<text text-anchor=\"start\" x=\"44.5\" y=\"-7.8\" font-family=\"Helvetica,sans-Serif\" font-size=\"14.00\">value = [4, 8]</text>\n</g>\n<!-- 5&#45;&gt;6 -->\n<g id=\"edge6\" class=\"edge\">\n<title>5&#45;&gt;6</title>\n<path fill=\"none\" stroke=\"black\" d=\"M164.63,-88.95C152.03,-79.34 138.29,-68.87 125.79,-59.34\"/>\n<polygon fill=\"black\" stroke=\"black\" points=\"127.85,-56.51 117.77,-53.24 123.6,-62.08 127.85,-56.51\"/>\n</g>\n<!-- 7 -->\n<g id=\"node8\" class=\"node\">\n<title>7</title>\n<path fill=\"#f7d9c3\" stroke=\"black\" d=\"M254.5,-53C254.5,-53 161.5,-53 161.5,-53 155.5,-53 149.5,-47 149.5,-41 149.5,-41 149.5,-12 149.5,-12 149.5,-6 155.5,0 161.5,0 161.5,0 254.5,0 254.5,0 260.5,0 266.5,-6 266.5,-12 266.5,-12 266.5,-41 266.5,-41 266.5,-47 260.5,-53 254.5,-53\"/>\n<text text-anchor=\"start\" x=\"172.5\" y=\"-37.8\" font-family=\"Helvetica,sans-Serif\" font-size=\"14.00\">gini = 0.484</text>\n<text text-anchor=\"start\" x=\"163\" y=\"-22.8\" font-family=\"Helvetica,sans-Serif\" font-size=\"14.00\">samples = 116</text>\n<text text-anchor=\"start\" x=\"157.5\" y=\"-7.8\" font-family=\"Helvetica,sans-Serif\" font-size=\"14.00\">value = [113, 79]</text>\n</g>\n<!-- 5&#45;&gt;7 -->\n<g id=\"edge7\" class=\"edge\">\n<title>5&#45;&gt;7</title>\n<path fill=\"none\" stroke=\"black\" d=\"M208,-88.95C208,-80.72 208,-71.85 208,-63.48\"/>\n<polygon fill=\"black\" stroke=\"black\" points=\"211.5,-63.24 208,-53.24 204.5,-63.24 211.5,-63.24\"/>\n</g>\n<!-- 9 -->\n<g id=\"node10\" class=\"node\">\n<title>9</title>\n<path fill=\"#eda774\" stroke=\"black\" d=\"M514.5,-157C514.5,-157 389.5,-157 389.5,-157 383.5,-157 377.5,-151 377.5,-145 377.5,-145 377.5,-101 377.5,-101 377.5,-95 383.5,-89 389.5,-89 389.5,-89 514.5,-89 514.5,-89 520.5,-89 526.5,-95 526.5,-101 526.5,-101 526.5,-145 526.5,-145 526.5,-151 520.5,-157 514.5,-157\"/>\n<text text-anchor=\"start\" x=\"385.5\" y=\"-141.8\" font-family=\"Helvetica,sans-Serif\" font-size=\"14.00\">contract_type_id ≤ 1.5</text>\n<text text-anchor=\"start\" x=\"416.5\" y=\"-126.8\" font-family=\"Helvetica,sans-Serif\" font-size=\"14.00\">gini = 0.355</text>\n<text text-anchor=\"start\" x=\"411\" y=\"-111.8\" font-family=\"Helvetica,sans-Serif\" font-size=\"14.00\">samples = 31</text>\n<text text-anchor=\"start\" x=\"405\" y=\"-96.8\" font-family=\"Helvetica,sans-Serif\" font-size=\"14.00\">value = [40, 12]</text>\n</g>\n<!-- 8&#45;&gt;9 -->\n<g id=\"edge9\" class=\"edge\">\n<title>8&#45;&gt;9</title>\n<path fill=\"none\" stroke=\"black\" d=\"M500.62,-192.88C494.46,-184.15 487.74,-174.62 481.3,-165.51\"/>\n<polygon fill=\"black\" stroke=\"black\" points=\"484.13,-163.45 475.51,-157.3 478.41,-167.49 484.13,-163.45\"/>\n</g>\n<!-- 12 -->\n<g id=\"node13\" class=\"node\">\n<title>12</title>\n<path fill=\"#ea9c63\" stroke=\"black\" d=\"M635,-157C635,-157 557,-157 557,-157 551,-157 545,-151 545,-145 545,-145 545,-101 545,-101 545,-95 551,-89 557,-89 557,-89 635,-89 635,-89 641,-89 647,-95 647,-101 647,-101 647,-145 647,-145 647,-151 641,-157 635,-157\"/>\n<text text-anchor=\"start\" x=\"556\" y=\"-141.8\" font-family=\"Helvetica,sans-Serif\" font-size=\"14.00\">tenure ≤ 54.0</text>\n<text text-anchor=\"start\" x=\"560.5\" y=\"-126.8\" font-family=\"Helvetica,sans-Serif\" font-size=\"14.00\">gini = 0.287</text>\n<text text-anchor=\"start\" x=\"555\" y=\"-111.8\" font-family=\"Helvetica,sans-Serif\" font-size=\"14.00\">samples = 31</text>\n<text text-anchor=\"start\" x=\"553\" y=\"-96.8\" font-family=\"Helvetica,sans-Serif\" font-size=\"14.00\">value = [38, 8]</text>\n</g>\n<!-- 8&#45;&gt;12 -->\n<g id=\"edge12\" class=\"edge\">\n<title>8&#45;&gt;12</title>\n<path fill=\"none\" stroke=\"black\" d=\"M547.38,-192.88C553.54,-184.15 560.26,-174.62 566.7,-165.51\"/>\n<polygon fill=\"black\" stroke=\"black\" points=\"569.59,-167.49 572.49,-157.3 563.87,-163.45 569.59,-167.49\"/>\n</g>\n<!-- 10 -->\n<g id=\"node11\" class=\"node\">\n<title>10</title>\n<path fill=\"#f0b48a\" stroke=\"black\" d=\"M383,-53C383,-53 297,-53 297,-53 291,-53 285,-47 285,-41 285,-41 285,-12 285,-12 285,-6 291,0 297,0 297,0 383,0 383,0 389,0 395,-6 395,-12 395,-12 395,-41 395,-41 395,-47 389,-53 383,-53\"/>\n<text text-anchor=\"start\" x=\"304.5\" y=\"-37.8\" font-family=\"Helvetica,sans-Serif\" font-size=\"14.00\">gini = 0.411</text>\n<text text-anchor=\"start\" x=\"299\" y=\"-22.8\" font-family=\"Helvetica,sans-Serif\" font-size=\"14.00\">samples = 22</text>\n<text text-anchor=\"start\" x=\"293\" y=\"-7.8\" font-family=\"Helvetica,sans-Serif\" font-size=\"14.00\">value = [27, 11]</text>\n</g>\n<!-- 9&#45;&gt;10 -->\n<g id=\"edge10\" class=\"edge\">\n<title>9&#45;&gt;10</title>\n<path fill=\"none\" stroke=\"black\" d=\"M412.83,-88.95C401.66,-79.53 389.51,-69.27 378.39,-59.89\"/>\n<polygon fill=\"black\" stroke=\"black\" points=\"380.4,-57.01 370.5,-53.24 375.89,-62.36 380.4,-57.01\"/>\n</g>\n<!-- 11 -->\n<g id=\"node12\" class=\"node\">\n<title>11</title>\n<path fill=\"#e78b48\" stroke=\"black\" d=\"M503,-53C503,-53 425,-53 425,-53 419,-53 413,-47 413,-41 413,-41 413,-12 413,-12 413,-6 419,0 425,0 425,0 503,0 503,0 509,0 515,-6 515,-12 515,-12 515,-41 515,-41 515,-47 509,-53 503,-53\"/>\n<text text-anchor=\"start\" x=\"428.5\" y=\"-37.8\" font-family=\"Helvetica,sans-Serif\" font-size=\"14.00\">gini = 0.133</text>\n<text text-anchor=\"start\" x=\"426.5\" y=\"-22.8\" font-family=\"Helvetica,sans-Serif\" font-size=\"14.00\">samples = 9</text>\n<text text-anchor=\"start\" x=\"421\" y=\"-7.8\" font-family=\"Helvetica,sans-Serif\" font-size=\"14.00\">value = [13, 1]</text>\n</g>\n<!-- 9&#45;&gt;11 -->\n<g id=\"edge11\" class=\"edge\">\n<title>9&#45;&gt;11</title>\n<path fill=\"none\" stroke=\"black\" d=\"M456.2,-88.95C457.25,-80.62 458.39,-71.65 459.47,-63.2\"/>\n<polygon fill=\"black\" stroke=\"black\" points=\"462.94,-63.6 460.73,-53.24 456,-62.72 462.94,-63.6\"/>\n</g>\n<!-- 13 -->\n<g id=\"node14\" class=\"node\">\n<title>13</title>\n<path fill=\"#f2c09c\" stroke=\"black\" d=\"M623,-53C623,-53 545,-53 545,-53 539,-53 533,-47 533,-41 533,-41 533,-12 533,-12 533,-6 539,0 545,0 545,0 623,0 623,0 629,0 635,-6 635,-12 635,-12 635,-41 635,-41 635,-47 629,-53 623,-53\"/>\n<text text-anchor=\"start\" x=\"548.5\" y=\"-37.8\" font-family=\"Helvetica,sans-Serif\" font-size=\"14.00\">gini = 0.444</text>\n<text text-anchor=\"start\" x=\"543\" y=\"-22.8\" font-family=\"Helvetica,sans-Serif\" font-size=\"14.00\">samples = 18</text>\n<text text-anchor=\"start\" x=\"541\" y=\"-7.8\" font-family=\"Helvetica,sans-Serif\" font-size=\"14.00\">value = [16, 8]</text>\n</g>\n<!-- 12&#45;&gt;13 -->\n<g id=\"edge13\" class=\"edge\">\n<title>12&#45;&gt;13</title>\n<path fill=\"none\" stroke=\"black\" d=\"M591.8,-88.95C590.75,-80.62 589.61,-71.65 588.53,-63.2\"/>\n<polygon fill=\"black\" stroke=\"black\" points=\"592,-62.72 587.27,-53.24 585.06,-63.6 592,-62.72\"/>\n</g>\n<!-- 14 -->\n<g id=\"node15\" class=\"node\">\n<title>14</title>\n<path fill=\"#e58139\" stroke=\"black\" d=\"M743,-53C743,-53 665,-53 665,-53 659,-53 653,-47 653,-41 653,-41 653,-12 653,-12 653,-6 659,0 665,0 665,0 743,0 743,0 749,0 755,-6 755,-12 755,-12 755,-41 755,-41 755,-47 749,-53 743,-53\"/>\n<text text-anchor=\"start\" x=\"676\" y=\"-37.8\" font-family=\"Helvetica,sans-Serif\" font-size=\"14.00\">gini = 0.0</text>\n<text text-anchor=\"start\" x=\"663\" y=\"-22.8\" font-family=\"Helvetica,sans-Serif\" font-size=\"14.00\">samples = 13</text>\n<text text-anchor=\"start\" x=\"661\" y=\"-7.8\" font-family=\"Helvetica,sans-Serif\" font-size=\"14.00\">value = [22, 0]</text>\n</g>\n<!-- 12&#45;&gt;14 -->\n<g id=\"edge14\" class=\"edge\">\n<title>12&#45;&gt;14</title>\n<path fill=\"none\" stroke=\"black\" d=\"M633.77,-88.95C644.54,-79.53 656.26,-69.27 666.98,-59.89\"/>\n<polygon fill=\"black\" stroke=\"black\" points=\"669.37,-62.46 674.59,-53.24 664.76,-57.19 669.37,-62.46\"/>\n</g>\n<!-- 16 -->\n<g id=\"node17\" class=\"node\">\n<title>16</title>\n<path fill=\"#89c4ef\" stroke=\"black\" d=\"M1236.5,-261C1236.5,-261 979.5,-261 979.5,-261 973.5,-261 967.5,-255 967.5,-249 967.5,-249 967.5,-205 967.5,-205 967.5,-199 973.5,-193 979.5,-193 979.5,-193 1236.5,-193 1236.5,-193 1242.5,-193 1248.5,-199 1248.5,-205 1248.5,-205 1248.5,-249 1248.5,-249 1248.5,-255 1242.5,-261 1236.5,-261\"/>\n<text text-anchor=\"start\" x=\"975.5\" y=\"-245.8\" font-family=\"Helvetica,sans-Serif\" font-size=\"14.00\">streaming_movies_No internet service ≤ 0.5</text>\n<text text-anchor=\"start\" x=\"1072.5\" y=\"-230.8\" font-family=\"Helvetica,sans-Serif\" font-size=\"14.00\">gini = 0.409</text>\n<text text-anchor=\"start\" x=\"1063\" y=\"-215.8\" font-family=\"Helvetica,sans-Serif\" font-size=\"14.00\">samples = 222</text>\n<text text-anchor=\"start\" x=\"1057.5\" y=\"-200.8\" font-family=\"Helvetica,sans-Serif\" font-size=\"14.00\">value = [95, 236]</text>\n</g>\n<!-- 15&#45;&gt;16 -->\n<g id=\"edge16\" class=\"edge\">\n<title>15&#45;&gt;16</title>\n<path fill=\"none\" stroke=\"black\" d=\"M1194.44,-296.88C1182.71,-287.53 1169.82,-277.26 1157.65,-267.57\"/>\n<polygon fill=\"black\" stroke=\"black\" points=\"1159.79,-264.79 1149.79,-261.3 1155.43,-270.27 1159.79,-264.79\"/>\n</g>\n<!-- 23 -->\n<g id=\"node24\" class=\"node\">\n<title>23</title>\n<path fill=\"#f7d8c2\" stroke=\"black\" d=\"M1449,-261C1449,-261 1279,-261 1279,-261 1273,-261 1267,-255 1267,-249 1267,-249 1267,-205 1267,-205 1267,-199 1273,-193 1279,-193 1279,-193 1449,-193 1449,-193 1455,-193 1461,-199 1461,-205 1461,-205 1461,-249 1461,-249 1461,-255 1455,-261 1449,-261\"/>\n<text text-anchor=\"start\" x=\"1275\" y=\"-245.8\" font-family=\"Helvetica,sans-Serif\" font-size=\"14.00\">contract_type_Two year ≤ 0.5</text>\n<text text-anchor=\"start\" x=\"1328.5\" y=\"-230.8\" font-family=\"Helvetica,sans-Serif\" font-size=\"14.00\">gini = 0.483</text>\n<text text-anchor=\"start\" x=\"1319\" y=\"-215.8\" font-family=\"Helvetica,sans-Serif\" font-size=\"14.00\">samples = 381</text>\n<text text-anchor=\"start\" x=\"1309.5\" y=\"-200.8\" font-family=\"Helvetica,sans-Serif\" font-size=\"14.00\">value = [351, 243]</text>\n</g>\n<!-- 15&#45;&gt;23 -->\n<g id=\"edge23\" class=\"edge\">\n<title>15&#45;&gt;23</title>\n<path fill=\"none\" stroke=\"black\" d=\"M1277.56,-296.88C1289.29,-287.53 1302.18,-277.26 1314.35,-267.57\"/>\n<polygon fill=\"black\" stroke=\"black\" points=\"1316.57,-270.27 1322.21,-261.3 1312.21,-264.79 1316.57,-270.27\"/>\n</g>\n<!-- 17 -->\n<g id=\"node18\" class=\"node\">\n<title>17</title>\n<path fill=\"#7bbeee\" stroke=\"black\" d=\"M1014,-157C1014,-157 870,-157 870,-157 864,-157 858,-151 858,-145 858,-145 858,-101 858,-101 858,-95 864,-89 870,-89 870,-89 1014,-89 1014,-89 1020,-89 1026,-95 1026,-101 1026,-101 1026,-145 1026,-145 1026,-151 1020,-157 1014,-157\"/>\n<text text-anchor=\"start\" x=\"866\" y=\"-141.8\" font-family=\"Helvetica,sans-Serif\" font-size=\"14.00\">online_backup_Yes ≤ 0.5</text>\n<text text-anchor=\"start\" x=\"906.5\" y=\"-126.8\" font-family=\"Helvetica,sans-Serif\" font-size=\"14.00\">gini = 0.376</text>\n<text text-anchor=\"start\" x=\"897\" y=\"-111.8\" font-family=\"Helvetica,sans-Serif\" font-size=\"14.00\">samples = 208</text>\n<text text-anchor=\"start\" x=\"891.5\" y=\"-96.8\" font-family=\"Helvetica,sans-Serif\" font-size=\"14.00\">value = [78, 233]</text>\n</g>\n<!-- 16&#45;&gt;17 -->\n<g id=\"edge17\" class=\"edge\">\n<title>16&#45;&gt;17</title>\n<path fill=\"none\" stroke=\"black\" d=\"M1054.1,-192.88C1038.37,-183.21 1021.03,-172.56 1004.8,-162.59\"/>\n<polygon fill=\"black\" stroke=\"black\" points=\"1006.26,-159.38 995.91,-157.12 1002.6,-165.34 1006.26,-159.38\"/>\n</g>\n<!-- 20 -->\n<g id=\"node21\" class=\"node\">\n<title>20</title>\n<path fill=\"#ea975c\" stroke=\"black\" d=\"M1178,-157C1178,-157 1056,-157 1056,-157 1050,-157 1044,-151 1044,-145 1044,-145 1044,-101 1044,-101 1044,-95 1050,-89 1056,-89 1056,-89 1178,-89 1178,-89 1184,-89 1190,-95 1190,-101 1190,-101 1190,-145 1190,-145 1190,-151 1184,-157 1178,-157\"/>\n<text text-anchor=\"start\" x=\"1052\" y=\"-141.8\" font-family=\"Helvetica,sans-Serif\" font-size=\"14.00\">total_charges ≤ 23.35</text>\n<text text-anchor=\"start\" x=\"1081.5\" y=\"-126.8\" font-family=\"Helvetica,sans-Serif\" font-size=\"14.00\">gini = 0.255</text>\n<text text-anchor=\"start\" x=\"1076\" y=\"-111.8\" font-family=\"Helvetica,sans-Serif\" font-size=\"14.00\">samples = 14</text>\n<text text-anchor=\"start\" x=\"1074\" y=\"-96.8\" font-family=\"Helvetica,sans-Serif\" font-size=\"14.00\">value = [17, 3]</text>\n</g>\n<!-- 16&#45;&gt;20 -->\n<g id=\"edge20\" class=\"edge\">\n<title>16&#45;&gt;20</title>\n<path fill=\"none\" stroke=\"black\" d=\"M1110.92,-192.88C1111.64,-184.78 1112.41,-175.98 1113.16,-167.47\"/>\n<polygon fill=\"black\" stroke=\"black\" points=\"1116.67,-167.57 1114.06,-157.3 1109.7,-166.95 1116.67,-167.57\"/>\n</g>\n<!-- 18 -->\n<g id=\"node19\" class=\"node\">\n<title>18</title>\n<path fill=\"#7abdee\" stroke=\"black\" d=\"M878.5,-53C878.5,-53 785.5,-53 785.5,-53 779.5,-53 773.5,-47 773.5,-41 773.5,-41 773.5,-12 773.5,-12 773.5,-6 779.5,0 785.5,0 785.5,0 878.5,0 878.5,0 884.5,0 890.5,-6 890.5,-12 890.5,-12 890.5,-41 890.5,-41 890.5,-47 884.5,-53 878.5,-53\"/>\n<text text-anchor=\"start\" x=\"796.5\" y=\"-37.8\" font-family=\"Helvetica,sans-Serif\" font-size=\"14.00\">gini = 0.372</text>\n<text text-anchor=\"start\" x=\"787\" y=\"-22.8\" font-family=\"Helvetica,sans-Serif\" font-size=\"14.00\">samples = 173</text>\n<text text-anchor=\"start\" x=\"781.5\" y=\"-7.8\" font-family=\"Helvetica,sans-Serif\" font-size=\"14.00\">value = [64, 195]</text>\n</g>\n<!-- 17&#45;&gt;18 -->\n<g id=\"edge18\" class=\"edge\">\n<title>17&#45;&gt;18</title>\n<path fill=\"none\" stroke=\"black\" d=\"M903.53,-88.95C892.56,-79.53 880.62,-69.27 869.7,-59.89\"/>\n<polygon fill=\"black\" stroke=\"black\" points=\"871.82,-57.1 861.96,-53.24 867.26,-62.41 871.82,-57.1\"/>\n</g>\n<!-- 19 -->\n<g id=\"node20\" class=\"node\">\n<title>19</title>\n<path fill=\"#82c1ef\" stroke=\"black\" d=\"M1007,-53C1007,-53 921,-53 921,-53 915,-53 909,-47 909,-41 909,-41 909,-12 909,-12 909,-6 915,0 921,0 921,0 1007,0 1007,0 1013,0 1019,-6 1019,-12 1019,-12 1019,-41 1019,-41 1019,-47 1013,-53 1007,-53\"/>\n<text text-anchor=\"start\" x=\"928.5\" y=\"-37.8\" font-family=\"Helvetica,sans-Serif\" font-size=\"14.00\">gini = 0.393</text>\n<text text-anchor=\"start\" x=\"923\" y=\"-22.8\" font-family=\"Helvetica,sans-Serif\" font-size=\"14.00\">samples = 35</text>\n<text text-anchor=\"start\" x=\"917\" y=\"-7.8\" font-family=\"Helvetica,sans-Serif\" font-size=\"14.00\">value = [14, 38]</text>\n</g>\n<!-- 17&#45;&gt;19 -->\n<g id=\"edge19\" class=\"edge\">\n<title>17&#45;&gt;19</title>\n<path fill=\"none\" stroke=\"black\" d=\"M949.69,-88.95C951.63,-80.62 953.72,-71.65 955.69,-63.2\"/>\n<polygon fill=\"black\" stroke=\"black\" points=\"959.15,-63.77 958.01,-53.24 952.33,-62.18 959.15,-63.77\"/>\n</g>\n<!-- 21 -->\n<g id=\"node22\" class=\"node\">\n<title>21</title>\n<path fill=\"#399de5\" stroke=\"black\" d=\"M1120.5,-53C1120.5,-53 1049.5,-53 1049.5,-53 1043.5,-53 1037.5,-47 1037.5,-41 1037.5,-41 1037.5,-12 1037.5,-12 1037.5,-6 1043.5,0 1049.5,0 1049.5,0 1120.5,0 1120.5,0 1126.5,0 1132.5,-6 1132.5,-12 1132.5,-12 1132.5,-41 1132.5,-41 1132.5,-47 1126.5,-53 1120.5,-53\"/>\n<text text-anchor=\"start\" x=\"1057\" y=\"-37.8\" font-family=\"Helvetica,sans-Serif\" font-size=\"14.00\">gini = 0.0</text>\n<text text-anchor=\"start\" x=\"1047.5\" y=\"-22.8\" font-family=\"Helvetica,sans-Serif\" font-size=\"14.00\">samples = 1</text>\n<text text-anchor=\"start\" x=\"1045.5\" y=\"-7.8\" font-family=\"Helvetica,sans-Serif\" font-size=\"14.00\">value = [0, 1]</text>\n</g>\n<!-- 20&#45;&gt;21 -->\n<g id=\"edge21\" class=\"edge\">\n<title>20&#45;&gt;21</title>\n<path fill=\"none\" stroke=\"black\" d=\"M1105.81,-88.95C1102.96,-80.53 1099.88,-71.45 1097,-62.92\"/>\n<polygon fill=\"black\" stroke=\"black\" points=\"1100.24,-61.59 1093.72,-53.24 1093.61,-63.83 1100.24,-61.59\"/>\n</g>\n<!-- 22 -->\n<g id=\"node23\" class=\"node\">\n<title>22</title>\n<path fill=\"#e89050\" stroke=\"black\" d=\"M1241,-53C1241,-53 1163,-53 1163,-53 1157,-53 1151,-47 1151,-41 1151,-41 1151,-12 1151,-12 1151,-6 1157,0 1163,0 1163,0 1241,0 1241,0 1247,0 1253,-6 1253,-12 1253,-12 1253,-41 1253,-41 1253,-47 1247,-53 1241,-53\"/>\n<text text-anchor=\"start\" x=\"1166.5\" y=\"-37.8\" font-family=\"Helvetica,sans-Serif\" font-size=\"14.00\">gini = 0.188</text>\n<text text-anchor=\"start\" x=\"1161\" y=\"-22.8\" font-family=\"Helvetica,sans-Serif\" font-size=\"14.00\">samples = 13</text>\n<text text-anchor=\"start\" x=\"1159\" y=\"-7.8\" font-family=\"Helvetica,sans-Serif\" font-size=\"14.00\">value = [17, 2]</text>\n</g>\n<!-- 20&#45;&gt;22 -->\n<g id=\"edge22\" class=\"edge\">\n<title>20&#45;&gt;22</title>\n<path fill=\"none\" stroke=\"black\" d=\"M1146.73,-88.95C1154.96,-79.8 1163.89,-69.87 1172.13,-60.71\"/>\n<polygon fill=\"black\" stroke=\"black\" points=\"1174.77,-63.01 1178.85,-53.24 1169.56,-58.33 1174.77,-63.01\"/>\n</g>\n<!-- 24 -->\n<g id=\"node25\" class=\"node\">\n<title>24</title>\n<path fill=\"#f9e0ce\" stroke=\"black\" d=\"M1482,-157C1482,-157 1230,-157 1230,-157 1224,-157 1218,-151 1218,-145 1218,-145 1218,-101 1218,-101 1218,-95 1224,-89 1230,-89 1230,-89 1482,-89 1482,-89 1488,-89 1494,-95 1494,-101 1494,-101 1494,-145 1494,-145 1494,-151 1488,-157 1482,-157\"/>\n<text text-anchor=\"start\" x=\"1226\" y=\"-141.8\" font-family=\"Helvetica,sans-Serif\" font-size=\"14.00\">device_protection_No internet service ≤ 0.5</text>\n<text text-anchor=\"start\" x=\"1324\" y=\"-126.8\" font-family=\"Helvetica,sans-Serif\" font-size=\"14.00\">gini = 0.49</text>\n<text text-anchor=\"start\" x=\"1311\" y=\"-111.8\" font-family=\"Helvetica,sans-Serif\" font-size=\"14.00\">samples = 346</text>\n<text text-anchor=\"start\" x=\"1301.5\" y=\"-96.8\" font-family=\"Helvetica,sans-Serif\" font-size=\"14.00\">value = [310, 234]</text>\n</g>\n<!-- 23&#45;&gt;24 -->\n<g id=\"edge24\" class=\"edge\">\n<title>23&#45;&gt;24</title>\n<path fill=\"none\" stroke=\"black\" d=\"M1361.4,-192.88C1360.77,-184.78 1360.08,-175.98 1359.41,-167.47\"/>\n<polygon fill=\"black\" stroke=\"black\" points=\"1362.88,-167 1358.61,-157.3 1355.9,-167.54 1362.88,-167\"/>\n</g>\n<!-- 27 -->\n<g id=\"node28\" class=\"node\">\n<title>27</title>\n<path fill=\"#eb9d64\" stroke=\"black\" d=\"M1749.5,-157C1749.5,-157 1524.5,-157 1524.5,-157 1518.5,-157 1512.5,-151 1512.5,-145 1512.5,-145 1512.5,-101 1512.5,-101 1512.5,-95 1518.5,-89 1524.5,-89 1524.5,-89 1749.5,-89 1749.5,-89 1755.5,-89 1761.5,-95 1761.5,-101 1761.5,-101 1761.5,-145 1761.5,-145 1761.5,-151 1755.5,-157 1749.5,-157\"/>\n<text text-anchor=\"start\" x=\"1520.5\" y=\"-141.8\" font-family=\"Helvetica,sans-Serif\" font-size=\"14.00\">internet_service_type_Fiber optic ≤ 0.5</text>\n<text text-anchor=\"start\" x=\"1601.5\" y=\"-126.8\" font-family=\"Helvetica,sans-Serif\" font-size=\"14.00\">gini = 0.295</text>\n<text text-anchor=\"start\" x=\"1596\" y=\"-111.8\" font-family=\"Helvetica,sans-Serif\" font-size=\"14.00\">samples = 35</text>\n<text text-anchor=\"start\" x=\"1594\" y=\"-96.8\" font-family=\"Helvetica,sans-Serif\" font-size=\"14.00\">value = [41, 9]</text>\n</g>\n<!-- 23&#45;&gt;27 -->\n<g id=\"edge27\" class=\"edge\">\n<title>23&#45;&gt;27</title>\n<path fill=\"none\" stroke=\"black\" d=\"M1452.64,-192.88C1480.19,-182.59 1510.73,-171.18 1538.89,-160.66\"/>\n<polygon fill=\"black\" stroke=\"black\" points=\"1540.2,-163.9 1548.34,-157.12 1537.75,-157.35 1540.2,-163.9\"/>\n</g>\n<!-- 25 -->\n<g id=\"node26\" class=\"node\">\n<title>25</title>\n<path fill=\"#f9e0cf\" stroke=\"black\" d=\"M1384.5,-53C1384.5,-53 1283.5,-53 1283.5,-53 1277.5,-53 1271.5,-47 1271.5,-41 1271.5,-41 1271.5,-12 1271.5,-12 1271.5,-6 1277.5,0 1283.5,0 1283.5,0 1384.5,0 1384.5,0 1390.5,0 1396.5,-6 1396.5,-12 1396.5,-12 1396.5,-41 1396.5,-41 1396.5,-47 1390.5,-53 1384.5,-53\"/>\n<text text-anchor=\"start\" x=\"1302\" y=\"-37.8\" font-family=\"Helvetica,sans-Serif\" font-size=\"14.00\">gini = 0.49</text>\n<text text-anchor=\"start\" x=\"1289\" y=\"-22.8\" font-family=\"Helvetica,sans-Serif\" font-size=\"14.00\">samples = 345</text>\n<text text-anchor=\"start\" x=\"1279.5\" y=\"-7.8\" font-family=\"Helvetica,sans-Serif\" font-size=\"14.00\">value = [309, 234]</text>\n</g>\n<!-- 24&#45;&gt;25 -->\n<g id=\"edge25\" class=\"edge\">\n<title>24&#45;&gt;25</title>\n<path fill=\"none\" stroke=\"black\" d=\"M1348.31,-88.95C1346.37,-80.62 1344.28,-71.65 1342.31,-63.2\"/>\n<polygon fill=\"black\" stroke=\"black\" points=\"1345.67,-62.18 1339.99,-53.24 1338.85,-63.77 1345.67,-62.18\"/>\n</g>\n<!-- 26 -->\n<g id=\"node27\" class=\"node\">\n<title>26</title>\n<path fill=\"#e58139\" stroke=\"black\" d=\"M1497.5,-53C1497.5,-53 1426.5,-53 1426.5,-53 1420.5,-53 1414.5,-47 1414.5,-41 1414.5,-41 1414.5,-12 1414.5,-12 1414.5,-6 1420.5,0 1426.5,0 1426.5,0 1497.5,0 1497.5,0 1503.5,0 1509.5,-6 1509.5,-12 1509.5,-12 1509.5,-41 1509.5,-41 1509.5,-47 1503.5,-53 1497.5,-53\"/>\n<text text-anchor=\"start\" x=\"1434\" y=\"-37.8\" font-family=\"Helvetica,sans-Serif\" font-size=\"14.00\">gini = 0.0</text>\n<text text-anchor=\"start\" x=\"1424.5\" y=\"-22.8\" font-family=\"Helvetica,sans-Serif\" font-size=\"14.00\">samples = 1</text>\n<text text-anchor=\"start\" x=\"1422.5\" y=\"-7.8\" font-family=\"Helvetica,sans-Serif\" font-size=\"14.00\">value = [1, 0]</text>\n</g>\n<!-- 24&#45;&gt;26 -->\n<g id=\"edge26\" class=\"edge\">\n<title>24&#45;&gt;26</title>\n<path fill=\"none\" stroke=\"black\" d=\"M1393.07,-88.95C1403.54,-79.62 1414.92,-69.47 1425.36,-60.16\"/>\n<polygon fill=\"black\" stroke=\"black\" points=\"1428,-62.5 1433.13,-53.24 1423.34,-57.28 1428,-62.5\"/>\n</g>\n<!-- 28 -->\n<g id=\"node29\" class=\"node\">\n<title>28</title>\n<path fill=\"#e58139\" stroke=\"black\" d=\"M1610.5,-53C1610.5,-53 1539.5,-53 1539.5,-53 1533.5,-53 1527.5,-47 1527.5,-41 1527.5,-41 1527.5,-12 1527.5,-12 1527.5,-6 1533.5,0 1539.5,0 1539.5,0 1610.5,0 1610.5,0 1616.5,0 1622.5,-6 1622.5,-12 1622.5,-12 1622.5,-41 1622.5,-41 1622.5,-47 1616.5,-53 1610.5,-53\"/>\n<text text-anchor=\"start\" x=\"1547\" y=\"-37.8\" font-family=\"Helvetica,sans-Serif\" font-size=\"14.00\">gini = 0.0</text>\n<text text-anchor=\"start\" x=\"1537.5\" y=\"-22.8\" font-family=\"Helvetica,sans-Serif\" font-size=\"14.00\">samples = 6</text>\n<text text-anchor=\"start\" x=\"1535.5\" y=\"-7.8\" font-family=\"Helvetica,sans-Serif\" font-size=\"14.00\">value = [7, 0]</text>\n</g>\n<!-- 27&#45;&gt;28 -->\n<g id=\"edge28\" class=\"edge\">\n<title>27&#45;&gt;28</title>\n<path fill=\"none\" stroke=\"black\" d=\"M1615.32,-88.95C1609.55,-80.17 1603.32,-70.66 1597.51,-61.82\"/>\n<polygon fill=\"black\" stroke=\"black\" points=\"1600.3,-59.68 1591.89,-53.24 1594.44,-63.52 1600.3,-59.68\"/>\n</g>\n<!-- 29 -->\n<g id=\"node30\" class=\"node\">\n<title>29</title>\n<path fill=\"#eca26d\" stroke=\"black\" d=\"M1731,-53C1731,-53 1653,-53 1653,-53 1647,-53 1641,-47 1641,-41 1641,-41 1641,-12 1641,-12 1641,-6 1647,0 1653,0 1653,0 1731,0 1731,0 1737,0 1743,-6 1743,-12 1743,-12 1743,-41 1743,-41 1743,-47 1737,-53 1731,-53\"/>\n<text text-anchor=\"start\" x=\"1656.5\" y=\"-37.8\" font-family=\"Helvetica,sans-Serif\" font-size=\"14.00\">gini = 0.331</text>\n<text text-anchor=\"start\" x=\"1651\" y=\"-22.8\" font-family=\"Helvetica,sans-Serif\" font-size=\"14.00\">samples = 29</text>\n<text text-anchor=\"start\" x=\"1649\" y=\"-7.8\" font-family=\"Helvetica,sans-Serif\" font-size=\"14.00\">value = [34, 9]</text>\n</g>\n<!-- 27&#45;&gt;29 -->\n<g id=\"edge29\" class=\"edge\">\n<title>27&#45;&gt;29</title>\n<path fill=\"none\" stroke=\"black\" d=\"M1656.24,-88.95C1661.29,-80.26 1666.76,-70.86 1671.87,-62.09\"/>\n<polygon fill=\"black\" stroke=\"black\" points=\"1675.02,-63.64 1677.02,-53.24 1668.97,-60.12 1675.02,-63.64\"/>\n</g>\n<!-- 31 -->\n<g id=\"node32\" class=\"node\">\n<title>31</title>\n<path fill=\"#f2be9a\" stroke=\"black\" d=\"M2340,-365C2340,-365 2188,-365 2188,-365 2182,-365 2176,-359 2176,-353 2176,-353 2176,-309 2176,-309 2176,-303 2182,-297 2188,-297 2188,-297 2340,-297 2340,-297 2346,-297 2352,-303 2352,-309 2352,-309 2352,-353 2352,-353 2352,-359 2346,-365 2340,-365\"/>\n<text text-anchor=\"start\" x=\"2184\" y=\"-349.8\" font-family=\"Helvetica,sans-Serif\" font-size=\"14.00\">monthly_charges ≤ 69.975</text>\n<text text-anchor=\"start\" x=\"2228.5\" y=\"-334.8\" font-family=\"Helvetica,sans-Serif\" font-size=\"14.00\">gini = 0.441</text>\n<text text-anchor=\"start\" x=\"2219\" y=\"-319.8\" font-family=\"Helvetica,sans-Serif\" font-size=\"14.00\">samples = 741</text>\n<text text-anchor=\"start\" x=\"2209.5\" y=\"-304.8\" font-family=\"Helvetica,sans-Serif\" font-size=\"14.00\">value = [796, 388]</text>\n</g>\n<!-- 30&#45;&gt;31 -->\n<g id=\"edge31\" class=\"edge\">\n<title>30&#45;&gt;31</title>\n<path fill=\"none\" stroke=\"black\" d=\"M2264,-400.88C2264,-392.78 2264,-383.98 2264,-375.47\"/>\n<polygon fill=\"black\" stroke=\"black\" points=\"2267.5,-375.3 2264,-365.3 2260.5,-375.3 2267.5,-375.3\"/>\n</g>\n<!-- 46 -->\n<g id=\"node47\" class=\"node\">\n<title>46</title>\n<path fill=\"#e68742\" stroke=\"black\" d=\"M2949.5,-365C2949.5,-365 2778.5,-365 2778.5,-365 2772.5,-365 2766.5,-359 2766.5,-353 2766.5,-353 2766.5,-309 2766.5,-309 2766.5,-303 2772.5,-297 2778.5,-297 2778.5,-297 2949.5,-297 2949.5,-297 2955.5,-297 2961.5,-303 2961.5,-309 2961.5,-309 2961.5,-353 2961.5,-353 2961.5,-359 2955.5,-365 2949.5,-365\"/>\n<text text-anchor=\"start\" x=\"2774.5\" y=\"-349.8\" font-family=\"Helvetica,sans-Serif\" font-size=\"14.00\">contract_type_One year ≤ 0.5</text>\n<text text-anchor=\"start\" x=\"2828.5\" y=\"-334.8\" font-family=\"Helvetica,sans-Serif\" font-size=\"14.00\">gini = 0.087</text>\n<text text-anchor=\"start\" x=\"2819\" y=\"-319.8\" font-family=\"Helvetica,sans-Serif\" font-size=\"14.00\">samples = 956</text>\n<text text-anchor=\"start\" x=\"2809.5\" y=\"-304.8\" font-family=\"Helvetica,sans-Serif\" font-size=\"14.00\">value = [1433, 68]</text>\n</g>\n<!-- 30&#45;&gt;46 -->\n<g id=\"edge46\" class=\"edge\">\n<title>30&#45;&gt;46</title>\n<path fill=\"none\" stroke=\"black\" d=\"M2338.78,-421.29C2443.89,-403.42 2635.92,-370.77 2756.38,-350.29\"/>\n<polygon fill=\"black\" stroke=\"black\" points=\"2757.1,-353.72 2766.37,-348.6 2755.92,-346.82 2757.1,-353.72\"/>\n</g>\n<!-- 32 -->\n<g id=\"node33\" class=\"node\">\n<title>32</title>\n<path fill=\"#eeaa7a\" stroke=\"black\" d=\"M2247,-261C2247,-261 2079,-261 2079,-261 2073,-261 2067,-255 2067,-249 2067,-249 2067,-205 2067,-205 2067,-199 2073,-193 2079,-193 2079,-193 2247,-193 2247,-193 2253,-193 2259,-199 2259,-205 2259,-205 2259,-249 2259,-249 2259,-255 2253,-261 2247,-261\"/>\n<text text-anchor=\"start\" x=\"2075\" y=\"-245.8\" font-family=\"Helvetica,sans-Serif\" font-size=\"14.00\">streaming_movies_Yes ≤ 0.5</text>\n<text text-anchor=\"start\" x=\"2127.5\" y=\"-230.8\" font-family=\"Helvetica,sans-Serif\" font-size=\"14.00\">gini = 0.371</text>\n<text text-anchor=\"start\" x=\"2118\" y=\"-215.8\" font-family=\"Helvetica,sans-Serif\" font-size=\"14.00\">samples = 443</text>\n<text text-anchor=\"start\" x=\"2108.5\" y=\"-200.8\" font-family=\"Helvetica,sans-Serif\" font-size=\"14.00\">value = [526, 172]</text>\n</g>\n<!-- 31&#45;&gt;32 -->\n<g id=\"edge32\" class=\"edge\">\n<title>31&#45;&gt;32</title>\n<path fill=\"none\" stroke=\"black\" d=\"M2231.21,-296.88C2222.3,-287.89 2212.55,-278.04 2203.28,-268.68\"/>\n<polygon fill=\"black\" stroke=\"black\" points=\"2205.5,-265.94 2195.97,-261.3 2200.52,-270.87 2205.5,-265.94\"/>\n</g>\n<!-- 39 -->\n<g id=\"node40\" class=\"node\">\n<title>39</title>\n<path fill=\"#fae6d7\" stroke=\"black\" d=\"M2451,-261C2451,-261 2299,-261 2299,-261 2293,-261 2287,-255 2287,-249 2287,-249 2287,-205 2287,-205 2287,-199 2293,-193 2299,-193 2299,-193 2451,-193 2451,-193 2457,-193 2463,-199 2463,-205 2463,-205 2463,-249 2463,-249 2463,-255 2457,-261 2451,-261\"/>\n<text text-anchor=\"start\" x=\"2295\" y=\"-245.8\" font-family=\"Helvetica,sans-Serif\" font-size=\"14.00\">monthly_charges ≤ 75.175</text>\n<text text-anchor=\"start\" x=\"2339.5\" y=\"-230.8\" font-family=\"Helvetica,sans-Serif\" font-size=\"14.00\">gini = 0.494</text>\n<text text-anchor=\"start\" x=\"2330\" y=\"-215.8\" font-family=\"Helvetica,sans-Serif\" font-size=\"14.00\">samples = 298</text>\n<text text-anchor=\"start\" x=\"2320.5\" y=\"-200.8\" font-family=\"Helvetica,sans-Serif\" font-size=\"14.00\">value = [270, 216]</text>\n</g>\n<!-- 31&#45;&gt;39 -->\n<g id=\"edge39\" class=\"edge\">\n<title>31&#45;&gt;39</title>\n<path fill=\"none\" stroke=\"black\" d=\"M2300.04,-296.88C2310.02,-287.71 2320.97,-277.65 2331.34,-268.12\"/>\n<polygon fill=\"black\" stroke=\"black\" points=\"2333.77,-270.64 2338.76,-261.3 2329.03,-265.49 2333.77,-270.64\"/>\n</g>\n<!-- 33 -->\n<g id=\"node34\" class=\"node\">\n<title>33</title>\n<path fill=\"#eda674\" stroke=\"black\" d=\"M2071.5,-157C2071.5,-157 1838.5,-157 1838.5,-157 1832.5,-157 1826.5,-151 1826.5,-145 1826.5,-145 1826.5,-101 1826.5,-101 1826.5,-95 1832.5,-89 1838.5,-89 1838.5,-89 2071.5,-89 2071.5,-89 2077.5,-89 2083.5,-95 2083.5,-101 2083.5,-101 2083.5,-145 2083.5,-145 2083.5,-151 2077.5,-157 2071.5,-157\"/>\n<text text-anchor=\"start\" x=\"1834.5\" y=\"-141.8\" font-family=\"Helvetica,sans-Serif\" font-size=\"14.00\">online_backup_No internet service ≤ 0.5</text>\n<text text-anchor=\"start\" x=\"1919.5\" y=\"-126.8\" font-family=\"Helvetica,sans-Serif\" font-size=\"14.00\">gini = 0.353</text>\n<text text-anchor=\"start\" x=\"1910\" y=\"-111.8\" font-family=\"Helvetica,sans-Serif\" font-size=\"14.00\">samples = 397</text>\n<text text-anchor=\"start\" x=\"1900.5\" y=\"-96.8\" font-family=\"Helvetica,sans-Serif\" font-size=\"14.00\">value = [479, 142]</text>\n</g>\n<!-- 32&#45;&gt;33 -->\n<g id=\"edge33\" class=\"edge\">\n<title>32&#45;&gt;33</title>\n<path fill=\"none\" stroke=\"black\" d=\"M2095.47,-192.88C2075.11,-182.9 2052.62,-171.87 2031.71,-161.62\"/>\n<polygon fill=\"black\" stroke=\"black\" points=\"2033.07,-158.39 2022.55,-157.12 2029.99,-164.67 2033.07,-158.39\"/>\n</g>\n<!-- 36 -->\n<g id=\"node37\" class=\"node\">\n<title>36</title>\n<path fill=\"#f6d1b7\" stroke=\"black\" d=\"M2206,-157C2206,-157 2120,-157 2120,-157 2114,-157 2108,-151 2108,-145 2108,-145 2108,-101 2108,-101 2108,-95 2114,-89 2120,-89 2120,-89 2206,-89 2206,-89 2212,-89 2218,-95 2218,-101 2218,-101 2218,-145 2218,-145 2218,-151 2212,-157 2206,-157\"/>\n<text text-anchor=\"start\" x=\"2126.5\" y=\"-141.8\" font-family=\"Helvetica,sans-Serif\" font-size=\"14.00\">tenure ≤ 1.5</text>\n<text text-anchor=\"start\" x=\"2127.5\" y=\"-126.8\" font-family=\"Helvetica,sans-Serif\" font-size=\"14.00\">gini = 0.476</text>\n<text text-anchor=\"start\" x=\"2122\" y=\"-111.8\" font-family=\"Helvetica,sans-Serif\" font-size=\"14.00\">samples = 46</text>\n<text text-anchor=\"start\" x=\"2116\" y=\"-96.8\" font-family=\"Helvetica,sans-Serif\" font-size=\"14.00\">value = [47, 30]</text>\n</g>\n<!-- 32&#45;&gt;36 -->\n<g id=\"edge36\" class=\"edge\">\n<title>32&#45;&gt;36</title>\n<path fill=\"none\" stroke=\"black\" d=\"M2163,-192.88C2163,-184.78 2163,-175.98 2163,-167.47\"/>\n<polygon fill=\"black\" stroke=\"black\" points=\"2166.5,-167.3 2163,-157.3 2159.5,-167.3 2166.5,-167.3\"/>\n</g>\n<!-- 34 -->\n<g id=\"node35\" class=\"node\">\n<title>34</title>\n<path fill=\"#eead7d\" stroke=\"black\" d=\"M1866.5,-53C1866.5,-53 1773.5,-53 1773.5,-53 1767.5,-53 1761.5,-47 1761.5,-41 1761.5,-41 1761.5,-12 1761.5,-12 1761.5,-6 1767.5,0 1773.5,0 1773.5,0 1866.5,0 1866.5,0 1872.5,0 1878.5,-6 1878.5,-12 1878.5,-12 1878.5,-41 1878.5,-41 1878.5,-47 1872.5,-53 1866.5,-53\"/>\n<text text-anchor=\"start\" x=\"1784.5\" y=\"-37.8\" font-family=\"Helvetica,sans-Serif\" font-size=\"14.00\">gini = 0.382</text>\n<text text-anchor=\"start\" x=\"1775\" y=\"-22.8\" font-family=\"Helvetica,sans-Serif\" font-size=\"14.00\">samples = 236</text>\n<text text-anchor=\"start\" x=\"1769.5\" y=\"-7.8\" font-family=\"Helvetica,sans-Serif\" font-size=\"14.00\">value = [275, 95]</text>\n</g>\n<!-- 33&#45;&gt;34 -->\n<g id=\"edge34\" class=\"edge\">\n<title>33&#45;&gt;34</title>\n<path fill=\"none\" stroke=\"black\" d=\"M1907.78,-88.95C1893.93,-79.25 1878.82,-68.68 1865.1,-59.07\"/>\n<polygon fill=\"black\" stroke=\"black\" points=\"1866.97,-56.1 1856.77,-53.24 1862.95,-61.84 1866.97,-56.1\"/>\n</g>\n<!-- 35 -->\n<g id=\"node36\" class=\"node\">\n<title>35</title>\n<path fill=\"#eb9e67\" stroke=\"black\" d=\"M2001.5,-53C2001.5,-53 1908.5,-53 1908.5,-53 1902.5,-53 1896.5,-47 1896.5,-41 1896.5,-41 1896.5,-12 1896.5,-12 1896.5,-6 1902.5,0 1908.5,0 1908.5,0 2001.5,0 2001.5,0 2007.5,0 2013.5,-6 2013.5,-12 2013.5,-12 2013.5,-41 2013.5,-41 2013.5,-47 2007.5,-53 2001.5,-53\"/>\n<text text-anchor=\"start\" x=\"1919.5\" y=\"-37.8\" font-family=\"Helvetica,sans-Serif\" font-size=\"14.00\">gini = 0.304</text>\n<text text-anchor=\"start\" x=\"1910\" y=\"-22.8\" font-family=\"Helvetica,sans-Serif\" font-size=\"14.00\">samples = 161</text>\n<text text-anchor=\"start\" x=\"1904.5\" y=\"-7.8\" font-family=\"Helvetica,sans-Serif\" font-size=\"14.00\">value = [204, 47]</text>\n</g>\n<!-- 33&#45;&gt;35 -->\n<g id=\"edge35\" class=\"edge\">\n<title>33&#45;&gt;35</title>\n<path fill=\"none\" stroke=\"black\" d=\"M1955,-88.95C1955,-80.72 1955,-71.85 1955,-63.48\"/>\n<polygon fill=\"black\" stroke=\"black\" points=\"1958.5,-63.24 1955,-53.24 1951.5,-63.24 1958.5,-63.24\"/>\n</g>\n<!-- 37 -->\n<g id=\"node38\" class=\"node\">\n<title>37</title>\n<path fill=\"#55abe9\" stroke=\"black\" d=\"M2114.5,-53C2114.5,-53 2043.5,-53 2043.5,-53 2037.5,-53 2031.5,-47 2031.5,-41 2031.5,-41 2031.5,-12 2031.5,-12 2031.5,-6 2037.5,0 2043.5,0 2043.5,0 2114.5,0 2114.5,0 2120.5,0 2126.5,-6 2126.5,-12 2126.5,-12 2126.5,-41 2126.5,-41 2126.5,-47 2120.5,-53 2114.5,-53\"/>\n<text text-anchor=\"start\" x=\"2043.5\" y=\"-37.8\" font-family=\"Helvetica,sans-Serif\" font-size=\"14.00\">gini = 0.219</text>\n<text text-anchor=\"start\" x=\"2041.5\" y=\"-22.8\" font-family=\"Helvetica,sans-Serif\" font-size=\"14.00\">samples = 5</text>\n<text text-anchor=\"start\" x=\"2039.5\" y=\"-7.8\" font-family=\"Helvetica,sans-Serif\" font-size=\"14.00\">value = [1, 7]</text>\n</g>\n<!-- 36&#45;&gt;37 -->\n<g id=\"edge37\" class=\"edge\">\n<title>36&#45;&gt;37</title>\n<path fill=\"none\" stroke=\"black\" d=\"M2133.62,-88.95C2125.49,-79.8 2116.66,-69.87 2108.52,-60.71\"/>\n<polygon fill=\"black\" stroke=\"black\" points=\"2111.14,-58.39 2101.88,-53.24 2105.9,-63.04 2111.14,-58.39\"/>\n</g>\n<!-- 38 -->\n<g id=\"node39\" class=\"node\">\n<title>38</title>\n<path fill=\"#f2c09c\" stroke=\"black\" d=\"M2243,-53C2243,-53 2157,-53 2157,-53 2151,-53 2145,-47 2145,-41 2145,-41 2145,-12 2145,-12 2145,-6 2151,0 2157,0 2157,0 2243,0 2243,0 2249,0 2255,-6 2255,-12 2255,-12 2255,-41 2255,-41 2255,-47 2249,-53 2243,-53\"/>\n<text text-anchor=\"start\" x=\"2164.5\" y=\"-37.8\" font-family=\"Helvetica,sans-Serif\" font-size=\"14.00\">gini = 0.444</text>\n<text text-anchor=\"start\" x=\"2159\" y=\"-22.8\" font-family=\"Helvetica,sans-Serif\" font-size=\"14.00\">samples = 41</text>\n<text text-anchor=\"start\" x=\"2153\" y=\"-7.8\" font-family=\"Helvetica,sans-Serif\" font-size=\"14.00\">value = [46, 23]</text>\n</g>\n<!-- 36&#45;&gt;38 -->\n<g id=\"edge38\" class=\"edge\">\n<title>36&#45;&gt;38</title>\n<path fill=\"none\" stroke=\"black\" d=\"M2175.94,-88.95C2179.27,-80.44 2182.87,-71.26 2186.24,-62.65\"/>\n<polygon fill=\"black\" stroke=\"black\" points=\"2189.54,-63.82 2189.92,-53.24 2183.02,-61.27 2189.54,-63.82\"/>\n</g>\n<!-- 40 -->\n<g id=\"node41\" class=\"node\">\n<title>40</title>\n<path fill=\"#a8d4f4\" stroke=\"black\" d=\"M2459,-157C2459,-157 2291,-157 2291,-157 2285,-157 2279,-151 2279,-145 2279,-145 2279,-101 2279,-101 2279,-95 2285,-89 2291,-89 2291,-89 2459,-89 2459,-89 2465,-89 2471,-95 2471,-101 2471,-101 2471,-145 2471,-145 2471,-151 2465,-157 2459,-157\"/>\n<text text-anchor=\"start\" x=\"2287\" y=\"-141.8\" font-family=\"Helvetica,sans-Serif\" font-size=\"14.00\">streaming_movies_Yes ≤ 0.5</text>\n<text text-anchor=\"start\" x=\"2339.5\" y=\"-126.8\" font-family=\"Helvetica,sans-Serif\" font-size=\"14.00\">gini = 0.461</text>\n<text text-anchor=\"start\" x=\"2334\" y=\"-111.8\" font-family=\"Helvetica,sans-Serif\" font-size=\"14.00\">samples = 57</text>\n<text text-anchor=\"start\" x=\"2328\" y=\"-96.8\" font-family=\"Helvetica,sans-Serif\" font-size=\"14.00\">value = [36, 64]</text>\n</g>\n<!-- 39&#45;&gt;40 -->\n<g id=\"edge40\" class=\"edge\">\n<title>39&#45;&gt;40</title>\n<path fill=\"none\" stroke=\"black\" d=\"M2375,-192.88C2375,-184.78 2375,-175.98 2375,-167.47\"/>\n<polygon fill=\"black\" stroke=\"black\" points=\"2378.5,-167.3 2375,-157.3 2371.5,-167.3 2378.5,-167.3\"/>\n</g>\n<!-- 43 -->\n<g id=\"node44\" class=\"node\">\n<title>43</title>\n<path fill=\"#f6d3ba\" stroke=\"black\" d=\"M2646,-157C2646,-157 2506,-157 2506,-157 2500,-157 2494,-151 2494,-145 2494,-145 2494,-101 2494,-101 2494,-95 2500,-89 2506,-89 2506,-89 2646,-89 2646,-89 2652,-89 2658,-95 2658,-101 2658,-101 2658,-145 2658,-145 2658,-151 2652,-157 2646,-157\"/>\n<text text-anchor=\"start\" x=\"2502\" y=\"-141.8\" font-family=\"Helvetica,sans-Serif\" font-size=\"14.00\">multiple_lines_Yes ≤ 0.5</text>\n<text text-anchor=\"start\" x=\"2540.5\" y=\"-126.8\" font-family=\"Helvetica,sans-Serif\" font-size=\"14.00\">gini = 0.477</text>\n<text text-anchor=\"start\" x=\"2531\" y=\"-111.8\" font-family=\"Helvetica,sans-Serif\" font-size=\"14.00\">samples = 241</text>\n<text text-anchor=\"start\" x=\"2521.5\" y=\"-96.8\" font-family=\"Helvetica,sans-Serif\" font-size=\"14.00\">value = [234, 152]</text>\n</g>\n<!-- 39&#45;&gt;43 -->\n<g id=\"edge43\" class=\"edge\">\n<title>39&#45;&gt;43</title>\n<path fill=\"none\" stroke=\"black\" d=\"M2440.26,-192.88C2459.84,-182.95 2481.47,-171.97 2501.6,-161.76\"/>\n<polygon fill=\"black\" stroke=\"black\" points=\"2503.39,-164.77 2510.72,-157.12 2500.22,-158.53 2503.39,-164.77\"/>\n</g>\n<!-- 41 -->\n<g id=\"node42\" class=\"node\">\n<title>41</title>\n<path fill=\"#8bc5f0\" stroke=\"black\" d=\"M2371,-53C2371,-53 2285,-53 2285,-53 2279,-53 2273,-47 2273,-41 2273,-41 2273,-12 2273,-12 2273,-6 2279,0 2285,0 2285,0 2371,0 2371,0 2377,0 2383,-6 2383,-12 2383,-12 2383,-41 2383,-41 2383,-47 2377,-53 2371,-53\"/>\n<text text-anchor=\"start\" x=\"2292.5\" y=\"-37.8\" font-family=\"Helvetica,sans-Serif\" font-size=\"14.00\">gini = 0.414</text>\n<text text-anchor=\"start\" x=\"2287\" y=\"-22.8\" font-family=\"Helvetica,sans-Serif\" font-size=\"14.00\">samples = 50</text>\n<text text-anchor=\"start\" x=\"2281\" y=\"-7.8\" font-family=\"Helvetica,sans-Serif\" font-size=\"14.00\">value = [26, 63]</text>\n</g>\n<!-- 40&#45;&gt;41 -->\n<g id=\"edge41\" class=\"edge\">\n<title>40&#45;&gt;41</title>\n<path fill=\"none\" stroke=\"black\" d=\"M2358.56,-88.95C2354.28,-80.35 2349.66,-71.06 2345.34,-62.37\"/>\n<polygon fill=\"black\" stroke=\"black\" points=\"2348.39,-60.63 2340.8,-53.24 2342.12,-63.75 2348.39,-60.63\"/>\n</g>\n<!-- 42 -->\n<g id=\"node43\" class=\"node\">\n<title>42</title>\n<path fill=\"#e88e4d\" stroke=\"black\" d=\"M2491,-53C2491,-53 2413,-53 2413,-53 2407,-53 2401,-47 2401,-41 2401,-41 2401,-12 2401,-12 2401,-6 2407,0 2413,0 2413,0 2491,0 2491,0 2497,0 2503,-6 2503,-12 2503,-12 2503,-41 2503,-41 2503,-47 2497,-53 2491,-53\"/>\n<text text-anchor=\"start\" x=\"2416.5\" y=\"-37.8\" font-family=\"Helvetica,sans-Serif\" font-size=\"14.00\">gini = 0.165</text>\n<text text-anchor=\"start\" x=\"2414.5\" y=\"-22.8\" font-family=\"Helvetica,sans-Serif\" font-size=\"14.00\">samples = 7</text>\n<text text-anchor=\"start\" x=\"2409\" y=\"-7.8\" font-family=\"Helvetica,sans-Serif\" font-size=\"14.00\">value = [10, 1]</text>\n</g>\n<!-- 40&#45;&gt;42 -->\n<g id=\"edge42\" class=\"edge\">\n<title>40&#45;&gt;42</title>\n<path fill=\"none\" stroke=\"black\" d=\"M2401.93,-88.95C2409.24,-79.98 2417.15,-70.27 2424.49,-61.26\"/>\n<polygon fill=\"black\" stroke=\"black\" points=\"2427.43,-63.2 2431.03,-53.24 2422,-58.78 2427.43,-63.2\"/>\n</g>\n<!-- 44 -->\n<g id=\"node45\" class=\"node\">\n<title>44</title>\n<path fill=\"#f9e0ce\" stroke=\"black\" d=\"M2619,-53C2619,-53 2533,-53 2533,-53 2527,-53 2521,-47 2521,-41 2521,-41 2521,-12 2521,-12 2521,-6 2527,0 2533,0 2533,0 2619,0 2619,0 2625,0 2631,-6 2631,-12 2631,-12 2631,-41 2631,-41 2631,-47 2625,-53 2619,-53\"/>\n<text text-anchor=\"start\" x=\"2544\" y=\"-37.8\" font-family=\"Helvetica,sans-Serif\" font-size=\"14.00\">gini = 0.49</text>\n<text text-anchor=\"start\" x=\"2535\" y=\"-22.8\" font-family=\"Helvetica,sans-Serif\" font-size=\"14.00\">samples = 71</text>\n<text text-anchor=\"start\" x=\"2529\" y=\"-7.8\" font-family=\"Helvetica,sans-Serif\" font-size=\"14.00\">value = [65, 49]</text>\n</g>\n<!-- 43&#45;&gt;44 -->\n<g id=\"edge44\" class=\"edge\">\n<title>43&#45;&gt;44</title>\n<path fill=\"none\" stroke=\"black\" d=\"M2576,-88.95C2576,-80.72 2576,-71.85 2576,-63.48\"/>\n<polygon fill=\"black\" stroke=\"black\" points=\"2579.5,-63.24 2576,-53.24 2572.5,-63.24 2579.5,-63.24\"/>\n</g>\n<!-- 45 -->\n<g id=\"node46\" class=\"node\">\n<title>45</title>\n<path fill=\"#f5ceb2\" stroke=\"black\" d=\"M2762.5,-53C2762.5,-53 2661.5,-53 2661.5,-53 2655.5,-53 2649.5,-47 2649.5,-41 2649.5,-41 2649.5,-12 2649.5,-12 2649.5,-6 2655.5,0 2661.5,0 2661.5,0 2762.5,0 2762.5,0 2768.5,0 2774.5,-6 2774.5,-12 2774.5,-12 2774.5,-41 2774.5,-41 2774.5,-47 2768.5,-53 2762.5,-53\"/>\n<text text-anchor=\"start\" x=\"2676.5\" y=\"-37.8\" font-family=\"Helvetica,sans-Serif\" font-size=\"14.00\">gini = 0.471</text>\n<text text-anchor=\"start\" x=\"2667\" y=\"-22.8\" font-family=\"Helvetica,sans-Serif\" font-size=\"14.00\">samples = 170</text>\n<text text-anchor=\"start\" x=\"2657.5\" y=\"-7.8\" font-family=\"Helvetica,sans-Serif\" font-size=\"14.00\">value = [169, 103]</text>\n</g>\n<!-- 43&#45;&gt;45 -->\n<g id=\"edge45\" class=\"edge\">\n<title>43&#45;&gt;45</title>\n<path fill=\"none\" stroke=\"black\" d=\"M2623.57,-88.95C2637.52,-79.25 2652.74,-68.68 2666.56,-59.07\"/>\n<polygon fill=\"black\" stroke=\"black\" points=\"2668.75,-61.82 2674.96,-53.24 2664.75,-56.07 2668.75,-61.82\"/>\n</g>\n<!-- 47 -->\n<g id=\"node48\" class=\"node\">\n<title>47</title>\n<path fill=\"#e6843e\" stroke=\"black\" d=\"M2936.5,-261C2936.5,-261 2791.5,-261 2791.5,-261 2785.5,-261 2779.5,-255 2779.5,-249 2779.5,-249 2779.5,-205 2779.5,-205 2779.5,-199 2785.5,-193 2791.5,-193 2791.5,-193 2936.5,-193 2936.5,-193 2942.5,-193 2948.5,-199 2948.5,-205 2948.5,-205 2948.5,-249 2948.5,-249 2948.5,-255 2942.5,-261 2936.5,-261\"/>\n<text text-anchor=\"start\" x=\"2787.5\" y=\"-245.8\" font-family=\"Helvetica,sans-Serif\" font-size=\"14.00\">phone_service_Yes ≤ 0.5</text>\n<text text-anchor=\"start\" x=\"2828.5\" y=\"-230.8\" font-family=\"Helvetica,sans-Serif\" font-size=\"14.00\">gini = 0.045</text>\n<text text-anchor=\"start\" x=\"2819\" y=\"-215.8\" font-family=\"Helvetica,sans-Serif\" font-size=\"14.00\">samples = 575</text>\n<text text-anchor=\"start\" x=\"2813.5\" y=\"-200.8\" font-family=\"Helvetica,sans-Serif\" font-size=\"14.00\">value = [852, 20]</text>\n</g>\n<!-- 46&#45;&gt;47 -->\n<g id=\"edge47\" class=\"edge\">\n<title>46&#45;&gt;47</title>\n<path fill=\"none\" stroke=\"black\" d=\"M2864,-296.88C2864,-288.78 2864,-279.98 2864,-271.47\"/>\n<polygon fill=\"black\" stroke=\"black\" points=\"2867.5,-271.3 2864,-261.3 2860.5,-271.3 2867.5,-271.3\"/>\n</g>\n<!-- 52 -->\n<g id=\"node53\" class=\"node\">\n<title>52</title>\n<path fill=\"#e78b49\" stroke=\"black\" d=\"M3214.5,-261C3214.5,-261 3079.5,-261 3079.5,-261 3073.5,-261 3067.5,-255 3067.5,-249 3067.5,-249 3067.5,-205 3067.5,-205 3067.5,-199 3073.5,-193 3079.5,-193 3079.5,-193 3214.5,-193 3214.5,-193 3220.5,-193 3226.5,-199 3226.5,-205 3226.5,-205 3226.5,-249 3226.5,-249 3226.5,-255 3220.5,-261 3214.5,-261\"/>\n<text text-anchor=\"start\" x=\"3075.5\" y=\"-245.8\" font-family=\"Helvetica,sans-Serif\" font-size=\"14.00\">streaming_tv_Yes ≤ 0.5</text>\n<text text-anchor=\"start\" x=\"3111.5\" y=\"-230.8\" font-family=\"Helvetica,sans-Serif\" font-size=\"14.00\">gini = 0.141</text>\n<text text-anchor=\"start\" x=\"3102\" y=\"-215.8\" font-family=\"Helvetica,sans-Serif\" font-size=\"14.00\">samples = 381</text>\n<text text-anchor=\"start\" x=\"3096.5\" y=\"-200.8\" font-family=\"Helvetica,sans-Serif\" font-size=\"14.00\">value = [581, 48]</text>\n</g>\n<!-- 46&#45;&gt;52 -->\n<g id=\"edge52\" class=\"edge\">\n<title>46&#45;&gt;52</title>\n<path fill=\"none\" stroke=\"black\" d=\"M2955.88,-296.88C2988.64,-285.08 3025.46,-271.81 3057.97,-260.09\"/>\n<polygon fill=\"black\" stroke=\"black\" points=\"3059.25,-263.35 3067.47,-256.67 3056.87,-256.76 3059.25,-263.35\"/>\n</g>\n<!-- 48 -->\n<g id=\"node49\" class=\"node\">\n<title>48</title>\n<path fill=\"#e58139\" stroke=\"black\" d=\"M2828,-149.5C2828,-149.5 2750,-149.5 2750,-149.5 2744,-149.5 2738,-143.5 2738,-137.5 2738,-137.5 2738,-108.5 2738,-108.5 2738,-102.5 2744,-96.5 2750,-96.5 2750,-96.5 2828,-96.5 2828,-96.5 2834,-96.5 2840,-102.5 2840,-108.5 2840,-108.5 2840,-137.5 2840,-137.5 2840,-143.5 2834,-149.5 2828,-149.5\"/>\n<text text-anchor=\"start\" x=\"2761\" y=\"-134.3\" font-family=\"Helvetica,sans-Serif\" font-size=\"14.00\">gini = 0.0</text>\n<text text-anchor=\"start\" x=\"2748\" y=\"-119.3\" font-family=\"Helvetica,sans-Serif\" font-size=\"14.00\">samples = 52</text>\n<text text-anchor=\"start\" x=\"2746\" y=\"-104.3\" font-family=\"Helvetica,sans-Serif\" font-size=\"14.00\">value = [82, 0]</text>\n</g>\n<!-- 47&#45;&gt;48 -->\n<g id=\"edge48\" class=\"edge\">\n<title>47&#45;&gt;48</title>\n<path fill=\"none\" stroke=\"black\" d=\"M2839.65,-192.88C2831.4,-181.67 2822.18,-169.13 2813.89,-157.85\"/>\n<polygon fill=\"black\" stroke=\"black\" points=\"2816.51,-155.5 2807.76,-149.52 2810.87,-159.65 2816.51,-155.5\"/>\n</g>\n<!-- 49 -->\n<g id=\"node50\" class=\"node\">\n<title>49</title>\n<path fill=\"#e6843e\" stroke=\"black\" d=\"M3007.5,-157C3007.5,-157 2870.5,-157 2870.5,-157 2864.5,-157 2858.5,-151 2858.5,-145 2858.5,-145 2858.5,-101 2858.5,-101 2858.5,-95 2864.5,-89 2870.5,-89 2870.5,-89 3007.5,-89 3007.5,-89 3013.5,-89 3019.5,-95 3019.5,-101 3019.5,-101 3019.5,-145 3019.5,-145 3019.5,-151 3013.5,-157 3007.5,-157\"/>\n<text text-anchor=\"start\" x=\"2866.5\" y=\"-141.8\" font-family=\"Helvetica,sans-Serif\" font-size=\"14.00\">monthly_charges ≤ 92.3</text>\n<text text-anchor=\"start\" x=\"2903.5\" y=\"-126.8\" font-family=\"Helvetica,sans-Serif\" font-size=\"14.00\">gini = 0.049</text>\n<text text-anchor=\"start\" x=\"2894\" y=\"-111.8\" font-family=\"Helvetica,sans-Serif\" font-size=\"14.00\">samples = 523</text>\n<text text-anchor=\"start\" x=\"2888.5\" y=\"-96.8\" font-family=\"Helvetica,sans-Serif\" font-size=\"14.00\">value = [770, 20]</text>\n</g>\n<!-- 47&#45;&gt;49 -->\n<g id=\"edge49\" class=\"edge\">\n<title>47&#45;&gt;49</title>\n<path fill=\"none\" stroke=\"black\" d=\"M2888.35,-192.88C2894.77,-184.15 2901.78,-174.62 2908.48,-165.51\"/>\n<polygon fill=\"black\" stroke=\"black\" points=\"2911.41,-167.43 2914.52,-157.3 2905.77,-163.28 2911.41,-167.43\"/>\n</g>\n<!-- 50 -->\n<g id=\"node51\" class=\"node\">\n<title>50</title>\n<path fill=\"#e5833d\" stroke=\"black\" d=\"M2897.5,-53C2897.5,-53 2804.5,-53 2804.5,-53 2798.5,-53 2792.5,-47 2792.5,-41 2792.5,-41 2792.5,-12 2792.5,-12 2792.5,-6 2798.5,0 2804.5,0 2804.5,0 2897.5,0 2897.5,0 2903.5,0 2909.5,-6 2909.5,-12 2909.5,-12 2909.5,-41 2909.5,-41 2909.5,-47 2903.5,-53 2897.5,-53\"/>\n<text text-anchor=\"start\" x=\"2815.5\" y=\"-37.8\" font-family=\"Helvetica,sans-Serif\" font-size=\"14.00\">gini = 0.036</text>\n<text text-anchor=\"start\" x=\"2806\" y=\"-22.8\" font-family=\"Helvetica,sans-Serif\" font-size=\"14.00\">samples = 408</text>\n<text text-anchor=\"start\" x=\"2800.5\" y=\"-7.8\" font-family=\"Helvetica,sans-Serif\" font-size=\"14.00\">value = [597, 11]</text>\n</g>\n<!-- 49&#45;&gt;50 -->\n<g id=\"edge50\" class=\"edge\">\n<title>49&#45;&gt;50</title>\n<path fill=\"none\" stroke=\"black\" d=\"M2908.22,-88.95C2899.7,-79.8 2890.46,-69.87 2881.93,-60.71\"/>\n<polygon fill=\"black\" stroke=\"black\" points=\"2884.34,-58.17 2874.97,-53.24 2879.22,-62.94 2884.34,-58.17\"/>\n</g>\n<!-- 51 -->\n<g id=\"node52\" class=\"node\">\n<title>51</title>\n<path fill=\"#e68843\" stroke=\"black\" d=\"M3026,-53C3026,-53 2940,-53 2940,-53 2934,-53 2928,-47 2928,-41 2928,-41 2928,-12 2928,-12 2928,-6 2934,0 2940,0 2940,0 3026,0 3026,0 3032,0 3038,-6 3038,-12 3038,-12 3038,-41 3038,-41 3038,-47 3032,-53 3026,-53\"/>\n<text text-anchor=\"start\" x=\"2947.5\" y=\"-37.8\" font-family=\"Helvetica,sans-Serif\" font-size=\"14.00\">gini = 0.094</text>\n<text text-anchor=\"start\" x=\"2938\" y=\"-22.8\" font-family=\"Helvetica,sans-Serif\" font-size=\"14.00\">samples = 115</text>\n<text text-anchor=\"start\" x=\"2936\" y=\"-7.8\" font-family=\"Helvetica,sans-Serif\" font-size=\"14.00\">value = [173, 9]</text>\n</g>\n<!-- 49&#45;&gt;51 -->\n<g id=\"edge51\" class=\"edge\">\n<title>49&#45;&gt;51</title>\n<path fill=\"none\" stroke=\"black\" d=\"M2954.39,-88.95C2958.39,-80.35 2962.72,-71.06 2966.76,-62.37\"/>\n<polygon fill=\"black\" stroke=\"black\" points=\"2969.97,-63.78 2971.02,-53.24 2963.62,-60.82 2969.97,-63.78\"/>\n</g>\n<!-- 53 -->\n<g id=\"node54\" class=\"node\">\n<title>53</title>\n<path fill=\"#e6853f\" stroke=\"black\" d=\"M3219,-157C3219,-157 3075,-157 3075,-157 3069,-157 3063,-151 3063,-145 3063,-145 3063,-101 3063,-101 3063,-95 3069,-89 3075,-89 3075,-89 3219,-89 3219,-89 3225,-89 3231,-95 3231,-101 3231,-101 3231,-145 3231,-145 3231,-151 3225,-157 3219,-157\"/>\n<text text-anchor=\"start\" x=\"3071\" y=\"-141.8\" font-family=\"Helvetica,sans-Serif\" font-size=\"14.00\">online_backup_Yes ≤ 0.5</text>\n<text text-anchor=\"start\" x=\"3111.5\" y=\"-126.8\" font-family=\"Helvetica,sans-Serif\" font-size=\"14.00\">gini = 0.057</text>\n<text text-anchor=\"start\" x=\"3102\" y=\"-111.8\" font-family=\"Helvetica,sans-Serif\" font-size=\"14.00\">samples = 228</text>\n<text text-anchor=\"start\" x=\"3096.5\" y=\"-96.8\" font-family=\"Helvetica,sans-Serif\" font-size=\"14.00\">value = [367, 11]</text>\n</g>\n<!-- 52&#45;&gt;53 -->\n<g id=\"edge53\" class=\"edge\">\n<title>52&#45;&gt;53</title>\n<path fill=\"none\" stroke=\"black\" d=\"M3147,-192.88C3147,-184.78 3147,-175.98 3147,-167.47\"/>\n<polygon fill=\"black\" stroke=\"black\" points=\"3150.5,-167.3 3147,-157.3 3143.5,-167.3 3150.5,-167.3\"/>\n</g>\n<!-- 56 -->\n<g id=\"node57\" class=\"node\">\n<title>56</title>\n<path fill=\"#e9975b\" stroke=\"black\" d=\"M3443.5,-157C3443.5,-157 3298.5,-157 3298.5,-157 3292.5,-157 3286.5,-151 3286.5,-145 3286.5,-145 3286.5,-101 3286.5,-101 3286.5,-95 3292.5,-89 3298.5,-89 3298.5,-89 3443.5,-89 3443.5,-89 3449.5,-89 3455.5,-95 3455.5,-101 3455.5,-101 3455.5,-145 3455.5,-145 3455.5,-151 3449.5,-157 3443.5,-157\"/>\n<text text-anchor=\"start\" x=\"3294.5\" y=\"-141.8\" font-family=\"Helvetica,sans-Serif\" font-size=\"14.00\">monthly_charges ≤ 117.5</text>\n<text text-anchor=\"start\" x=\"3335.5\" y=\"-126.8\" font-family=\"Helvetica,sans-Serif\" font-size=\"14.00\">gini = 0.251</text>\n<text text-anchor=\"start\" x=\"3326\" y=\"-111.8\" font-family=\"Helvetica,sans-Serif\" font-size=\"14.00\">samples = 153</text>\n<text text-anchor=\"start\" x=\"3320.5\" y=\"-96.8\" font-family=\"Helvetica,sans-Serif\" font-size=\"14.00\">value = [214, 37]</text>\n</g>\n<!-- 52&#45;&gt;56 -->\n<g id=\"edge56\" class=\"edge\">\n<title>52&#45;&gt;56</title>\n<path fill=\"none\" stroke=\"black\" d=\"M3219.73,-192.88C3241.85,-182.81 3266.3,-171.67 3288.99,-161.34\"/>\n<polygon fill=\"black\" stroke=\"black\" points=\"3290.61,-164.45 3298.26,-157.12 3287.7,-158.08 3290.61,-164.45\"/>\n</g>\n<!-- 54 -->\n<g id=\"node55\" class=\"node\">\n<title>54</title>\n<path fill=\"#e6843d\" stroke=\"black\" d=\"M3154,-53C3154,-53 3068,-53 3068,-53 3062,-53 3056,-47 3056,-41 3056,-41 3056,-12 3056,-12 3056,-6 3062,0 3068,0 3068,0 3154,0 3154,0 3160,0 3166,-6 3166,-12 3166,-12 3166,-41 3166,-41 3166,-47 3160,-53 3154,-53\"/>\n<text text-anchor=\"start\" x=\"3075.5\" y=\"-37.8\" font-family=\"Helvetica,sans-Serif\" font-size=\"14.00\">gini = 0.043</text>\n<text text-anchor=\"start\" x=\"3066\" y=\"-22.8\" font-family=\"Helvetica,sans-Serif\" font-size=\"14.00\">samples = 165</text>\n<text text-anchor=\"start\" x=\"3064\" y=\"-7.8\" font-family=\"Helvetica,sans-Serif\" font-size=\"14.00\">value = [266, 6]</text>\n</g>\n<!-- 53&#45;&gt;54 -->\n<g id=\"edge54\" class=\"edge\">\n<title>53&#45;&gt;54</title>\n<path fill=\"none\" stroke=\"black\" d=\"M3134.41,-88.95C3131.17,-80.44 3127.67,-71.26 3124.39,-62.65\"/>\n<polygon fill=\"black\" stroke=\"black\" points=\"3127.64,-61.34 3120.8,-53.24 3121.09,-63.83 3127.64,-61.34\"/>\n</g>\n<!-- 55 -->\n<g id=\"node56\" class=\"node\">\n<title>55</title>\n<path fill=\"#e68743\" stroke=\"black\" d=\"M3282,-53C3282,-53 3196,-53 3196,-53 3190,-53 3184,-47 3184,-41 3184,-41 3184,-12 3184,-12 3184,-6 3190,0 3196,0 3196,0 3282,0 3282,0 3288,0 3294,-6 3294,-12 3294,-12 3294,-41 3294,-41 3294,-47 3288,-53 3282,-53\"/>\n<text text-anchor=\"start\" x=\"3207\" y=\"-37.8\" font-family=\"Helvetica,sans-Serif\" font-size=\"14.00\">gini = 0.09</text>\n<text text-anchor=\"start\" x=\"3198\" y=\"-22.8\" font-family=\"Helvetica,sans-Serif\" font-size=\"14.00\">samples = 63</text>\n<text text-anchor=\"start\" x=\"3192\" y=\"-7.8\" font-family=\"Helvetica,sans-Serif\" font-size=\"14.00\">value = [101, 5]</text>\n</g>\n<!-- 53&#45;&gt;55 -->\n<g id=\"edge55\" class=\"edge\">\n<title>53&#45;&gt;55</title>\n<path fill=\"none\" stroke=\"black\" d=\"M3179.18,-88.95C3188.17,-79.71 3197.94,-69.67 3206.93,-60.44\"/>\n<polygon fill=\"black\" stroke=\"black\" points=\"3209.48,-62.84 3213.94,-53.24 3204.46,-57.96 3209.48,-62.84\"/>\n</g>\n<!-- 57 -->\n<g id=\"node58\" class=\"node\">\n<title>57</title>\n<path fill=\"#e99558\" stroke=\"black\" d=\"M3417.5,-53C3417.5,-53 3324.5,-53 3324.5,-53 3318.5,-53 3312.5,-47 3312.5,-41 3312.5,-41 3312.5,-12 3312.5,-12 3312.5,-6 3318.5,0 3324.5,0 3324.5,0 3417.5,0 3417.5,0 3423.5,0 3429.5,-6 3429.5,-12 3429.5,-12 3429.5,-41 3429.5,-41 3429.5,-47 3423.5,-53 3417.5,-53\"/>\n<text text-anchor=\"start\" x=\"3335.5\" y=\"-37.8\" font-family=\"Helvetica,sans-Serif\" font-size=\"14.00\">gini = 0.237</text>\n<text text-anchor=\"start\" x=\"3326\" y=\"-22.8\" font-family=\"Helvetica,sans-Serif\" font-size=\"14.00\">samples = 152</text>\n<text text-anchor=\"start\" x=\"3320.5\" y=\"-7.8\" font-family=\"Helvetica,sans-Serif\" font-size=\"14.00\">value = [214, 34]</text>\n</g>\n<!-- 56&#45;&gt;57 -->\n<g id=\"edge57\" class=\"edge\">\n<title>56&#45;&gt;57</title>\n<path fill=\"none\" stroke=\"black\" d=\"M3371,-88.95C3371,-80.72 3371,-71.85 3371,-63.48\"/>\n<polygon fill=\"black\" stroke=\"black\" points=\"3374.5,-63.24 3371,-53.24 3367.5,-63.24 3374.5,-63.24\"/>\n</g>\n<!-- 58 -->\n<g id=\"node59\" class=\"node\">\n<title>58</title>\n<path fill=\"#399de5\" stroke=\"black\" d=\"M3530.5,-53C3530.5,-53 3459.5,-53 3459.5,-53 3453.5,-53 3447.5,-47 3447.5,-41 3447.5,-41 3447.5,-12 3447.5,-12 3447.5,-6 3453.5,0 3459.5,0 3459.5,0 3530.5,0 3530.5,0 3536.5,0 3542.5,-6 3542.5,-12 3542.5,-12 3542.5,-41 3542.5,-41 3542.5,-47 3536.5,-53 3530.5,-53\"/>\n<text text-anchor=\"start\" x=\"3467\" y=\"-37.8\" font-family=\"Helvetica,sans-Serif\" font-size=\"14.00\">gini = 0.0</text>\n<text text-anchor=\"start\" x=\"3457.5\" y=\"-22.8\" font-family=\"Helvetica,sans-Serif\" font-size=\"14.00\">samples = 1</text>\n<text text-anchor=\"start\" x=\"3455.5\" y=\"-7.8\" font-family=\"Helvetica,sans-Serif\" font-size=\"14.00\">value = [0, 3]</text>\n</g>\n<!-- 56&#45;&gt;58 -->\n<g id=\"edge58\" class=\"edge\">\n<title>56&#45;&gt;58</title>\n<path fill=\"none\" stroke=\"black\" d=\"M3414.37,-88.95C3426.97,-79.34 3440.71,-68.87 3453.21,-59.34\"/>\n<polygon fill=\"black\" stroke=\"black\" points=\"3455.4,-62.08 3461.23,-53.24 3451.15,-56.51 3455.4,-62.08\"/>\n</g>\n</g>\n</svg>\n",
      "text/plain": [
       "<graphviz.sources.Source at 0x7fae8084b9d0>"
      ]
     },
     "execution_count": 93,
     "metadata": {},
     "output_type": "execute_result"
    }
   ],
   "source": [
    "rf1_estimator = telco_rf1.estimators_[28] # Random tree can be selected by changing index on estimator\n",
    "rf1_data = export_graphviz(rf1_estimator, out_file=None, feature_names=X_train.columns, filled=True, rounded=True, special_characters=True)\n",
    "rf1_graph = graphviz.Source(rf1_data)\n",
    "rf1_graph\n"
   ]
  },
  {
   "cell_type": "code",
   "execution_count": 100,
   "metadata": {},
   "outputs": [
    {
     "data": {
      "text/plain": [
       "array([[0.93216992, 0.06783008],\n",
       "       [0.95637826, 0.04362174],\n",
       "       [0.64984209, 0.35015791],\n",
       "       ...,\n",
       "       [0.9546096 , 0.0453904 ],\n",
       "       [0.78939923, 0.21060077],\n",
       "       [0.88906262, 0.11093738]])"
      ]
     },
     "execution_count": 100,
     "metadata": {},
     "output_type": "execute_result"
    }
   ],
   "source": [
    "telco_rf2 = RandomForestClassifier(n_estimators=1000, max_depth=4, random_state=302)\n",
    "telco_rf2.fit(X_train, y_train)\n",
    "\n",
    "rf2_pred = telco_rf2.predict(X_train)\n",
    "rf2_prob = telco_rf2.predict_proba(X_train)\n",
    "\n",
    "rf2_prob"
   ]
  },
  {
   "cell_type": "code",
   "execution_count": 101,
   "metadata": {},
   "outputs": [
    {
     "name": "stdout",
     "output_type": "stream",
     "text": [
      "Accuracy score for Random Forest 2: 0.7967995935991872\n",
      "Confusion matrix for Random Forest 2:\n",
      "[[2732  159]\n",
      " [ 641  405]]\n",
      "Classification report for Random Forest 2:\n",
      "              precision    recall  f1-score   support\n",
      "\n",
      "           0       0.81      0.95      0.87      2891\n",
      "           1       0.72      0.39      0.50      1046\n",
      "\n",
      "    accuracy                           0.80      3937\n",
      "   macro avg       0.76      0.67      0.69      3937\n",
      "weighted avg       0.79      0.80      0.77      3937\n",
      "\n"
     ]
    }
   ],
   "source": [
    "print(f'Accuracy score for Random Forest 2: {telco_rf2.score(X_train, y_train)}')\n",
    "print(f'Confusion matrix for Random Forest 2:\\n{confusion_matrix(y_train, rf2_pred)}')\n",
    "print(f'Classification report for Random Forest 2:\\n{classification_report(y_train, rf2_pred)}')"
   ]
  },
  {
   "cell_type": "code",
   "execution_count": 102,
   "metadata": {},
   "outputs": [
    {
     "data": {
      "text/plain": [
       "array([[0.90313172, 0.09686828],\n",
       "       [0.92847697, 0.07152303],\n",
       "       [0.67409884, 0.32590116],\n",
       "       ...,\n",
       "       [0.92692061, 0.07307939],\n",
       "       [0.7512498 , 0.2487502 ],\n",
       "       [0.86808902, 0.13191098]])"
      ]
     },
     "execution_count": 102,
     "metadata": {},
     "output_type": "execute_result"
    }
   ],
   "source": [
    "telco_rf3 = RandomForestClassifier(n_estimators=500, max_depth=3, random_state=302)\n",
    "telco_rf3.fit(X_train, y_train)\n",
    "\n",
    "rf3_pred = telco_rf3.predict(X_train)\n",
    "rf3_prob = telco_rf3.predict_proba(X_train)\n",
    "\n",
    "rf3_prob"
   ]
  },
  {
   "cell_type": "code",
   "execution_count": 103,
   "metadata": {},
   "outputs": [
    {
     "name": "stdout",
     "output_type": "stream",
     "text": [
      "Accuracy score for Random Forest 3: 0.7907035814071628\n",
      "Confusion matrix for Random Forest 3:\n",
      "[[2758  133]\n",
      " [ 691  355]]\n",
      "Classification report for Random Forest 3:\n",
      "              precision    recall  f1-score   support\n",
      "\n",
      "           0       0.80      0.95      0.87      2891\n",
      "           1       0.73      0.34      0.46      1046\n",
      "\n",
      "    accuracy                           0.79      3937\n",
      "   macro avg       0.76      0.65      0.67      3937\n",
      "weighted avg       0.78      0.79      0.76      3937\n",
      "\n"
     ]
    }
   ],
   "source": [
    "print(f'Accuracy score for Random Forest 3: {telco_rf3.score(X_train, y_train)}')\n",
    "print(f'Confusion matrix for Random Forest 3:\\n{confusion_matrix(y_train, rf3_pred)}')\n",
    "print(f'Classification report for Random Forest 3:\\n{classification_report(y_train, rf3_pred)}')"
   ]
  }
 ],
 "metadata": {
  "interpreter": {
   "hash": "38cca0c38332a56087b24af0bc80247f4fced29cb4f7f437d91dc159adec9c4e"
  },
  "kernelspec": {
   "display_name": "Python 3.9.7 ('base')",
   "language": "python",
   "name": "python3"
  },
  "language_info": {
   "codemirror_mode": {
    "name": "ipython",
    "version": 3
   },
   "file_extension": ".py",
   "mimetype": "text/x-python",
   "name": "python",
   "nbconvert_exporter": "python",
   "pygments_lexer": "ipython3",
   "version": "3.9.7"
  },
  "orig_nbformat": 4
 },
 "nbformat": 4,
 "nbformat_minor": 2
}
